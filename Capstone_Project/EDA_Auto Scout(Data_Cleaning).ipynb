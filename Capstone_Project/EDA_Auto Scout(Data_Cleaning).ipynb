{
 "cells": [
  {
   "cell_type": "markdown",
   "metadata": {
    "id": "Bv1I7_aas1L3"
   },
   "source": [
    "___\n",
    "\n",
    "<p style=\"text-align: center;\"><img src=\"https://docs.google.com/uc?id=1lY0Uj5R04yMY3-ZppPWxqCr5pvBLYPnV\" class=\"img-fluid\" \n",
    "alt=\"CLRSWY\"></p>\n",
    "\n",
    "## <p style=\"background-color:#FDFEFE; font-family:newtimeroman; color:#9d4f8c; font-size:100%; text-align:center; border-radius:10px 10px;\">WAY TO REINVENT YOURSELF</p>"
   ]
  },
  {
   "cell_type": "markdown",
   "metadata": {
    "id": "Bkw3_pB0s1L-"
   },
   "source": [
    "<img src=https://i.ibb.co/wJW61Y2/Used-cars.jpg width=\"700\" height=\"200\">\n",
    "\n",
    "<p style=\"background-color:#FDFEFE; font-family:newtimeroman; color:#060108; font-size:200%; text-align:center; border-radius:10px 10px;\">The Capstone Project of Data Analytics Module</p>\n",
    "\n",
    "<p style=\"background-color:#FDFEFE; font-family:newtimeroman; color:#060108; font-size:150%; text-align:center; border-radius:10px 10px;\">Car Price Prediction EDA</p>"
   ]
  },
  {
   "cell_type": "markdown",
   "metadata": {
    "id": "Z_oWczxZs1MA"
   },
   "source": [
    "## Introduction\n",
    "Welcome to \"***AutoScout Data Analysis Project***\". This is the capstone project of ***Data Analysis*** Module. **Auto Scout** data which using for this project, scraped from the on-line car trading company in 2019, contains many features of 9 different car models. In this project, you will have the opportunity to apply many commonly used algorithms for Data Cleaning and Exploratory Data Analysis by using many Python libraries such as Numpy, Pandas, Matplotlib, Seaborn, Scipy you will analyze clean dataset.\n",
    "\n",
    "### Some Reminders on Exploratory data analysis (EDA)\n",
    "\n",
    "Exploratory data analysis (EDA) is an especially important activity in the routine of a data analyst or scientist. It enables an in depth understanding of the dataset, define or discard hypotheses and create predictive models on a solid basis. It uses data manipulation techniques and several statistical tools to describe and understand the relationship between variables and how these can impact business. By means of EDA, we can obtain meaningful insights that can impact analysis under the following questions (If a checklist is good enough for pilots to use every flight, it’s good enough for data scientists to use with every dataset).\n",
    "1. What question are you trying to solve (or prove wrong)?\n",
    "2. What kind of data do you have?\n",
    "3. What’s missing from the data?\n",
    "4. Where are the outliers?\n",
    "5. How can you add, change or remove features to get more out of your data?\n",
    "\n",
    "**``Exploratory data analysis (EDA)``** is often an **iterative brainstorming process** where you pose a question, review the data, and develop further questions to investigate before beginning model development work. The image below shows how the brainstorming phase is connected with that of understanding the variables and how this in turn is connected again with the brainstorming phase.<br>\n",
    "\n",
    "<img src=https://i.ibb.co/k0MC950/EDA-Process.png width=\"300\" height=\"100\">\n",
    "\n",
    "[Image Credit: Andrew D.](https://towardsdatascience.com/exploratory-data-analysis-in-python-a-step-by-step-process-d0dfa6bf94ee)\n",
    "\n",
    "**``In this context, the project consists of 3 parts in general:``**\n",
    "* **The first part** is related to 'Data Cleaning'. It deals with Incorrect Headers, Incorrect Format, Anomalies, and Dropping useless columns.\n",
    "* **The second part** is related to 'Filling Data', in other words 'Imputation'. It deals with Missing Values. Categorical to numeric transformation is done as well.\n",
    "* **The third part** is related to 'Handling Outliers of Data' via Visualization libraries. So, some insights will be extracted.\n",
    "\n",
    "**``NOTE:``**  However, you are free to create your own style. You do NOT have to stick to the steps above. We, the DA & DV instructors, recommend you study each part separately to create a source notebook for each part title for your further studies. "
   ]
  },
  {
   "cell_type": "markdown",
   "metadata": {
    "id": "vvgJ5KWTs1MB"
   },
   "source": [
    "# PART- 1 `( Data Cleaning )`"
   ]
  },
  {
   "cell_type": "code",
   "execution_count": 198,
   "metadata": {
    "id": "Y13_gId7s1MC"
   },
   "outputs": [],
   "source": [
    "import numpy as np\n",
    "import pandas as pd\n",
    "from skimpy import clean_columns\n",
    "\n",
    "import seaborn as sns\n",
    "import matplotlib.pyplot as plt\n",
    "from scipy import stats\n",
    "from pylab import rcParams\n",
    "\n",
    "import re\n",
    "\n",
    "# The maximum width in characters of a column\n",
    "pd.set_option('display.max_colwidth', 80)\n",
    "\n",
    "# To display maximum columns\n",
    "pd.set_option('display.max_columns', None)\n",
    "\n",
    "# To display maximum rows\n",
    "pd.set_option('display.max_rows',100)\n",
    "\n",
    "import warnings\n",
    "warnings.simplefilter(action='ignore', category=Warning)"
   ]
  },
  {
   "cell_type": "markdown",
   "metadata": {},
   "source": [
    "## Reading the Data from File"
   ]
  },
  {
   "cell_type": "code",
   "execution_count": 199,
   "metadata": {},
   "outputs": [],
   "source": [
    "df_= pd.read_json(\"scout_car.json\", lines=True)\n",
    "df=df_.copy()"
   ]
  },
  {
   "cell_type": "code",
   "execution_count": 200,
   "metadata": {},
   "outputs": [
    {
     "data": {
      "text/plain": [
       "(15919, 54)"
      ]
     },
     "execution_count": 200,
     "metadata": {},
     "output_type": "execute_result"
    }
   ],
   "source": [
    "df.shape"
   ]
  },
  {
   "cell_type": "code",
   "execution_count": 201,
   "metadata": {},
   "outputs": [
    {
     "name": "stdout",
     "output_type": "stream",
     "text": [
      "<class 'pandas.core.frame.DataFrame'>\n",
      "RangeIndex: 15919 entries, 0 to 15918\n",
      "Data columns (total 54 columns):\n",
      " #   Column                         Non-Null Count  Dtype  \n",
      "---  ------                         --------------  -----  \n",
      " 0   url                            15919 non-null  object \n",
      " 1   make_model                     15919 non-null  object \n",
      " 2   short_description              15873 non-null  object \n",
      " 3   body_type                      15859 non-null  object \n",
      " 4   price                          15919 non-null  int64  \n",
      " 5   vat                            11406 non-null  object \n",
      " 6   km                             15919 non-null  object \n",
      " 7   registration                   15919 non-null  object \n",
      " 8   prev_owner                     9091 non-null   object \n",
      " 9   kW                             0 non-null      float64\n",
      " 10  hp                             15919 non-null  object \n",
      " 11  Type                           15917 non-null  object \n",
      " 12  Previous Owners                9279 non-null   object \n",
      " 13  Next Inspection                3535 non-null   object \n",
      " 14  Inspection new                 3932 non-null   object \n",
      " 15  Warranty                       10499 non-null  object \n",
      " 16  Full Service                   8215 non-null   object \n",
      " 17  Non-smoking Vehicle            7177 non-null   object \n",
      " 18  null                           15919 non-null  object \n",
      " 19  Make                           15919 non-null  object \n",
      " 20  Model                          15919 non-null  object \n",
      " 21  Offer Number                   12744 non-null  object \n",
      " 22  First Registration             14322 non-null  object \n",
      " 23  Body Color                     15322 non-null  object \n",
      " 24  Paint Type                     10147 non-null  object \n",
      " 25  Body Color Original            12160 non-null  object \n",
      " 26  Upholstery                     12199 non-null  object \n",
      " 27  Body                           15859 non-null  object \n",
      " 28  Nr. of Doors                   15707 non-null  object \n",
      " 29  Nr. of Seats                   14942 non-null  object \n",
      " 30  Model Code                     4978 non-null   object \n",
      " 31  Gearing Type                   15919 non-null  object \n",
      " 32  Displacement                   15423 non-null  object \n",
      " 33  Cylinders                      10239 non-null  object \n",
      " 34  Weight                         8945 non-null   object \n",
      " 35  Drive chain                    9061 non-null   object \n",
      " 36  Fuel                           15919 non-null  object \n",
      " 37  Consumption                    14013 non-null  object \n",
      " 38  CO2 Emission                   14111 non-null  object \n",
      " 39  Emission Class                 12898 non-null  object \n",
      " 40  \n",
      "Comfort & Convenience\n",
      "        14999 non-null  object \n",
      " 41  \n",
      "Entertainment & Media\n",
      "        14545 non-null  object \n",
      " 42  \n",
      "Extras\n",
      "                       12957 non-null  object \n",
      " 43  \n",
      "Safety & Security\n",
      "            14937 non-null  object \n",
      " 44  description                    15919 non-null  object \n",
      " 45  Emission Label                 3985 non-null   object \n",
      " 46  Gears                          11207 non-null  object \n",
      " 47  Country version                7586 non-null   object \n",
      " 48  Electricity consumption        137 non-null    object \n",
      " 49  Last Service Date              566 non-null    object \n",
      " 50  Other Fuel Types               880 non-null    object \n",
      " 51  Availability                   635 non-null    object \n",
      " 52  Last Timing Belt Service Date  16 non-null     object \n",
      " 53  Available from                 272 non-null    object \n",
      "dtypes: float64(1), int64(1), object(52)\n",
      "memory usage: 6.6+ MB\n"
     ]
    }
   ],
   "source": [
    "df.info()"
   ]
  },
  {
   "cell_type": "code",
   "execution_count": 202,
   "metadata": {},
   "outputs": [
    {
     "data": {
      "text/html": [
       "<div>\n",
       "<style scoped>\n",
       "    .dataframe tbody tr th:only-of-type {\n",
       "        vertical-align: middle;\n",
       "    }\n",
       "\n",
       "    .dataframe tbody tr th {\n",
       "        vertical-align: top;\n",
       "    }\n",
       "\n",
       "    .dataframe thead th {\n",
       "        text-align: right;\n",
       "    }\n",
       "</style>\n",
       "<table border=\"1\" class=\"dataframe\">\n",
       "  <thead>\n",
       "    <tr style=\"text-align: right;\">\n",
       "      <th></th>\n",
       "      <th>0</th>\n",
       "      <th>1</th>\n",
       "      <th>2</th>\n",
       "    </tr>\n",
       "  </thead>\n",
       "  <tbody>\n",
       "    <tr>\n",
       "      <th>url</th>\n",
       "      <td>https://www.autoscout24.com//offers/audi-a1-sportback-1-4-tdi-s-tronic-xenon...</td>\n",
       "      <td>https://www.autoscout24.com//offers/audi-a1-1-8-tfsi-sport-gasoline-red-b254...</td>\n",
       "      <td>https://www.autoscout24.com//offers/audi-a1-sportback-1-6-tdi-s-tronic-einpa...</td>\n",
       "    </tr>\n",
       "    <tr>\n",
       "      <th>make_model</th>\n",
       "      <td>Audi A1</td>\n",
       "      <td>Audi A1</td>\n",
       "      <td>Audi A1</td>\n",
       "    </tr>\n",
       "    <tr>\n",
       "      <th>short_description</th>\n",
       "      <td>Sportback 1.4 TDI S-tronic Xenon Navi Klima</td>\n",
       "      <td>1.8 TFSI sport</td>\n",
       "      <td>Sportback 1.6 TDI S tronic Einparkhilfe plus+music</td>\n",
       "    </tr>\n",
       "    <tr>\n",
       "      <th>body_type</th>\n",
       "      <td>Sedans</td>\n",
       "      <td>Sedans</td>\n",
       "      <td>Sedans</td>\n",
       "    </tr>\n",
       "    <tr>\n",
       "      <th>price</th>\n",
       "      <td>15770</td>\n",
       "      <td>14500</td>\n",
       "      <td>14640</td>\n",
       "    </tr>\n",
       "    <tr>\n",
       "      <th>vat</th>\n",
       "      <td>VAT deductible</td>\n",
       "      <td>Price negotiable</td>\n",
       "      <td>VAT deductible</td>\n",
       "    </tr>\n",
       "    <tr>\n",
       "      <th>km</th>\n",
       "      <td>56,013 km</td>\n",
       "      <td>80,000 km</td>\n",
       "      <td>83,450 km</td>\n",
       "    </tr>\n",
       "    <tr>\n",
       "      <th>registration</th>\n",
       "      <td>01/2016</td>\n",
       "      <td>03/2017</td>\n",
       "      <td>02/2016</td>\n",
       "    </tr>\n",
       "    <tr>\n",
       "      <th>prev_owner</th>\n",
       "      <td>2 previous owners</td>\n",
       "      <td>None</td>\n",
       "      <td>1 previous owner</td>\n",
       "    </tr>\n",
       "    <tr>\n",
       "      <th>kW</th>\n",
       "      <td>NaN</td>\n",
       "      <td>NaN</td>\n",
       "      <td>NaN</td>\n",
       "    </tr>\n",
       "    <tr>\n",
       "      <th>hp</th>\n",
       "      <td>66 kW</td>\n",
       "      <td>141 kW</td>\n",
       "      <td>85 kW</td>\n",
       "    </tr>\n",
       "    <tr>\n",
       "      <th>Type</th>\n",
       "      <td>[, Used, , Diesel (Particulate Filter)]</td>\n",
       "      <td>[, Used, , Gasoline]</td>\n",
       "      <td>[, Used, , Diesel (Particulate Filter)]</td>\n",
       "    </tr>\n",
       "    <tr>\n",
       "      <th>Previous Owners</th>\n",
       "      <td>\\n2\\n</td>\n",
       "      <td>NaN</td>\n",
       "      <td>\\n1\\n</td>\n",
       "    </tr>\n",
       "    <tr>\n",
       "      <th>Next Inspection</th>\n",
       "      <td>[\\n06/2021\\n, \\n99 g CO2/km (comb)\\n]</td>\n",
       "      <td>NaN</td>\n",
       "      <td>NaN</td>\n",
       "    </tr>\n",
       "    <tr>\n",
       "      <th>Inspection new</th>\n",
       "      <td>[\\nYes\\n, \\nEuro 6\\n]</td>\n",
       "      <td>NaN</td>\n",
       "      <td>NaN</td>\n",
       "    </tr>\n",
       "    <tr>\n",
       "      <th>Warranty</th>\n",
       "      <td>[\\n, \\n, \\n4 (Green)\\n]</td>\n",
       "      <td>NaN</td>\n",
       "      <td>[\\n, \\n, \\n99 g CO2/km (comb)\\n]</td>\n",
       "    </tr>\n",
       "    <tr>\n",
       "      <th>Full Service</th>\n",
       "      <td>[\\n, \\n]</td>\n",
       "      <td>NaN</td>\n",
       "      <td>NaN</td>\n",
       "    </tr>\n",
       "    <tr>\n",
       "      <th>Non-smoking Vehicle</th>\n",
       "      <td>[\\n, \\n]</td>\n",
       "      <td>NaN</td>\n",
       "      <td>NaN</td>\n",
       "    </tr>\n",
       "    <tr>\n",
       "      <th>null</th>\n",
       "      <td>[]</td>\n",
       "      <td>[]</td>\n",
       "      <td>[]</td>\n",
       "    </tr>\n",
       "    <tr>\n",
       "      <th>Make</th>\n",
       "      <td>\\nAudi\\n</td>\n",
       "      <td>\\nAudi\\n</td>\n",
       "      <td>\\nAudi\\n</td>\n",
       "    </tr>\n",
       "    <tr>\n",
       "      <th>Model</th>\n",
       "      <td>[\\n, A1, \\n]</td>\n",
       "      <td>[\\n, A1, \\n]</td>\n",
       "      <td>[\\n, A1, \\n]</td>\n",
       "    </tr>\n",
       "    <tr>\n",
       "      <th>Offer Number</th>\n",
       "      <td>[\\nLR-062483\\n]</td>\n",
       "      <td>NaN</td>\n",
       "      <td>[\\nAM-95365\\n]</td>\n",
       "    </tr>\n",
       "    <tr>\n",
       "      <th>First Registration</th>\n",
       "      <td>[\\n, 2016, \\n]</td>\n",
       "      <td>[\\n, 2017, \\n]</td>\n",
       "      <td>[\\n, 2016, \\n]</td>\n",
       "    </tr>\n",
       "    <tr>\n",
       "      <th>Body Color</th>\n",
       "      <td>[\\n, Black, \\n]</td>\n",
       "      <td>[\\n, Red, \\n]</td>\n",
       "      <td>[\\n, Black, \\n]</td>\n",
       "    </tr>\n",
       "    <tr>\n",
       "      <th>Paint Type</th>\n",
       "      <td>[\\nMetallic\\n]</td>\n",
       "      <td>NaN</td>\n",
       "      <td>[\\nMetallic\\n]</td>\n",
       "    </tr>\n",
       "    <tr>\n",
       "      <th>Body Color Original</th>\n",
       "      <td>[\\nMythosschwarz\\n]</td>\n",
       "      <td>NaN</td>\n",
       "      <td>[\\nmythosschwarz metallic\\n]</td>\n",
       "    </tr>\n",
       "    <tr>\n",
       "      <th>Upholstery</th>\n",
       "      <td>[\\nCloth, Black\\n]</td>\n",
       "      <td>[\\nCloth, Grey\\n]</td>\n",
       "      <td>[\\nCloth, Black\\n]</td>\n",
       "    </tr>\n",
       "    <tr>\n",
       "      <th>Body</th>\n",
       "      <td>[\\n, Sedans, \\n]</td>\n",
       "      <td>[\\n, Sedans, \\n]</td>\n",
       "      <td>[\\n, Sedans, \\n]</td>\n",
       "    </tr>\n",
       "    <tr>\n",
       "      <th>Nr. of Doors</th>\n",
       "      <td>[\\n5\\n]</td>\n",
       "      <td>[\\n3\\n]</td>\n",
       "      <td>[\\n4\\n]</td>\n",
       "    </tr>\n",
       "    <tr>\n",
       "      <th>Nr. of Seats</th>\n",
       "      <td>[\\n5\\n]</td>\n",
       "      <td>[\\n4\\n]</td>\n",
       "      <td>[\\n4\\n]</td>\n",
       "    </tr>\n",
       "    <tr>\n",
       "      <th>Model Code</th>\n",
       "      <td>[\\n0588/BDF\\n]</td>\n",
       "      <td>[\\n0588/BCY\\n]</td>\n",
       "      <td>NaN</td>\n",
       "    </tr>\n",
       "    <tr>\n",
       "      <th>Gearing Type</th>\n",
       "      <td>[\\n, Automatic, \\n]</td>\n",
       "      <td>[\\n, Automatic, \\n]</td>\n",
       "      <td>[\\n, Automatic, \\n]</td>\n",
       "    </tr>\n",
       "    <tr>\n",
       "      <th>Displacement</th>\n",
       "      <td>[\\n1,422 cc\\n]</td>\n",
       "      <td>[\\n1,798 cc\\n]</td>\n",
       "      <td>[\\n1,598 cc\\n]</td>\n",
       "    </tr>\n",
       "    <tr>\n",
       "      <th>Cylinders</th>\n",
       "      <td>[\\n3\\n]</td>\n",
       "      <td>[\\n4\\n]</td>\n",
       "      <td>NaN</td>\n",
       "    </tr>\n",
       "    <tr>\n",
       "      <th>Weight</th>\n",
       "      <td>[\\n1,220 kg\\n]</td>\n",
       "      <td>[\\n1,255 kg\\n]</td>\n",
       "      <td>NaN</td>\n",
       "    </tr>\n",
       "    <tr>\n",
       "      <th>Drive chain</th>\n",
       "      <td>[\\nfront\\n]</td>\n",
       "      <td>[\\nfront\\n]</td>\n",
       "      <td>[\\nfront\\n]</td>\n",
       "    </tr>\n",
       "    <tr>\n",
       "      <th>Fuel</th>\n",
       "      <td>[\\n, Diesel (Particulate Filter), \\n]</td>\n",
       "      <td>[\\n, Gasoline, \\n]</td>\n",
       "      <td>[\\n, Diesel (Particulate Filter), \\n]</td>\n",
       "    </tr>\n",
       "    <tr>\n",
       "      <th>Consumption</th>\n",
       "      <td>[[3.8 l/100 km (comb)], [4.3 l/100 km (city)], [3.5 l/100 km (country)]]</td>\n",
       "      <td>[[5.6 l/100 km (comb)], [7.1 l/100 km (city)], [4.7 l/100 km (country)]]</td>\n",
       "      <td>[[3.8 l/100 km (comb)], [4.4 l/100 km (city)], [3.4 l/100 km (country)]]</td>\n",
       "    </tr>\n",
       "    <tr>\n",
       "      <th>CO2 Emission</th>\n",
       "      <td>[\\n99 g CO2/km (comb)\\n]</td>\n",
       "      <td>[\\n129 g CO2/km (comb)\\n]</td>\n",
       "      <td>[\\n99 g CO2/km (comb)\\n]</td>\n",
       "    </tr>\n",
       "    <tr>\n",
       "      <th>Emission Class</th>\n",
       "      <td>[\\nEuro 6\\n]</td>\n",
       "      <td>[\\nEuro 6\\n]</td>\n",
       "      <td>[\\nEuro 6\\n]</td>\n",
       "    </tr>\n",
       "    <tr>\n",
       "      <th>\\nComfort &amp; Convenience\\n</th>\n",
       "      <td>[Air conditioning, Armrest, Automatic climate control, Cruise control, Elect...</td>\n",
       "      <td>[Air conditioning, Automatic climate control, Hill Holder, Leather steering ...</td>\n",
       "      <td>[Air conditioning, Cruise control, Electrical side mirrors, Hill Holder, Lea...</td>\n",
       "    </tr>\n",
       "    <tr>\n",
       "      <th>\\nEntertainment &amp; Media\\n</th>\n",
       "      <td>[Bluetooth, Hands-free equipment, On-board computer, Radio]</td>\n",
       "      <td>[Bluetooth, Hands-free equipment, On-board computer, Radio, Sound system]</td>\n",
       "      <td>[MP3, On-board computer]</td>\n",
       "    </tr>\n",
       "    <tr>\n",
       "      <th>\\nExtras\\n</th>\n",
       "      <td>[Alloy wheels, Catalytic Converter, Voice Control]</td>\n",
       "      <td>[Alloy wheels, Sport seats, Sport suspension, Voice Control]</td>\n",
       "      <td>[Alloy wheels, Voice Control]</td>\n",
       "    </tr>\n",
       "    <tr>\n",
       "      <th>\\nSafety &amp; Security\\n</th>\n",
       "      <td>[ABS, Central door lock, Daytime running lights, Driver-side airbag, Electro...</td>\n",
       "      <td>[ABS, Central door lock, Central door lock with remote control, Daytime runn...</td>\n",
       "      <td>[ABS, Central door lock, Daytime running lights, Driver-side airbag, Electro...</td>\n",
       "    </tr>\n",
       "    <tr>\n",
       "      <th>description</th>\n",
       "      <td>[\\n, Sicherheit:,  , Deaktivierung für Beifahrer-Airbag,  , ESC mit elektron...</td>\n",
       "      <td>[\\nLangstreckenfahrzeug daher die hohe Kilometerleistung. , Bremsen neu bei ...</td>\n",
       "      <td>[\\n, Fahrzeug-Nummer: AM-95365,  , Ehem. UPE 24.640 EUR,  , Komfort,  , Klim...</td>\n",
       "    </tr>\n",
       "    <tr>\n",
       "      <th>Emission Label</th>\n",
       "      <td>NaN</td>\n",
       "      <td>[\\n4 (Green)\\n]</td>\n",
       "      <td>[\\n4 (Green)\\n]</td>\n",
       "    </tr>\n",
       "    <tr>\n",
       "      <th>Gears</th>\n",
       "      <td>NaN</td>\n",
       "      <td>[\\n7\\n]</td>\n",
       "      <td>NaN</td>\n",
       "    </tr>\n",
       "    <tr>\n",
       "      <th>Country version</th>\n",
       "      <td>NaN</td>\n",
       "      <td>NaN</td>\n",
       "      <td>NaN</td>\n",
       "    </tr>\n",
       "    <tr>\n",
       "      <th>Electricity consumption</th>\n",
       "      <td>NaN</td>\n",
       "      <td>NaN</td>\n",
       "      <td>NaN</td>\n",
       "    </tr>\n",
       "    <tr>\n",
       "      <th>Last Service Date</th>\n",
       "      <td>NaN</td>\n",
       "      <td>NaN</td>\n",
       "      <td>NaN</td>\n",
       "    </tr>\n",
       "    <tr>\n",
       "      <th>Other Fuel Types</th>\n",
       "      <td>NaN</td>\n",
       "      <td>NaN</td>\n",
       "      <td>NaN</td>\n",
       "    </tr>\n",
       "    <tr>\n",
       "      <th>Availability</th>\n",
       "      <td>NaN</td>\n",
       "      <td>NaN</td>\n",
       "      <td>NaN</td>\n",
       "    </tr>\n",
       "    <tr>\n",
       "      <th>Last Timing Belt Service Date</th>\n",
       "      <td>NaN</td>\n",
       "      <td>NaN</td>\n",
       "      <td>NaN</td>\n",
       "    </tr>\n",
       "    <tr>\n",
       "      <th>Available from</th>\n",
       "      <td>NaN</td>\n",
       "      <td>NaN</td>\n",
       "      <td>NaN</td>\n",
       "    </tr>\n",
       "  </tbody>\n",
       "</table>\n",
       "</div>"
      ],
      "text/plain": [
       "                                                                                                             0  \\\n",
       "url                            https://www.autoscout24.com//offers/audi-a1-sportback-1-4-tdi-s-tronic-xenon...   \n",
       "make_model                                                                                             Audi A1   \n",
       "short_description                                                  Sportback 1.4 TDI S-tronic Xenon Navi Klima   \n",
       "body_type                                                                                               Sedans   \n",
       "price                                                                                                    15770   \n",
       "vat                                                                                             VAT deductible   \n",
       "km                                                                                                   56,013 km   \n",
       "registration                                                                                           01/2016   \n",
       "prev_owner                                                                                   2 previous owners   \n",
       "kW                                                                                                         NaN   \n",
       "hp                                                                                                       66 kW   \n",
       "Type                                                                   [, Used, , Diesel (Particulate Filter)]   \n",
       "Previous Owners                                                                                          \\n2\\n   \n",
       "Next Inspection                                                          [\\n06/2021\\n, \\n99 g CO2/km (comb)\\n]   \n",
       "Inspection new                                                                           [\\nYes\\n, \\nEuro 6\\n]   \n",
       "Warranty                                                                               [\\n, \\n, \\n4 (Green)\\n]   \n",
       "Full Service                                                                                          [\\n, \\n]   \n",
       "Non-smoking Vehicle                                                                                   [\\n, \\n]   \n",
       "null                                                                                                        []   \n",
       "Make                                                                                                  \\nAudi\\n   \n",
       "Model                                                                                             [\\n, A1, \\n]   \n",
       "Offer Number                                                                                   [\\nLR-062483\\n]   \n",
       "First Registration                                                                              [\\n, 2016, \\n]   \n",
       "Body Color                                                                                     [\\n, Black, \\n]   \n",
       "Paint Type                                                                                      [\\nMetallic\\n]   \n",
       "Body Color Original                                                                        [\\nMythosschwarz\\n]   \n",
       "Upholstery                                                                                  [\\nCloth, Black\\n]   \n",
       "Body                                                                                          [\\n, Sedans, \\n]   \n",
       "Nr. of Doors                                                                                           [\\n5\\n]   \n",
       "Nr. of Seats                                                                                           [\\n5\\n]   \n",
       "Model Code                                                                                      [\\n0588/BDF\\n]   \n",
       "Gearing Type                                                                               [\\n, Automatic, \\n]   \n",
       "Displacement                                                                                    [\\n1,422 cc\\n]   \n",
       "Cylinders                                                                                              [\\n3\\n]   \n",
       "Weight                                                                                          [\\n1,220 kg\\n]   \n",
       "Drive chain                                                                                        [\\nfront\\n]   \n",
       "Fuel                                                                     [\\n, Diesel (Particulate Filter), \\n]   \n",
       "Consumption                           [[3.8 l/100 km (comb)], [4.3 l/100 km (city)], [3.5 l/100 km (country)]]   \n",
       "CO2 Emission                                                                          [\\n99 g CO2/km (comb)\\n]   \n",
       "Emission Class                                                                                    [\\nEuro 6\\n]   \n",
       "\\nComfort & Convenience\\n      [Air conditioning, Armrest, Automatic climate control, Cruise control, Elect...   \n",
       "\\nEntertainment & Media\\n                          [Bluetooth, Hands-free equipment, On-board computer, Radio]   \n",
       "\\nExtras\\n                                                  [Alloy wheels, Catalytic Converter, Voice Control]   \n",
       "\\nSafety & Security\\n          [ABS, Central door lock, Daytime running lights, Driver-side airbag, Electro...   \n",
       "description                    [\\n, Sicherheit:,  , Deaktivierung für Beifahrer-Airbag,  , ESC mit elektron...   \n",
       "Emission Label                                                                                             NaN   \n",
       "Gears                                                                                                      NaN   \n",
       "Country version                                                                                            NaN   \n",
       "Electricity consumption                                                                                    NaN   \n",
       "Last Service Date                                                                                          NaN   \n",
       "Other Fuel Types                                                                                           NaN   \n",
       "Availability                                                                                               NaN   \n",
       "Last Timing Belt Service Date                                                                              NaN   \n",
       "Available from                                                                                             NaN   \n",
       "\n",
       "                                                                                                             1  \\\n",
       "url                            https://www.autoscout24.com//offers/audi-a1-1-8-tfsi-sport-gasoline-red-b254...   \n",
       "make_model                                                                                             Audi A1   \n",
       "short_description                                                                               1.8 TFSI sport   \n",
       "body_type                                                                                               Sedans   \n",
       "price                                                                                                    14500   \n",
       "vat                                                                                           Price negotiable   \n",
       "km                                                                                                   80,000 km   \n",
       "registration                                                                                           03/2017   \n",
       "prev_owner                                                                                                None   \n",
       "kW                                                                                                         NaN   \n",
       "hp                                                                                                      141 kW   \n",
       "Type                                                                                      [, Used, , Gasoline]   \n",
       "Previous Owners                                                                                            NaN   \n",
       "Next Inspection                                                                                            NaN   \n",
       "Inspection new                                                                                             NaN   \n",
       "Warranty                                                                                                   NaN   \n",
       "Full Service                                                                                               NaN   \n",
       "Non-smoking Vehicle                                                                                        NaN   \n",
       "null                                                                                                        []   \n",
       "Make                                                                                                  \\nAudi\\n   \n",
       "Model                                                                                             [\\n, A1, \\n]   \n",
       "Offer Number                                                                                               NaN   \n",
       "First Registration                                                                              [\\n, 2017, \\n]   \n",
       "Body Color                                                                                       [\\n, Red, \\n]   \n",
       "Paint Type                                                                                                 NaN   \n",
       "Body Color Original                                                                                        NaN   \n",
       "Upholstery                                                                                   [\\nCloth, Grey\\n]   \n",
       "Body                                                                                          [\\n, Sedans, \\n]   \n",
       "Nr. of Doors                                                                                           [\\n3\\n]   \n",
       "Nr. of Seats                                                                                           [\\n4\\n]   \n",
       "Model Code                                                                                      [\\n0588/BCY\\n]   \n",
       "Gearing Type                                                                               [\\n, Automatic, \\n]   \n",
       "Displacement                                                                                    [\\n1,798 cc\\n]   \n",
       "Cylinders                                                                                              [\\n4\\n]   \n",
       "Weight                                                                                          [\\n1,255 kg\\n]   \n",
       "Drive chain                                                                                        [\\nfront\\n]   \n",
       "Fuel                                                                                        [\\n, Gasoline, \\n]   \n",
       "Consumption                           [[5.6 l/100 km (comb)], [7.1 l/100 km (city)], [4.7 l/100 km (country)]]   \n",
       "CO2 Emission                                                                         [\\n129 g CO2/km (comb)\\n]   \n",
       "Emission Class                                                                                    [\\nEuro 6\\n]   \n",
       "\\nComfort & Convenience\\n      [Air conditioning, Automatic climate control, Hill Holder, Leather steering ...   \n",
       "\\nEntertainment & Media\\n            [Bluetooth, Hands-free equipment, On-board computer, Radio, Sound system]   \n",
       "\\nExtras\\n                                        [Alloy wheels, Sport seats, Sport suspension, Voice Control]   \n",
       "\\nSafety & Security\\n          [ABS, Central door lock, Central door lock with remote control, Daytime runn...   \n",
       "description                    [\\nLangstreckenfahrzeug daher die hohe Kilometerleistung. , Bremsen neu bei ...   \n",
       "Emission Label                                                                                 [\\n4 (Green)\\n]   \n",
       "Gears                                                                                                  [\\n7\\n]   \n",
       "Country version                                                                                            NaN   \n",
       "Electricity consumption                                                                                    NaN   \n",
       "Last Service Date                                                                                          NaN   \n",
       "Other Fuel Types                                                                                           NaN   \n",
       "Availability                                                                                               NaN   \n",
       "Last Timing Belt Service Date                                                                              NaN   \n",
       "Available from                                                                                             NaN   \n",
       "\n",
       "                                                                                                             2  \n",
       "url                            https://www.autoscout24.com//offers/audi-a1-sportback-1-6-tdi-s-tronic-einpa...  \n",
       "make_model                                                                                             Audi A1  \n",
       "short_description                                           Sportback 1.6 TDI S tronic Einparkhilfe plus+music  \n",
       "body_type                                                                                               Sedans  \n",
       "price                                                                                                    14640  \n",
       "vat                                                                                             VAT deductible  \n",
       "km                                                                                                   83,450 km  \n",
       "registration                                                                                           02/2016  \n",
       "prev_owner                                                                                    1 previous owner  \n",
       "kW                                                                                                         NaN  \n",
       "hp                                                                                                       85 kW  \n",
       "Type                                                                   [, Used, , Diesel (Particulate Filter)]  \n",
       "Previous Owners                                                                                          \\n1\\n  \n",
       "Next Inspection                                                                                            NaN  \n",
       "Inspection new                                                                                             NaN  \n",
       "Warranty                                                                      [\\n, \\n, \\n99 g CO2/km (comb)\\n]  \n",
       "Full Service                                                                                               NaN  \n",
       "Non-smoking Vehicle                                                                                        NaN  \n",
       "null                                                                                                        []  \n",
       "Make                                                                                                  \\nAudi\\n  \n",
       "Model                                                                                             [\\n, A1, \\n]  \n",
       "Offer Number                                                                                    [\\nAM-95365\\n]  \n",
       "First Registration                                                                              [\\n, 2016, \\n]  \n",
       "Body Color                                                                                     [\\n, Black, \\n]  \n",
       "Paint Type                                                                                      [\\nMetallic\\n]  \n",
       "Body Color Original                                                               [\\nmythosschwarz metallic\\n]  \n",
       "Upholstery                                                                                  [\\nCloth, Black\\n]  \n",
       "Body                                                                                          [\\n, Sedans, \\n]  \n",
       "Nr. of Doors                                                                                           [\\n4\\n]  \n",
       "Nr. of Seats                                                                                           [\\n4\\n]  \n",
       "Model Code                                                                                                 NaN  \n",
       "Gearing Type                                                                               [\\n, Automatic, \\n]  \n",
       "Displacement                                                                                    [\\n1,598 cc\\n]  \n",
       "Cylinders                                                                                                  NaN  \n",
       "Weight                                                                                                     NaN  \n",
       "Drive chain                                                                                        [\\nfront\\n]  \n",
       "Fuel                                                                     [\\n, Diesel (Particulate Filter), \\n]  \n",
       "Consumption                           [[3.8 l/100 km (comb)], [4.4 l/100 km (city)], [3.4 l/100 km (country)]]  \n",
       "CO2 Emission                                                                          [\\n99 g CO2/km (comb)\\n]  \n",
       "Emission Class                                                                                    [\\nEuro 6\\n]  \n",
       "\\nComfort & Convenience\\n      [Air conditioning, Cruise control, Electrical side mirrors, Hill Holder, Lea...  \n",
       "\\nEntertainment & Media\\n                                                             [MP3, On-board computer]  \n",
       "\\nExtras\\n                                                                       [Alloy wheels, Voice Control]  \n",
       "\\nSafety & Security\\n          [ABS, Central door lock, Daytime running lights, Driver-side airbag, Electro...  \n",
       "description                    [\\n, Fahrzeug-Nummer: AM-95365,  , Ehem. UPE 24.640 EUR,  , Komfort,  , Klim...  \n",
       "Emission Label                                                                                 [\\n4 (Green)\\n]  \n",
       "Gears                                                                                                      NaN  \n",
       "Country version                                                                                            NaN  \n",
       "Electricity consumption                                                                                    NaN  \n",
       "Last Service Date                                                                                          NaN  \n",
       "Other Fuel Types                                                                                           NaN  \n",
       "Availability                                                                                               NaN  \n",
       "Last Timing Belt Service Date                                                                              NaN  \n",
       "Available from                                                                                             NaN  "
      ]
     },
     "execution_count": 202,
     "metadata": {},
     "output_type": "execute_result"
    }
   ],
   "source": [
    "df.head(3).T"
   ]
  },
  {
   "cell_type": "code",
   "execution_count": 203,
   "metadata": {},
   "outputs": [
    {
     "data": {
      "text/plain": [
       "54"
      ]
     },
     "execution_count": 203,
     "metadata": {},
     "output_type": "execute_result"
    }
   ],
   "source": [
    "df.columns.value_counts().sum()"
   ]
  },
  {
   "cell_type": "code",
   "execution_count": 204,
   "metadata": {},
   "outputs": [
    {
     "data": {
      "text/plain": [
       "url                                  0\n",
       "make_model                           0\n",
       "short_description                   46\n",
       "body_type                           60\n",
       "price                                0\n",
       "vat                               4513\n",
       "km                                   0\n",
       "registration                         0\n",
       "prev_owner                        6828\n",
       "kW                               15919\n",
       "hp                                   0\n",
       "Type                                 2\n",
       "Previous Owners                   6640\n",
       "Next Inspection                  12384\n",
       "Inspection new                   11987\n",
       "Warranty                          5420\n",
       "Full Service                      7704\n",
       "Non-smoking Vehicle               8742\n",
       "null                                 0\n",
       "Make                                 0\n",
       "Model                                0\n",
       "Offer Number                      3175\n",
       "First Registration                1597\n",
       "Body Color                         597\n",
       "Paint Type                        5772\n",
       "Body Color Original               3759\n",
       "Upholstery                        3720\n",
       "Body                                60\n",
       "Nr. of Doors                       212\n",
       "Nr. of Seats                       977\n",
       "Model Code                       10941\n",
       "Gearing Type                         0\n",
       "Displacement                       496\n",
       "Cylinders                         5680\n",
       "Weight                            6974\n",
       "Drive chain                       6858\n",
       "Fuel                                 0\n",
       "Consumption                       1906\n",
       "CO2 Emission                      1808\n",
       "Emission Class                    3021\n",
       "\\nComfort & Convenience\\n          920\n",
       "\\nEntertainment & Media\\n         1374\n",
       "\\nExtras\\n                        2962\n",
       "\\nSafety & Security\\n              982\n",
       "description                          0\n",
       "Emission Label                   11934\n",
       "Gears                             4712\n",
       "Country version                   8333\n",
       "Electricity consumption          15782\n",
       "Last Service Date                15353\n",
       "Other Fuel Types                 15039\n",
       "Availability                     15284\n",
       "Last Timing Belt Service Date    15903\n",
       "Available from                   15647\n",
       "dtype: int64"
      ]
     },
     "execution_count": 204,
     "metadata": {},
     "output_type": "execute_result"
    }
   ],
   "source": [
    "df.isna().sum()"
   ]
  },
  {
   "cell_type": "code",
   "execution_count": 205,
   "metadata": {},
   "outputs": [
    {
     "data": {
      "text/plain": [
       "url                                0.000000\n",
       "make_model                         0.000000\n",
       "short_description                  0.288963\n",
       "body_type                          0.376908\n",
       "price                              0.000000\n",
       "vat                               28.349771\n",
       "km                                 0.000000\n",
       "registration                       0.000000\n",
       "prev_owner                        42.892141\n",
       "kW                               100.000000\n",
       "hp                                 0.000000\n",
       "Type                               0.012564\n",
       "Previous Owners                   41.711163\n",
       "Next Inspection                   77.793831\n",
       "Inspection new                    75.299956\n",
       "Warranty                          34.047365\n",
       "Full Service                      48.395000\n",
       "Non-smoking Vehicle               54.915510\n",
       "null                               0.000000\n",
       "Make                               0.000000\n",
       "Model                              0.000000\n",
       "Offer Number                      19.944720\n",
       "First Registration                10.032037\n",
       "Body Color                         3.750236\n",
       "Paint Type                        36.258559\n",
       "Body Color Original               23.613292\n",
       "Upholstery                        23.368302\n",
       "Body                               0.376908\n",
       "Nr. of Doors                       1.331742\n",
       "Nr. of Seats                       6.137320\n",
       "Model Code                        68.729192\n",
       "Gearing Type                       0.000000\n",
       "Displacement                       3.115774\n",
       "Cylinders                         35.680633\n",
       "Weight                            43.809285\n",
       "Drive chain                       43.080596\n",
       "Fuel                               0.000000\n",
       "Consumption                       11.973114\n",
       "CO2 Emission                      11.357497\n",
       "Emission Class                    18.977323\n",
       "\\nComfort & Convenience\\n          5.779257\n",
       "\\nEntertainment & Media\\n          8.631195\n",
       "\\nExtras\\n                        18.606696\n",
       "\\nSafety & Security\\n              6.168729\n",
       "description                        0.000000\n",
       "Emission Label                    74.967021\n",
       "Gears                             29.599849\n",
       "Country version                   52.346253\n",
       "Electricity consumption           99.139393\n",
       "Last Service Date                 96.444500\n",
       "Other Fuel Types                  94.472015\n",
       "Availability                      96.011056\n",
       "Last Timing Belt Service Date     99.899491\n",
       "Available from                    98.291350\n",
       "dtype: float64"
      ]
     },
     "execution_count": 205,
     "metadata": {},
     "output_type": "execute_result"
    }
   ],
   "source": [
    "df.isna().sum()*100/ df.shape[0]"
   ]
  },
  {
   "cell_type": "code",
   "execution_count": 206,
   "metadata": {},
   "outputs": [
    {
     "data": {
      "text/html": [
       "<div>\n",
       "<style scoped>\n",
       "    .dataframe tbody tr th:only-of-type {\n",
       "        vertical-align: middle;\n",
       "    }\n",
       "\n",
       "    .dataframe tbody tr th {\n",
       "        vertical-align: top;\n",
       "    }\n",
       "\n",
       "    .dataframe thead th {\n",
       "        text-align: right;\n",
       "    }\n",
       "</style>\n",
       "<table border=\"1\" class=\"dataframe\">\n",
       "  <thead>\n",
       "    <tr style=\"text-align: right;\">\n",
       "      <th></th>\n",
       "      <th>url</th>\n",
       "      <th>make_model</th>\n",
       "      <th>short_description</th>\n",
       "      <th>body_type</th>\n",
       "      <th>price</th>\n",
       "      <th>vat</th>\n",
       "      <th>km</th>\n",
       "      <th>registration</th>\n",
       "      <th>prev_owner</th>\n",
       "      <th>kW</th>\n",
       "      <th>hp</th>\n",
       "      <th>Type</th>\n",
       "      <th>Previous Owners</th>\n",
       "      <th>Next Inspection</th>\n",
       "      <th>Inspection new</th>\n",
       "      <th>Warranty</th>\n",
       "      <th>Full Service</th>\n",
       "      <th>Non-smoking Vehicle</th>\n",
       "      <th>null</th>\n",
       "      <th>Make</th>\n",
       "      <th>Model</th>\n",
       "      <th>Offer Number</th>\n",
       "      <th>First Registration</th>\n",
       "      <th>Body Color</th>\n",
       "      <th>Paint Type</th>\n",
       "      <th>Body Color Original</th>\n",
       "      <th>Upholstery</th>\n",
       "      <th>Body</th>\n",
       "      <th>Nr. of Doors</th>\n",
       "      <th>Nr. of Seats</th>\n",
       "      <th>Model Code</th>\n",
       "      <th>Gearing Type</th>\n",
       "      <th>Displacement</th>\n",
       "      <th>Cylinders</th>\n",
       "      <th>Weight</th>\n",
       "      <th>Drive chain</th>\n",
       "      <th>Fuel</th>\n",
       "      <th>Consumption</th>\n",
       "      <th>CO2 Emission</th>\n",
       "      <th>Emission Class</th>\n",
       "      <th>Comfort_Convenience</th>\n",
       "      <th>Entertainment_Media</th>\n",
       "      <th>Extras</th>\n",
       "      <th>Safety_Security</th>\n",
       "      <th>description</th>\n",
       "      <th>Emission Label</th>\n",
       "      <th>Gears</th>\n",
       "      <th>Country version</th>\n",
       "      <th>Electricity consumption</th>\n",
       "      <th>Last Service Date</th>\n",
       "      <th>Other Fuel Types</th>\n",
       "      <th>Availability</th>\n",
       "      <th>Last Timing Belt Service Date</th>\n",
       "      <th>Available from</th>\n",
       "    </tr>\n",
       "  </thead>\n",
       "  <tbody>\n",
       "    <tr>\n",
       "      <th>0</th>\n",
       "      <td>https://www.autoscout24.com//offers/audi-a1-sportback-1-4-tdi-s-tronic-xenon...</td>\n",
       "      <td>Audi A1</td>\n",
       "      <td>Sportback 1.4 TDI S-tronic Xenon Navi Klima</td>\n",
       "      <td>Sedans</td>\n",
       "      <td>15770</td>\n",
       "      <td>VAT deductible</td>\n",
       "      <td>56,013 km</td>\n",
       "      <td>01/2016</td>\n",
       "      <td>2 previous owners</td>\n",
       "      <td>NaN</td>\n",
       "      <td>66 kW</td>\n",
       "      <td>[, Used, , Diesel (Particulate Filter)]</td>\n",
       "      <td>\\n2\\n</td>\n",
       "      <td>[\\n06/2021\\n, \\n99 g CO2/km (comb)\\n]</td>\n",
       "      <td>[\\nYes\\n, \\nEuro 6\\n]</td>\n",
       "      <td>[\\n, \\n, \\n4 (Green)\\n]</td>\n",
       "      <td>[\\n, \\n]</td>\n",
       "      <td>[\\n, \\n]</td>\n",
       "      <td>[]</td>\n",
       "      <td>\\nAudi\\n</td>\n",
       "      <td>[\\n, A1, \\n]</td>\n",
       "      <td>[\\nLR-062483\\n]</td>\n",
       "      <td>[\\n, 2016, \\n]</td>\n",
       "      <td>[\\n, Black, \\n]</td>\n",
       "      <td>[\\nMetallic\\n]</td>\n",
       "      <td>[\\nMythosschwarz\\n]</td>\n",
       "      <td>[\\nCloth, Black\\n]</td>\n",
       "      <td>[\\n, Sedans, \\n]</td>\n",
       "      <td>[\\n5\\n]</td>\n",
       "      <td>[\\n5\\n]</td>\n",
       "      <td>[\\n0588/BDF\\n]</td>\n",
       "      <td>[\\n, Automatic, \\n]</td>\n",
       "      <td>[\\n1,422 cc\\n]</td>\n",
       "      <td>[\\n3\\n]</td>\n",
       "      <td>[\\n1,220 kg\\n]</td>\n",
       "      <td>[\\nfront\\n]</td>\n",
       "      <td>[\\n, Diesel (Particulate Filter), \\n]</td>\n",
       "      <td>[[3.8 l/100 km (comb)], [4.3 l/100 km (city)], [3.5 l/100 km (country)]]</td>\n",
       "      <td>[\\n99 g CO2/km (comb)\\n]</td>\n",
       "      <td>[\\nEuro 6\\n]</td>\n",
       "      <td>[Air conditioning, Armrest, Automatic climate control, Cruise control, Elect...</td>\n",
       "      <td>[Bluetooth, Hands-free equipment, On-board computer, Radio]</td>\n",
       "      <td>[Alloy wheels, Catalytic Converter, Voice Control]</td>\n",
       "      <td>[ABS, Central door lock, Daytime running lights, Driver-side airbag, Electro...</td>\n",
       "      <td>[\\n, Sicherheit:,  , Deaktivierung für Beifahrer-Airbag,  , ESC mit elektron...</td>\n",
       "      <td>NaN</td>\n",
       "      <td>NaN</td>\n",
       "      <td>NaN</td>\n",
       "      <td>NaN</td>\n",
       "      <td>NaN</td>\n",
       "      <td>NaN</td>\n",
       "      <td>NaN</td>\n",
       "      <td>NaN</td>\n",
       "      <td>NaN</td>\n",
       "    </tr>\n",
       "    <tr>\n",
       "      <th>1</th>\n",
       "      <td>https://www.autoscout24.com//offers/audi-a1-1-8-tfsi-sport-gasoline-red-b254...</td>\n",
       "      <td>Audi A1</td>\n",
       "      <td>1.8 TFSI sport</td>\n",
       "      <td>Sedans</td>\n",
       "      <td>14500</td>\n",
       "      <td>Price negotiable</td>\n",
       "      <td>80,000 km</td>\n",
       "      <td>03/2017</td>\n",
       "      <td>None</td>\n",
       "      <td>NaN</td>\n",
       "      <td>141 kW</td>\n",
       "      <td>[, Used, , Gasoline]</td>\n",
       "      <td>NaN</td>\n",
       "      <td>NaN</td>\n",
       "      <td>NaN</td>\n",
       "      <td>NaN</td>\n",
       "      <td>NaN</td>\n",
       "      <td>NaN</td>\n",
       "      <td>[]</td>\n",
       "      <td>\\nAudi\\n</td>\n",
       "      <td>[\\n, A1, \\n]</td>\n",
       "      <td>NaN</td>\n",
       "      <td>[\\n, 2017, \\n]</td>\n",
       "      <td>[\\n, Red, \\n]</td>\n",
       "      <td>NaN</td>\n",
       "      <td>NaN</td>\n",
       "      <td>[\\nCloth, Grey\\n]</td>\n",
       "      <td>[\\n, Sedans, \\n]</td>\n",
       "      <td>[\\n3\\n]</td>\n",
       "      <td>[\\n4\\n]</td>\n",
       "      <td>[\\n0588/BCY\\n]</td>\n",
       "      <td>[\\n, Automatic, \\n]</td>\n",
       "      <td>[\\n1,798 cc\\n]</td>\n",
       "      <td>[\\n4\\n]</td>\n",
       "      <td>[\\n1,255 kg\\n]</td>\n",
       "      <td>[\\nfront\\n]</td>\n",
       "      <td>[\\n, Gasoline, \\n]</td>\n",
       "      <td>[[5.6 l/100 km (comb)], [7.1 l/100 km (city)], [4.7 l/100 km (country)]]</td>\n",
       "      <td>[\\n129 g CO2/km (comb)\\n]</td>\n",
       "      <td>[\\nEuro 6\\n]</td>\n",
       "      <td>[Air conditioning, Automatic climate control, Hill Holder, Leather steering ...</td>\n",
       "      <td>[Bluetooth, Hands-free equipment, On-board computer, Radio, Sound system]</td>\n",
       "      <td>[Alloy wheels, Sport seats, Sport suspension, Voice Control]</td>\n",
       "      <td>[ABS, Central door lock, Central door lock with remote control, Daytime runn...</td>\n",
       "      <td>[\\nLangstreckenfahrzeug daher die hohe Kilometerleistung. , Bremsen neu bei ...</td>\n",
       "      <td>[\\n4 (Green)\\n]</td>\n",
       "      <td>[\\n7\\n]</td>\n",
       "      <td>NaN</td>\n",
       "      <td>NaN</td>\n",
       "      <td>NaN</td>\n",
       "      <td>NaN</td>\n",
       "      <td>NaN</td>\n",
       "      <td>NaN</td>\n",
       "      <td>NaN</td>\n",
       "    </tr>\n",
       "    <tr>\n",
       "      <th>2</th>\n",
       "      <td>https://www.autoscout24.com//offers/audi-a1-sportback-1-6-tdi-s-tronic-einpa...</td>\n",
       "      <td>Audi A1</td>\n",
       "      <td>Sportback 1.6 TDI S tronic Einparkhilfe plus+music</td>\n",
       "      <td>Sedans</td>\n",
       "      <td>14640</td>\n",
       "      <td>VAT deductible</td>\n",
       "      <td>83,450 km</td>\n",
       "      <td>02/2016</td>\n",
       "      <td>1 previous owner</td>\n",
       "      <td>NaN</td>\n",
       "      <td>85 kW</td>\n",
       "      <td>[, Used, , Diesel (Particulate Filter)]</td>\n",
       "      <td>\\n1\\n</td>\n",
       "      <td>NaN</td>\n",
       "      <td>NaN</td>\n",
       "      <td>[\\n, \\n, \\n99 g CO2/km (comb)\\n]</td>\n",
       "      <td>NaN</td>\n",
       "      <td>NaN</td>\n",
       "      <td>[]</td>\n",
       "      <td>\\nAudi\\n</td>\n",
       "      <td>[\\n, A1, \\n]</td>\n",
       "      <td>[\\nAM-95365\\n]</td>\n",
       "      <td>[\\n, 2016, \\n]</td>\n",
       "      <td>[\\n, Black, \\n]</td>\n",
       "      <td>[\\nMetallic\\n]</td>\n",
       "      <td>[\\nmythosschwarz metallic\\n]</td>\n",
       "      <td>[\\nCloth, Black\\n]</td>\n",
       "      <td>[\\n, Sedans, \\n]</td>\n",
       "      <td>[\\n4\\n]</td>\n",
       "      <td>[\\n4\\n]</td>\n",
       "      <td>NaN</td>\n",
       "      <td>[\\n, Automatic, \\n]</td>\n",
       "      <td>[\\n1,598 cc\\n]</td>\n",
       "      <td>NaN</td>\n",
       "      <td>NaN</td>\n",
       "      <td>[\\nfront\\n]</td>\n",
       "      <td>[\\n, Diesel (Particulate Filter), \\n]</td>\n",
       "      <td>[[3.8 l/100 km (comb)], [4.4 l/100 km (city)], [3.4 l/100 km (country)]]</td>\n",
       "      <td>[\\n99 g CO2/km (comb)\\n]</td>\n",
       "      <td>[\\nEuro 6\\n]</td>\n",
       "      <td>[Air conditioning, Cruise control, Electrical side mirrors, Hill Holder, Lea...</td>\n",
       "      <td>[MP3, On-board computer]</td>\n",
       "      <td>[Alloy wheels, Voice Control]</td>\n",
       "      <td>[ABS, Central door lock, Daytime running lights, Driver-side airbag, Electro...</td>\n",
       "      <td>[\\n, Fahrzeug-Nummer: AM-95365,  , Ehem. UPE 24.640 EUR,  , Komfort,  , Klim...</td>\n",
       "      <td>[\\n4 (Green)\\n]</td>\n",
       "      <td>NaN</td>\n",
       "      <td>NaN</td>\n",
       "      <td>NaN</td>\n",
       "      <td>NaN</td>\n",
       "      <td>NaN</td>\n",
       "      <td>NaN</td>\n",
       "      <td>NaN</td>\n",
       "      <td>NaN</td>\n",
       "    </tr>\n",
       "  </tbody>\n",
       "</table>\n",
       "</div>"
      ],
      "text/plain": [
       "                                                                               url  \\\n",
       "0  https://www.autoscout24.com//offers/audi-a1-sportback-1-4-tdi-s-tronic-xenon...   \n",
       "1  https://www.autoscout24.com//offers/audi-a1-1-8-tfsi-sport-gasoline-red-b254...   \n",
       "2  https://www.autoscout24.com//offers/audi-a1-sportback-1-6-tdi-s-tronic-einpa...   \n",
       "\n",
       "  make_model                                   short_description body_type  \\\n",
       "0    Audi A1         Sportback 1.4 TDI S-tronic Xenon Navi Klima    Sedans   \n",
       "1    Audi A1                                      1.8 TFSI sport    Sedans   \n",
       "2    Audi A1  Sportback 1.6 TDI S tronic Einparkhilfe plus+music    Sedans   \n",
       "\n",
       "   price               vat         km registration         prev_owner  kW  \\\n",
       "0  15770    VAT deductible  56,013 km      01/2016  2 previous owners NaN   \n",
       "1  14500  Price negotiable  80,000 km      03/2017               None NaN   \n",
       "2  14640    VAT deductible  83,450 km      02/2016   1 previous owner NaN   \n",
       "\n",
       "       hp                                     Type Previous Owners  \\\n",
       "0   66 kW  [, Used, , Diesel (Particulate Filter)]           \\n2\\n   \n",
       "1  141 kW                     [, Used, , Gasoline]             NaN   \n",
       "2   85 kW  [, Used, , Diesel (Particulate Filter)]           \\n1\\n   \n",
       "\n",
       "                         Next Inspection         Inspection new  \\\n",
       "0  [\\n06/2021\\n, \\n99 g CO2/km (comb)\\n]  [\\nYes\\n, \\nEuro 6\\n]   \n",
       "1                                    NaN                    NaN   \n",
       "2                                    NaN                    NaN   \n",
       "\n",
       "                           Warranty Full Service Non-smoking Vehicle null  \\\n",
       "0           [\\n, \\n, \\n4 (Green)\\n]     [\\n, \\n]            [\\n, \\n]   []   \n",
       "1                               NaN          NaN                 NaN   []   \n",
       "2  [\\n, \\n, \\n99 g CO2/km (comb)\\n]          NaN                 NaN   []   \n",
       "\n",
       "       Make         Model     Offer Number First Registration  \\\n",
       "0  \\nAudi\\n  [\\n, A1, \\n]  [\\nLR-062483\\n]     [\\n, 2016, \\n]   \n",
       "1  \\nAudi\\n  [\\n, A1, \\n]              NaN     [\\n, 2017, \\n]   \n",
       "2  \\nAudi\\n  [\\n, A1, \\n]   [\\nAM-95365\\n]     [\\n, 2016, \\n]   \n",
       "\n",
       "        Body Color      Paint Type           Body Color Original  \\\n",
       "0  [\\n, Black, \\n]  [\\nMetallic\\n]           [\\nMythosschwarz\\n]   \n",
       "1    [\\n, Red, \\n]             NaN                           NaN   \n",
       "2  [\\n, Black, \\n]  [\\nMetallic\\n]  [\\nmythosschwarz metallic\\n]   \n",
       "\n",
       "           Upholstery              Body Nr. of Doors Nr. of Seats  \\\n",
       "0  [\\nCloth, Black\\n]  [\\n, Sedans, \\n]      [\\n5\\n]      [\\n5\\n]   \n",
       "1   [\\nCloth, Grey\\n]  [\\n, Sedans, \\n]      [\\n3\\n]      [\\n4\\n]   \n",
       "2  [\\nCloth, Black\\n]  [\\n, Sedans, \\n]      [\\n4\\n]      [\\n4\\n]   \n",
       "\n",
       "       Model Code         Gearing Type    Displacement Cylinders  \\\n",
       "0  [\\n0588/BDF\\n]  [\\n, Automatic, \\n]  [\\n1,422 cc\\n]   [\\n3\\n]   \n",
       "1  [\\n0588/BCY\\n]  [\\n, Automatic, \\n]  [\\n1,798 cc\\n]   [\\n4\\n]   \n",
       "2             NaN  [\\n, Automatic, \\n]  [\\n1,598 cc\\n]       NaN   \n",
       "\n",
       "           Weight  Drive chain                                   Fuel  \\\n",
       "0  [\\n1,220 kg\\n]  [\\nfront\\n]  [\\n, Diesel (Particulate Filter), \\n]   \n",
       "1  [\\n1,255 kg\\n]  [\\nfront\\n]                     [\\n, Gasoline, \\n]   \n",
       "2             NaN  [\\nfront\\n]  [\\n, Diesel (Particulate Filter), \\n]   \n",
       "\n",
       "                                                                Consumption  \\\n",
       "0  [[3.8 l/100 km (comb)], [4.3 l/100 km (city)], [3.5 l/100 km (country)]]   \n",
       "1  [[5.6 l/100 km (comb)], [7.1 l/100 km (city)], [4.7 l/100 km (country)]]   \n",
       "2  [[3.8 l/100 km (comb)], [4.4 l/100 km (city)], [3.4 l/100 km (country)]]   \n",
       "\n",
       "                CO2 Emission Emission Class  \\\n",
       "0   [\\n99 g CO2/km (comb)\\n]   [\\nEuro 6\\n]   \n",
       "1  [\\n129 g CO2/km (comb)\\n]   [\\nEuro 6\\n]   \n",
       "2   [\\n99 g CO2/km (comb)\\n]   [\\nEuro 6\\n]   \n",
       "\n",
       "                                                               Comfort_Convenience  \\\n",
       "0  [Air conditioning, Armrest, Automatic climate control, Cruise control, Elect...   \n",
       "1  [Air conditioning, Automatic climate control, Hill Holder, Leather steering ...   \n",
       "2  [Air conditioning, Cruise control, Electrical side mirrors, Hill Holder, Lea...   \n",
       "\n",
       "                                                         Entertainment_Media  \\\n",
       "0                [Bluetooth, Hands-free equipment, On-board computer, Radio]   \n",
       "1  [Bluetooth, Hands-free equipment, On-board computer, Radio, Sound system]   \n",
       "2                                                   [MP3, On-board computer]   \n",
       "\n",
       "                                                         Extras  \\\n",
       "0            [Alloy wheels, Catalytic Converter, Voice Control]   \n",
       "1  [Alloy wheels, Sport seats, Sport suspension, Voice Control]   \n",
       "2                                 [Alloy wheels, Voice Control]   \n",
       "\n",
       "                                                                   Safety_Security  \\\n",
       "0  [ABS, Central door lock, Daytime running lights, Driver-side airbag, Electro...   \n",
       "1  [ABS, Central door lock, Central door lock with remote control, Daytime runn...   \n",
       "2  [ABS, Central door lock, Daytime running lights, Driver-side airbag, Electro...   \n",
       "\n",
       "                                                                       description  \\\n",
       "0  [\\n, Sicherheit:,  , Deaktivierung für Beifahrer-Airbag,  , ESC mit elektron...   \n",
       "1  [\\nLangstreckenfahrzeug daher die hohe Kilometerleistung. , Bremsen neu bei ...   \n",
       "2  [\\n, Fahrzeug-Nummer: AM-95365,  , Ehem. UPE 24.640 EUR,  , Komfort,  , Klim...   \n",
       "\n",
       "    Emission Label    Gears Country version Electricity consumption  \\\n",
       "0              NaN      NaN             NaN                     NaN   \n",
       "1  [\\n4 (Green)\\n]  [\\n7\\n]             NaN                     NaN   \n",
       "2  [\\n4 (Green)\\n]      NaN             NaN                     NaN   \n",
       "\n",
       "  Last Service Date Other Fuel Types Availability  \\\n",
       "0               NaN              NaN          NaN   \n",
       "1               NaN              NaN          NaN   \n",
       "2               NaN              NaN          NaN   \n",
       "\n",
       "  Last Timing Belt Service Date Available from  \n",
       "0                           NaN            NaN  \n",
       "1                           NaN            NaN  \n",
       "2                           NaN            NaN  "
      ]
     },
     "execution_count": 206,
     "metadata": {},
     "output_type": "execute_result"
    }
   ],
   "source": [
    "df.rename(columns={\"\\nComfort & Convenience\\n\": \"Comfort_Convenience\",\n",
    "                   \"\\nEntertainment & Media\\n\":\"Entertainment_Media\",\n",
    "                   \"\\nExtras\\n\":\"Extras\",\n",
    "                   \"\\nSafety & Security\\n\":\"Safety_Security\"}, inplace=True)\n",
    "\n",
    "df.head(3)\n"
   ]
  },
  {
   "cell_type": "code",
   "execution_count": 207,
   "metadata": {},
   "outputs": [],
   "source": [
    "def null_check (col) :\n",
    "    print(\"Column name :\", col)\n",
    "    print(\"--\"*30)\n",
    "    print(\"Number of nulls :\", df[col].isnull().sum())\n",
    "    print(\"Percent of nulls :\", '%', round((df[col].isnull().sum()/df.shape[0])*100, 2))\n",
    "    print(\"Value_counts :\", \"\\n\", df[col].value_counts(dropna=False))"
   ]
  },
  {
   "cell_type": "code",
   "execution_count": 208,
   "metadata": {},
   "outputs": [
    {
     "data": {
      "text/plain": [
       "kW                               100.000000\n",
       "Electricity consumption           99.139393\n",
       "Last Service Date                 96.444500\n",
       "Other Fuel Types                  94.472015\n",
       "Availability                      96.011056\n",
       "Last Timing Belt Service Date     99.899491\n",
       "Available from                    98.291350\n",
       "dtype: float64"
      ]
     },
     "execution_count": 208,
     "metadata": {},
     "output_type": "execute_result"
    }
   ],
   "source": [
    "missing_col = df.isnull().sum()*100 / df.shape[0]\n",
    "missing_col.loc[lambda x : x >= 90]\n"
   ]
  },
  {
   "cell_type": "code",
   "execution_count": 209,
   "metadata": {},
   "outputs": [
    {
     "data": {
      "text/plain": [
       "Index(['kW', 'Electricity consumption', 'Last Service Date',\n",
       "       'Other Fuel Types', 'Availability', 'Last Timing Belt Service Date',\n",
       "       'Available from'],\n",
       "      dtype='object')"
      ]
     },
     "execution_count": 209,
     "metadata": {},
     "output_type": "execute_result"
    }
   ],
   "source": [
    "missing_col.loc[lambda x : x >= 90].index\n"
   ]
  },
  {
   "cell_type": "code",
   "execution_count": 210,
   "metadata": {},
   "outputs": [],
   "source": [
    "df.drop(missing_col.loc[lambda x : x >= 90].index, axis=1, inplace=True)"
   ]
  },
  {
   "cell_type": "code",
   "execution_count": 211,
   "metadata": {},
   "outputs": [
    {
     "data": {
      "text/plain": [
       "(15919, 47)"
      ]
     },
     "execution_count": 211,
     "metadata": {},
     "output_type": "execute_result"
    }
   ],
   "source": [
    "df.shape"
   ]
  },
  {
   "cell_type": "markdown",
   "metadata": {},
   "source": [
    "## 1-url column"
   ]
  },
  {
   "cell_type": "code",
   "execution_count": 212,
   "metadata": {},
   "outputs": [
    {
     "data": {
      "text/plain": [
       "https://www.autoscout24.com//offers/audi-a1-sportback-1-4-tdi-s-tronic-xenon-navi-klima-diesel-black-bdab349a-caa5-41b0-98eb-c1345b84445e                  1\n",
       "https://www.autoscout24.com//offers/opel-insignia-bus-inno-2-0-cdti-aut-navi-bi-xe-led-e6-diesel-black-8710b253-dd98-4ed0-9d46-cbad2d79532b                1\n",
       "https://www.autoscout24.com//offers/opel-insignia-sport-tourer-opel-sport-tourer-1-6-cdti-136-ch-a-c-diesel-silver-10b7463b-9f56-4348-af35-df3432b2b585    1\n",
       "https://www.autoscout24.com//offers/opel-insignia-2-0cdti-st-business-innovation-navi-bt-diesel-black-ba5a3368-dedc-4e51-9127-3976b26e93c2                 1\n",
       "https://www.autoscout24.com//offers/opel-insignia-sport-tourer-opel-sport-tourer-1-6-cdti-136-ch-a-c-diesel-silver-7b52f054-78d3-4d5e-9370-8a7d081d7edd    1\n",
       "                                                                                                                                                          ..\n",
       "https://www.autoscout24.com//offers/audi-a3-sb-30-1-6-tdi-business-116cv-s-tronic-diesel-black-cf50f7b1-4d7b-466f-93a2-4e11ec0b4107                        1\n",
       "https://www.autoscout24.com//offers/audi-a3-sb-30-1-6-tdi-business-116cv-s-tronic-diesel-grey-3f47eb34-15c4-4763-860d-78fcbbd2c9ff                         1\n",
       "https://www.autoscout24.com//offers/audi-a3-sb-30-1-6-tdi-business-116cv-s-tronic-diesel-silver-f7a4bc95-b2ef-4bac-9497-6bcbcd05db0b                       1\n",
       "https://www.autoscout24.com//offers/audi-a3-sb-30-1-6-tdi-business-116cv-s-tronic-diesel-silver-1c94c7a2-67b5-49ca-ae42-42a6800fb3f5                       1\n",
       "https://www.autoscout24.com//offers/renault-espace-initiale-paris-tce-225-edc-gpf-navi-shz-aux-gasoline-grey-0bd690d9-7e93-4cab-bc5a-9d5b63402481          1\n",
       "Name: url, Length: 15919, dtype: int64"
      ]
     },
     "execution_count": 212,
     "metadata": {},
     "output_type": "execute_result"
    }
   ],
   "source": [
    "df.url.value_counts(dropna=False)"
   ]
  },
  {
   "cell_type": "code",
   "execution_count": 213,
   "metadata": {},
   "outputs": [],
   "source": [
    "\n",
    "df.drop(columns=\"url\",inplace=True)"
   ]
  },
  {
   "cell_type": "code",
   "execution_count": 214,
   "metadata": {},
   "outputs": [
    {
     "data": {
      "text/plain": [
       "(15919, 46)"
      ]
     },
     "execution_count": 214,
     "metadata": {},
     "output_type": "execute_result"
    }
   ],
   "source": [
    "df.shape"
   ]
  },
  {
   "cell_type": "markdown",
   "metadata": {},
   "source": [
    "## 2-Make_Model"
   ]
  },
  {
   "cell_type": "code",
   "execution_count": 215,
   "metadata": {},
   "outputs": [
    {
     "data": {
      "text/plain": [
       "Audi A3           3097\n",
       "Audi A1           2614\n",
       "Opel Insignia     2598\n",
       "Opel Astra        2526\n",
       "Opel Corsa        2219\n",
       "Renault Clio      1839\n",
       "Renault Espace     991\n",
       "Renault Duster      34\n",
       "Audi A2              1\n",
       "Name: make_model, dtype: int64"
      ]
     },
     "execution_count": 215,
     "metadata": {},
     "output_type": "execute_result"
    }
   ],
   "source": [
    "df.make_model.value_counts(dropna=False)"
   ]
  },
  {
   "cell_type": "markdown",
   "metadata": {},
   "source": [
    "## Make and Model"
   ]
  },
  {
   "cell_type": "code",
   "execution_count": 216,
   "metadata": {},
   "outputs": [
    {
     "data": {
      "text/plain": [
       "\\nOpel\\n       7343\n",
       "\\nAudi\\n       5712\n",
       "\\nRenault\\n    2864\n",
       "Name: Make, dtype: int64"
      ]
     },
     "execution_count": 216,
     "metadata": {},
     "output_type": "execute_result"
    }
   ],
   "source": [
    "df.Make.value_counts(dropna=False)"
   ]
  },
  {
   "cell_type": "code",
   "execution_count": 217,
   "metadata": {},
   "outputs": [
    {
     "data": {
      "text/plain": [
       "Opel       7343\n",
       "Audi       5712\n",
       "Renault    2864\n",
       "Name: Make, dtype: int64"
      ]
     },
     "execution_count": 217,
     "metadata": {},
     "output_type": "execute_result"
    }
   ],
   "source": [
    "df[\"Make\"] = df.Make.str.strip('\\n')\n",
    "df.Make.value_counts(dropna=False)"
   ]
  },
  {
   "cell_type": "code",
   "execution_count": 218,
   "metadata": {},
   "outputs": [
    {
     "data": {
      "text/plain": [
       "['\\n', 'A3', '\\n']          3097\n",
       "['\\n', 'A1', '\\n']          2614\n",
       "['\\n', 'Insignia', '\\n']    2598\n",
       "['\\n', 'Astra', '\\n']       2526\n",
       "['\\n', 'Corsa', '\\n']       2219\n",
       "['\\n', 'Clio', '\\n']        1839\n",
       "['\\n', 'Espace', '\\n']       991\n",
       "['\\n', 'Duster', '\\n']        34\n",
       "['\\n', 'A2', '\\n']             1\n",
       "Name: Model, dtype: int64"
      ]
     },
     "execution_count": 218,
     "metadata": {},
     "output_type": "execute_result"
    }
   ],
   "source": [
    "df.Model.astype(str).value_counts(dropna=False)"
   ]
  },
  {
   "cell_type": "code",
   "execution_count": 219,
   "metadata": {},
   "outputs": [
    {
     "data": {
      "text/html": [
       "<div>\n",
       "<style scoped>\n",
       "    .dataframe tbody tr th:only-of-type {\n",
       "        vertical-align: middle;\n",
       "    }\n",
       "\n",
       "    .dataframe tbody tr th {\n",
       "        vertical-align: top;\n",
       "    }\n",
       "\n",
       "    .dataframe thead th {\n",
       "        text-align: right;\n",
       "    }\n",
       "</style>\n",
       "<table border=\"1\" class=\"dataframe\">\n",
       "  <thead>\n",
       "    <tr style=\"text-align: right;\">\n",
       "      <th></th>\n",
       "      <th>Make</th>\n",
       "      <th>Model</th>\n",
       "      <th>make_model</th>\n",
       "    </tr>\n",
       "  </thead>\n",
       "  <tbody>\n",
       "    <tr>\n",
       "      <th>0</th>\n",
       "      <td>Audi</td>\n",
       "      <td>[\\n, A1, \\n]</td>\n",
       "      <td>Audi A1</td>\n",
       "    </tr>\n",
       "    <tr>\n",
       "      <th>1</th>\n",
       "      <td>Audi</td>\n",
       "      <td>[\\n, A1, \\n]</td>\n",
       "      <td>Audi A1</td>\n",
       "    </tr>\n",
       "    <tr>\n",
       "      <th>2</th>\n",
       "      <td>Audi</td>\n",
       "      <td>[\\n, A1, \\n]</td>\n",
       "      <td>Audi A1</td>\n",
       "    </tr>\n",
       "    <tr>\n",
       "      <th>3</th>\n",
       "      <td>Audi</td>\n",
       "      <td>[\\n, A1, \\n]</td>\n",
       "      <td>Audi A1</td>\n",
       "    </tr>\n",
       "    <tr>\n",
       "      <th>4</th>\n",
       "      <td>Audi</td>\n",
       "      <td>[\\n, A1, \\n]</td>\n",
       "      <td>Audi A1</td>\n",
       "    </tr>\n",
       "  </tbody>\n",
       "</table>\n",
       "</div>"
      ],
      "text/plain": [
       "   Make         Model make_model\n",
       "0  Audi  [\\n, A1, \\n]    Audi A1\n",
       "1  Audi  [\\n, A1, \\n]    Audi A1\n",
       "2  Audi  [\\n, A1, \\n]    Audi A1\n",
       "3  Audi  [\\n, A1, \\n]    Audi A1\n",
       "4  Audi  [\\n, A1, \\n]    Audi A1"
      ]
     },
     "execution_count": 219,
     "metadata": {},
     "output_type": "execute_result"
    }
   ],
   "source": [
    "df[[\"Make\",\"Model\",\"make_model\"]].head()"
   ]
  },
  {
   "cell_type": "code",
   "execution_count": 220,
   "metadata": {},
   "outputs": [],
   "source": [
    "df.drop([\"Make\", \"Model\"], axis=1, inplace=True)"
   ]
  },
  {
   "cell_type": "code",
   "execution_count": 221,
   "metadata": {},
   "outputs": [
    {
     "data": {
      "text/plain": [
       "(15919, 44)"
      ]
     },
     "execution_count": 221,
     "metadata": {},
     "output_type": "execute_result"
    }
   ],
   "source": [
    "df.shape"
   ]
  },
  {
   "cell_type": "markdown",
   "metadata": {},
   "source": [
    "## 3-Short Description "
   ]
  },
  {
   "cell_type": "code",
   "execution_count": 222,
   "metadata": {},
   "outputs": [
    {
     "data": {
      "text/plain": [
       "SPB 1.6 TDI 116 CV S tronic Sport                 64\n",
       "NaN                                               46\n",
       "1.4 66kW (90CV) Selective                         40\n",
       "MOVE KLIMA CD USB ALLWETTER BLUETOOTH             38\n",
       "SPB 30 TDI S tronic Business                      35\n",
       "                                                  ..\n",
       "K Sports Tourer Business **Navi*Voll**             1\n",
       "1.0 Turbo ecoFLEX Automatic Elective Park Navi     1\n",
       "1.6 CDTI Business *Navi*Automatik*Spurh.*          1\n",
       "1.6 136 CV Automatica Navi E 6 Garanzia Full       1\n",
       "TCe 225 EDC GPF LIM Deluxe Pano,RFK                1\n",
       "Name: short_description, Length: 10002, dtype: int64"
      ]
     },
     "execution_count": 222,
     "metadata": {},
     "output_type": "execute_result"
    }
   ],
   "source": [
    "df.short_description.value_counts(dropna=False)"
   ]
  },
  {
   "cell_type": "code",
   "execution_count": 223,
   "metadata": {},
   "outputs": [],
   "source": [
    "df.drop(\"short_description\", axis=1, inplace=True)"
   ]
  },
  {
   "cell_type": "code",
   "execution_count": 224,
   "metadata": {},
   "outputs": [
    {
     "data": {
      "text/plain": [
       "(15919, 43)"
      ]
     },
     "execution_count": 224,
     "metadata": {},
     "output_type": "execute_result"
    }
   ],
   "source": [
    "df.shape"
   ]
  },
  {
   "cell_type": "markdown",
   "metadata": {},
   "source": [
    "## Description"
   ]
  },
  {
   "cell_type": "code",
   "execution_count": 225,
   "metadata": {},
   "outputs": [
    {
     "data": {
      "text/plain": [
       "[]                                                                                                                                                                                                                                                                                                                                                                                                                                                                                                                                                                                                                                                                                                                                                                                                                                                                                                                                                                                                                                                                                                                                                                                                                                                                                                                                                                                                                                                                                                                                                                                                                                                                                                                                                                                                                                                                                                                                                                                                                                                                                                                                                                                                                                                                                                                                                                                                                                                                                                                                                                                                                                                                                                                                                                                                                                                                                               636\n",
       "['\\n', '\\n']                                                                                                                                                                                                                                                                                                                                                                                                                                                                                                                                                                                                                                                                                                                                                                                                                                                                                                                                                                                                                                                                                                                                                                                                                                                                                                                                                                                                                                                                                                                                                                                                                                                                                                                                                                                                                                                                                                                                                                                                                                                                                                                                                                                                                                                                                                                                                                                                                                                                                                                                                                                                                                                                                                                                                                                                                                                                                      30\n",
       "['\\n', 'Fahrzeugbeschreibung', ' Sichern Sie sich diesen Renault Clio 1.6 TCE Energy Sport Trophy zum Top-Preis inklusive dem ', 'AUTOHERO-RUNDUM-SORGLOS-PAKET', ' ', 'Infos:', ' 1.Hand, deutsche Auslieferung, Unfallfrei, scheckheftgepflegt', ' ', 'Highlights', ' ', 'Audio-Navigationssystem R-Link Evolution mit Touchscreen und Carminat TomTom', ' ', 'Sportsitze ', ' ', 'Sportfahrwerk', ' ', 'Scheinwerfer Full-LED ', 'Komfort', ' ', 'Geschwindigkeits-Regelanlage (Tempomat) ', ' ', 'Klimaanlage', ' ', 'Einparkhilfe hinten', ' ', 'Multifunktionslenkrad (Sport/Leder) mit Schaltwippen/-tasten ', ' ', 'Fensterheber elektr. mit Impulsgeber links/rechts vorn', ' ', 'Zentralverriegelung / Startanlage Handsfree Entry & Drive ', ' ', 'Berganfahr-Assistent (HSA) ', 'Multimedia', ' ', 'Audiosystem: Radio R & GO (Bluetooth, DAB-Tuner)', ' ', 'Bordcomputer', ' ', 'Freisprecheinrichtung Bluetooth ', ' ', 'USB-Anschluss inkl. AUX-IN-Anschluss (Plug & Music) ', 'Licht und Sicht', ' ', 'Außenspiegel elektr. verstell- und heizbar ', ' ', 'Licht- und Regensensor ', ' ', 'Tagfahrlicht LED ', ' ', 'Nebelscheinwerfer LED ', ' ', 'Coming-Home-Lichtfunktion ', ' ', 'Heckleuchten LED ', 'Sicherheit', ' ', 'Isofix-Aufnahmen für Kindersitz ', ' ', 'Seitenairbag vorn', ' ', 'Wegfahrsperre', ' ', 'Differentialsperre', ' ', 'Bremsassistent ', ' ', 'Elektron. Stabilitäts-Programm (ESP)', ' ', 'Anti-Blockier-System (ABS)', ' ', 'Anti-Submarining-Airbag im Fond', ' ', 'Airbag Fahrer-/Beifahrerseite ', ' ', 'Differentialsperre ', ' ', 'Reifendruck-Kontrollsystem ', ' ', 'Untersteuerungskontrolle (USC) ', ' ', 'Antischlupfregelung (ASR) ', 'Weiteres', ' ', 'Start/Stop-Anlage ', ' ', 'Servolenkung geschwindigkeitsabhängig', ' ', 'R.S. Drive (Fahrmodusschalter) ', ' ', 'Gepäckraumabdeckung / Rollo ', ' ', 'Heckdiffusor ', ' ', 'LM-Felgen ', ' ', 'Heckspoiler (Renault Sport) ', ' ', 'Pedale Aluminium ', ' ', 'Energierückgewinnung (Energy Smart Management) ', ' ', 'Elektr. Bremskraftverteilung ', ' ', 'Reifen-Reparaturkit ', ' ', 'Sitzbezug / Polsterung: Stoff ', ' Ihr ', 'AUTOHERO-RUNDUM-SORGLOS-PAKET', ' beinhaltet:', 'Kostenlose Lieferung in Ihre Nähe', 'Optische & technische Aufbereitung', 'Mindestens 12 Monate gültige HU und AU', '1-Jahr-Premium-Garantie', 'Zulassung inklusive ', '14-Tage-Rückgaberecht', 'Markenunabhängige Inzahlungnahme ', 'Individuelle Finanzierungen zu fairen Konditionen', ' ', 'HIER GEHT ES ZUR 360° - ANSICHT DES FAHRZEUGES:', ':', 'https://www.autohero.com/de/renault-clio-1-6-tce-energy-renault-sport-trophy/id/f7ca29bf-e005-453f-bbc9-8c6fe892dec6/', ' ', 'Haftungsausschluss', ':', 'Für Angaben vom Verkäufer, des Herstellers oder von Datenbankabfragen übernimmt Autohero keine Haftung. Änderungen, Zwischenverkauf und Irrtümer sind vorbehalten.\\n']     27\n",
       "['\\nPosibilidad de prueba del vehículo hasta 5 días. Consultar condiciones. PVP para particulares. Varias unidades y colores disponibles. Precios publicados para vehículos industriales (furgonetas) válidos para compradores autónomos o empresas, consultar condiciones para particulares. Las imágenes y kilómetros pueden no corresponder con el modelo anunciado. Para confirmar póngase en contacto con nuestro departamento comercial. Consulta las excepcionales condiciones de financiación que tenemos disponibles. Precio de venta final IVA y gastos de transferencia incluidos. Horario de atención al cliente: Lunes a Viernes de 09:00 a 18:00.\\n']                                                                                                                                                                                                                                                                                                                                                                                                                                                                                                                                                                                                                                                                                                                                                                                                                                                                                                                                                                                                                                                                                                                                                                                                                                                                                                                                                                                                                                                                                                                                                                                                                                                                                                                                                                                                                                                                                                                                                                                                                                                                                                                                                                                                                               27\n",
       "['\\nSichern Sie sich diesen RENAULT CLIO 1.2 LIMITED zum Top-Preis inklusive dem', 'AUTOHERO-RUNDUM-SORGLOS-PAKET', ' ', 'Infos:', ' 2.Hand, mindestens 12 Monate gültige HU und AU, deutsche Ausführung, unfallfrei ', ' ', 'Highlights', ' ', 'Audio-Navigationssystem mit Touchscreen-Farbdisplay', 'Komfort', ' ', 'Klimaanlage ', ' ', 'Multifunktionslenkrad in Leder ', ' ', 'Berganfahr-Assistent (HSA)', ' ', 'Fensterheber elektrisch vorn ', ' ', 'Geschwindigkeits-Regelanlage (Tempomat) ', ' ', 'Heckscheibe heizbar ', ' ', 'Sitz vorn links höhenverstellbar', ' ', 'Sitz vorn rechts umklappbar ', ' ', 'Stau-/Ablagefach im Laderaumboden ', ' ', 'Zentralverriegelung mit Fernbedienung ', 'Multimedia', ' ', 'Radio R&GO', ' ', 'Bluetooth Freisprechanlage ', ' ', 'USB-/AUX-Schnittstelle ', ' ', 'Bordcomputer', ' ', 'Licht und Sicht', ' ', 'Tagfahrlicht LED ', ' ', 'Außenspiegel elektrisch verstell- und heizbar', 'Sicherheit', ' ', 'Airbag für Fahrer und Beifahrer', ' ', 'Beifahrerairbag deaktivierbar ', ' ', 'Seitenairbags vorn ', ' ', 'Kopfairbagsystem', ' ', 'Anti-Blockier-System (ABS)', ' ', 'Elektronische Bremskraftverteilung ', ' ', 'Elektronische Stabilitäts-Programm (ESP) ', ' ', 'Reifen-Reparaturkit ', ' ', 'Reifendruck-Kontrollsystem ', ' ', 'Untersteuerungskontrolle (USC) ', ' ', 'ISOFIX Kindersitzverankerung ', 'Weiteres', ' ', 'Dachreling silber ', ' ', 'Look-Paket Chrom (außen) ', ' ', 'Look-Paket Grau (innen) ', ' ', 'R&GO-Paket ', ' ', 'Style-Paket ', ' Ihr ', 'AUTOHERO-RUNDUM-SORGLOS-PAKET', ' beinhaltet:', 'Kostenlose Lieferung in Ihre Nähe', 'Optische & technische Aufbereitung', 'Mindestens 12 Monate gültige HU und AU', '1-Jahr-Premium-Garantie', 'Zulassung inklusive ', '14-Tage-Rückgaberecht', 'Markenunabhängige Inzahlungnahme ', 'Individuelle Finanzierungen zu fairen Konditionen', ' ', 'HIER GEHT ES ZUR 360° - ANSICHT DES FAHRZEUGES:', ':', 'https://www.autohero.com/de/renault-clio-1-2-limited/id/30f99516-8785-47e7-a4a3-6cdac4d8e633/', ' ', 'Haftungsausschluss', ':', 'Für Angaben vom Verkäufer, des Herstellers oder von Datenbankabfragen übernimmt Autohero keine Haftung. Änderungen, Zwischenverkauf und Irrtümer sind vorbehalten.\\n']                                                                                                                                                                                                                                                                                                                                                                                                                                                                                                                                                                                                                                   27\n",
       "                                                                                                                                                                                                                                                                                                                                                                                                                                                                                                                                                                                                                                                                                                                                                                                                                                                                                                                                                                                                                                                                                                                                                                                                                                                                                                                                                                                                                                                                                                                                                                                                                                                                                                                                                                                                                                                                                                                                                                                                                                                                                                                                                                                                                                                                                                                                                                                                                                                                                                                                                                                                                                                                                                                                                                                                                                                                                                ... \n",
       "['\\nPratica\\xa067374', 'Airbag fullsize per conducente e passeggero, Alzacristalli elettrici ant. e post. con funzione attivaz. a pressione, Assetto dinamico, Audi drive select, Inserti in micrometallic argento, Kit riparazione pneumatici, Pacchetto di navigazione, Piano di copertura del vano bagagli estraibile, Presa AUX-IN, Proiettori allo Xenon Plus con reg. aut. prof. fari, Lavafari, Rivestimenti dei sedili in tessuto, Serbatoio AdBlue, Sistema controllo pressione pneumatici, Sistema di ancoraggio ISOFIX e 3° punto di ancoraggio Top Tether sui sedili post. laterali, Sistema di informazioni per il conducente con display monocromatico, Tappetini anteriori e posteriori, Versione Business, Volante sportivo multifunzionale in pelle 3 razze, ABS, EBV (Ripartitore elettronico della forza frenante), Airbag laterali anteriori integrati negli schienali dei sedili, Airbag per la testa, Airbag per le ginocchia (lato conducente), Appoggiatesta anteriori (2) e posteriori (3) regolabili, Radio MMI plus, Interfaccia Bluetooth, Appoggiabraccia centrale anteriore, Cambio manuale, Cerchi in lega 7 J x 16\" a 5 razze a stella, Chiusura centralizzata con telecomando, Regolatore di velocità, ESC - Sistema elettronico di controllo della stabilizzazione con bloccaggio trasversale elettronico, ASR - Dispositivo di controllo della trazione, EDS (Dispositivo antislittamento in partenza), Filtro anti particolato, Cinture di sicurezza con pretensionatore, Specchietti retrovisivi esterni riscaldabili e ripiegabili elettricamente, Schienale del sedile posteriore ribaltabile (divisibile in rapporto 40:60 o ribaltabile completam.), Sistema di ausilio al parcheggio posteriore, Servosterzo elettromeccanico, Tergilunotto\\n']                                                                                                                                                                                                                                                                                                                                                                                                                                                                                                                                                                                                                                                                                                                                                                                                                                                                                                                                                                                                                                                                                                          1\n",
       "['\\n', 'Getriebe:', ' Schaltgetriebe', 'Technik:', ' Bordcomputer, Start-Stop-Automatik', 'Assistenten:', ' Regensensor, Lichtsensor, Berganfahrassistent', 'Komfort:', ' Servolenkung, Zentralverriegelung, Elektrischer Fensterheber, Sitzheizung, Elektrische Aussenspiegel, Teilbare Ruecksitzlehne, Tempomat, Park Distance Control, Multifunktionslenkrad, Innenspiegel autom. abblendbar, Mittelarmlehne, Innenraumfilter, Lenksaeule einstellbar, Sportsitze, Klimaautomatik-2-Zonen', 'Sicht:', ' Xenon Scheinwerfer, Colorverglasung, Scheinwerferreinigung, Aussenspiegel beheizbar, Privacyverglasung', 'Sicherheit:', ' ABS, Airbag, Beifahrer-Airbag, Wegfahrsperre, Seitenairbags, ESP, Antriebsschlupfregelung, Reifendruckkontrolle, Traktionskontrolle, Kopfairbag, Knieairbag, Kindersitzbefestigung, Pannenkit', 'Entertainment:', ' CD, Radio, AUX-In, USB-Anschluss, MP3, Bluetooth, Freisprecheinrichtung', 'Umwelt:', ' Grüne Umweltplakette, ', 'Energieeffizienzklasse B', 'Qualität:', ' Garantie, Scheckheftgepflegt, HUAU neu, Nichtraucherfahrzeug', 'Sonstiges:', ' Metallic, Alufelgen, Dachreling, Gepaeckraumabdeckung, Stossfaenger in Wagenfarbe, Sportfahrwerk', 'Weiteres:', ' Connectivity-Paket inkl. Bluetooth-Schnittstelle, Klimaautomatik 2-Zonen, Optik-Paket schwarz Audi exclusive, Einparkhilfe (APS), Verglasung hinten abgedunkelt, Sitzheizung vorn, Dachreling (Aluminium), Soundsystem DSP / Audi Sound-System, Ablage- und Gepäckraum-Paket, Audi music interface, Scheibenwaschdüsen heizbar, Vorbereitung Navigationssystem, Adaptives Bremslicht, Anfahr-Assistent (hold assist), Antriebsart: Frontantrieb, Audi Drive Select, Außenspiegel Wagenfarbe, Blinkleuchten LED in Außenspiegel integriert, Bremsanlage mit Rekuperation - Bremsenergierückgewinnung, Bremsassistent, Dachspoiler, Dekoreinlagen Aluminium Mistral, Einstiegsleisten Aluminium, Elektron. Differentialsperre (EDS), Elektron. Stabilitätskontrolle (ESC), Elektron. Stabilitäts-Programm, Euro 6, Fahrer-Informations-System (FIS), Fensterheber elektrisch vorn und hinten, Frontscheibe Akustikglas, Fußmatten Velours, Getriebe 6-Gang, Heckscheibe heizbar, Interieur Aluminium-Optik, Isofix-Aufnahmen für Kindersitz, Kopfstützen hinten, Multi-Media-Interface MMI, Parkbremse elektro-mechanisch, Polster: Stoff Rallye, Servolenkung elektro-mechanisch, Sitze vorn mit ausziehbarer Oberschenkelauflage, Sitzhöhenverstellung, Sport/Lederlenkrad, Sport-Fahrwerk, Start/Stop-Anlage, Telefon-Vorbereitung mit Bluetooth-Schnittstelle, Wagenheber, Wärmeschutzverglasung, Xenon Plus, ZV mit Fernbedienung', '... Änderungen, Zwischenverkauf und Irrtümer vorbehalten.', ' by CG360.de\\n']                                                                                                                                                         1\n",
       "['\\n', 'Getriebe', '6-Gang', 'Licht und Sicht', 'Xenon-Scheinwerfer Plus (Abblend- und Fernlicht)', 'Technik und Sicherheit', 'Fahrerairbag', 'Airbag Fahrer-/Beifahrerseite', 'Seitenairbag vorn', 'Kopfairbags', 'Anti-Blockier-System (ABS)', 'Elektron. Stabilitätskontrolle (ESC)', 'Elektron. Differentialsperre (EDS)', 'Zentralverriegelung mit Fernbedienung', 'Schließ-/Startsystem Advanced Key (Komfortschlüssel)', 'Servolenkung elektro-mechanisch', 'Geschwindigkeits-Regelanlage (Tempomat)', 'Elektronische Wegfahrsperre', 'Bordcomputer', 'Reifendruck-Kontrollsystem', 'Assistenzsysteme', 'Fahrassistenz-System: Anfahr-Assistent (hold assist)', 'Multimedia', 'Multi-Media-Interface MMI Basic Plus / MMI Radio Plus', 'Audi Smartphone Interface', 'Komfort', 'Komfort-Klimaautomatik 2-Zonen', 'Einparkhilfe hinten (APS)', 'Fensterheber elektrisch', 'Licht- und Regensensor', 'Außenspiegel elektr. verstellbar beide', 'Scheibenwaschdüsen und Außenspiegel beheizt', 'Wärmeschutzverglasung grün getönt', 'Innenausstattung', 'Sitzheizung vorn', 'Lenkrad (Sport/Leder - 3-Speichen) mit Multifunktion', 'Mittelarmlehne vorn', 'Rücksitzlehne geteilt/klappbar', 'Aussenausstattung', 'LM-Felgen', 'Pakete', 'Komfort-Paket', 'Sonstiges', 'Rußpartikelfilter', 'Scheckheftgepflegt', 'Nichtraucherfahrzeug', 'Weitere Informationen', 'Schadstoffklasse: EURO 6D-TEMP', 'Connectivity-Paket', 'Glanz-Paket', 'LM-Felgen 7.5x17 (5-Speichen Y-Design)', 'Progressivlenkung', 'Antriebs-Schlupfregelung (ASR)', 'Elektron. Stabilitäts-Programm (ESP)', 'Getriebe 6-Gang', 'Lenkrad (Sport - 3-Speichen)', 'Parkbremse elektro-mechanisch', 'Sitze vorn höhenverstellbar', 'Vorrüstung Mobiltelefon/Handy mit Bluetooth-Schnittstelle', 'Audi music interface', 'Außenspiegel elektr. verstell- und heizbar beide', 'Vorbereitung Navigationssystem', 'Irrtümer und Änderungen vorbehalten.', 'Die im Internet angebotene Ausstattung ist kein Vertragsbestandteil.', 'Die Ausstattung muss vor Ort geprüft werden.', 'Das angebotene Fahrzeug kann von einer Rückrufaktion betroffen sein. Co2 Angaben können abweichen.', '\\n']                                                                                                                                                                                                                                                                                                                                                                                                                                                                                                                                                                                                                                                                                                                                   1\n",
       "['\\n', 'Aluminium-Gussräder im 5-Speichen-Stern-Design Größe 7 J x 16 mit Reifen 205/55 R 16', 'Dachreling eloxiert', 'Einparkhilfe hinten', 'Fahrerinformationssystem mit Farbdisplay', 'Lederlenkrad im 3-Speichen-Design mit Multifunktion plus', 'Ablage-/Gepäckraumpaket mit erweitertem USB-Buchsen-Angebot', 'Lichtpaket', \"Reifen 16'\", 'Anlaufvariante RdW', 'Vorbereitung für Anhängevorrichtung', 'Audi sound system', 'Reifen 205/55 R16 91W', 'Xenon plus', 'Allwetterlicht', 'Kopfstützen hinten (3 Stück)', 'MMI Radio plus', 'Zentralverriegelung mit Funkschlüssel', 'Bluetooth-Schnittstelle', 'Innenspiegel abblendbar', 'elektronische Stabilisierungskontrolle (ESC)', 'Airbags', '6-Gang-Schaltgetriebe', 'Seitenairbags vorn und Kopfairbagsystem', 'elektromechanische Servolenkung', 'Leuchtweitenregulierung automatisch-statisch', 'Scheibenwaschdüsen beheizbar vorn', 'Reifendruck-Kontrollanzeige', 'Tagfahrlicht', 'Start-Stop-System', 'AUX-IN-Anschluss', 'Kindersitzverankerung ISOFIX und Top Tether für die äußeren Fondsitze', 'Sitzbezüge in Stoff Index', 'Wärmeschutzverglasung', 'Akustikfrontscheibe', 'Außenspiegel links asphärisch', 'Außen-Sound Standard', 'Außenspiegel rechts (großes Sichtfeld) konvex', 'elektromechanische Parkbremse', 'Dachhimmel in Stoff felsgrau', 'Kraftstoffsystem Otto-Einspritzer', 'Linkslenker', 'Reifenreparaturset', 'Heckleuchten', 'Scheibenwaschanlage', 'Entriegelung Hintersitz Standard', 'Waschwasserstandsanzeige', 'Abgaskonzept EU6 AG/H/I', 'Frontantrieb', 'A3', 'Außenspiegelgehäuse in Wagenfarbe', 'Ohne erweitertem Sicherheitssystem', 'Geschwindigkeitsbegrenzungsanlage', 'Dachkantenspoiler', 'Heckscheibenwischer', 'Sportback', 'Kindersicherung manuell', 'Ohne Kamerasysteme/Umfeldsensorik', '4-Zyl. Ottomotor 1 5 L/110KW TSI Grundmotor ist: TJ7/N09/T9F', 'Nebelschlussleuchten', 'Nichtraucherausführung', 'Radstand', 'Doppeltonfanfare', 'Serienfahrwerk', '4 Türen', 'Modellbezeichnung gemäß neuer Leistungskennzeichnung', 'Warnleuchten', 'Zierleisten schwarz', 'Nichtraucherfahrzeug', 'Irrtümer Änderungen und Zwischenverkauf vorbehalten', 'sehr guter Zustand', 'Komfortklima', 'Aussenspiegel heizbar', 'elektrische Aussenspiegel', 'geteilte Rückbank', 'Scheckheft gepflegt', 'Fahrersitz höhenverstellbar', 'Beifahrersitz höhenverstellbar', '\\n']                                                                                                                                                                                                                                                                                                                                                                                                                                                                                                                 1\n",
       "['\\nDEK:[2691331]', 'Renault Espace Blue dCi 200CV EDC Business', 'Nuova da Immatricolare', 'COLORE: Grigio Titanio', 'INTERNO: Pelle+Tessuto', 'TRASMISSIONE: Cambio Automatico EDC', '---', 'ACCESSORI: ', '7 Posti', ', ', 'Cerchi in Lega 17, Navigatore con Display 8.7, Clima Automatico, Sensori di Parcheggio Anteriori e Posteriori con Retrocamera, Fari Full LED Pure Vision, Cruise Control, Renault Multisense', '---', 'Listino Nuovo 44.300 Euro', 'Prezzo Gruppo Carmeli: 39.700 Euro (Esclusa IPT e Messa in Strada)', 'IVA Esposta', 'In caso di Adesione alla PROMO GRUPPO CARMELI puoi Averla a 36.000 Euro', 'Contattaci per scoprire tutti i vantaggi della PROMO GRUPPO CARMELI', '____________________________________', 'Gruppo Carmeli S.p.A. è Concessionaria e Service ufficiale dei Marchi Renault, Dacia, Nissan, Mercedes e Smart per la provincia di Brescia e Bergamo ed opera nel mercato dell’auto da più di 40 anni.', 'Nelle sedi di Brescia (Nissan e Renault-Dacia Autospazio), di Coccaglio (Renault-Dacia e Nissan) e di Bergamo (Nissan) oltre a tutta la gamma di veicoli dei Marchi rappresentati, propone anche 2.000 auto a Km Zero e Aziendali di tutte le marche.', 'Offriamo Servizi:', '-VALUTAZIONE e PERMUTA del tuo USATO', '-ACQUISTO con pagamento immediato del tuo USATO', '-FINANZIAMENTI e LEASING agevolati', '-NOLEGGIO A LUNGO TERMINE di veicoli di tutte le marche', '-PACCHETTI ASSICURATIVI su misura con possibilità di garanzia del valore a Nuovo', '____________________________________', \"Sebbene sia stato fatto ogni ragionevole sforzo per assicurare l'esattezza delle informazioni riportate, vi potrebbero essere involontarie incongruenze riguardanti le immagini e la descrizione degli accessori, che pertanto non rappresentano vincolo contrattuale. Per ulteriori informazioni sulle condizioni economiche ti invitiamo a contattarci.\", '\\n']                                                                                                                                                                                                                                                                                                                                                                                                                                                                                                                                                                                                                                                                                                                                                                                                                                                                                                                                                                1\n",
       "Name: description, Length: 12874, dtype: int64"
      ]
     },
     "execution_count": 225,
     "metadata": {},
     "output_type": "execute_result"
    }
   ],
   "source": [
    "df.description.astype(str).value_counts(dropna=False)"
   ]
  },
  {
   "cell_type": "code",
   "execution_count": 226,
   "metadata": {},
   "outputs": [],
   "source": [
    "df.drop(\"description\", axis=1, inplace=True)"
   ]
  },
  {
   "cell_type": "code",
   "execution_count": 227,
   "metadata": {},
   "outputs": [
    {
     "data": {
      "text/plain": [
       "(15919, 42)"
      ]
     },
     "execution_count": 227,
     "metadata": {},
     "output_type": "execute_result"
    }
   ],
   "source": [
    "df.shape"
   ]
  },
  {
   "cell_type": "markdown",
   "metadata": {},
   "source": [
    "## 4 body_type"
   ]
  },
  {
   "cell_type": "code",
   "execution_count": 228,
   "metadata": {},
   "outputs": [
    {
     "data": {
      "text/plain": [
       "Sedans           7903\n",
       "Station wagon    3553\n",
       "Compact          3153\n",
       "Van               783\n",
       "Other             290\n",
       "Transporter        88\n",
       "NaN                60\n",
       "Off-Road           56\n",
       "Coupe              25\n",
       "Convertible         8\n",
       "Name: body_type, dtype: int64"
      ]
     },
     "execution_count": 228,
     "metadata": {},
     "output_type": "execute_result"
    }
   ],
   "source": [
    "df.body_type.value_counts(dropna=False)"
   ]
  },
  {
   "cell_type": "markdown",
   "metadata": {},
   "source": [
    "## Body"
   ]
  },
  {
   "cell_type": "code",
   "execution_count": 229,
   "metadata": {},
   "outputs": [
    {
     "data": {
      "text/plain": [
       "['\\n', 'Sedans', '\\n']           7903\n",
       "['\\n', 'Station wagon', '\\n']    3553\n",
       "['\\n', 'Compact', '\\n']          3153\n",
       "['\\n', 'Van', '\\n']               783\n",
       "['\\n', 'Other', '\\n']             290\n",
       "['\\n', 'Transporter', '\\n']        88\n",
       "nan                                60\n",
       "['\\n', 'Off-Road', '\\n']           56\n",
       "['\\n', 'Coupe', '\\n']              25\n",
       "['\\n', 'Convertible', '\\n']         8\n",
       "Name: Body, dtype: int64"
      ]
     },
     "execution_count": 229,
     "metadata": {},
     "output_type": "execute_result"
    }
   ],
   "source": [
    "df.Body.astype('str').value_counts(dropna=False)"
   ]
  },
  {
   "cell_type": "code",
   "execution_count": 230,
   "metadata": {},
   "outputs": [
    {
     "data": {
      "text/html": [
       "<div>\n",
       "<style scoped>\n",
       "    .dataframe tbody tr th:only-of-type {\n",
       "        vertical-align: middle;\n",
       "    }\n",
       "\n",
       "    .dataframe tbody tr th {\n",
       "        vertical-align: top;\n",
       "    }\n",
       "\n",
       "    .dataframe thead th {\n",
       "        text-align: right;\n",
       "    }\n",
       "</style>\n",
       "<table border=\"1\" class=\"dataframe\">\n",
       "  <thead>\n",
       "    <tr style=\"text-align: right;\">\n",
       "      <th></th>\n",
       "      <th>body_type</th>\n",
       "      <th>Body</th>\n",
       "    </tr>\n",
       "  </thead>\n",
       "  <tbody>\n",
       "    <tr>\n",
       "      <th>0</th>\n",
       "      <td>Sedans</td>\n",
       "      <td>[\\n, Sedans, \\n]</td>\n",
       "    </tr>\n",
       "    <tr>\n",
       "      <th>1</th>\n",
       "      <td>Sedans</td>\n",
       "      <td>[\\n, Sedans, \\n]</td>\n",
       "    </tr>\n",
       "    <tr>\n",
       "      <th>2</th>\n",
       "      <td>Sedans</td>\n",
       "      <td>[\\n, Sedans, \\n]</td>\n",
       "    </tr>\n",
       "    <tr>\n",
       "      <th>3</th>\n",
       "      <td>Sedans</td>\n",
       "      <td>[\\n, Sedans, \\n]</td>\n",
       "    </tr>\n",
       "    <tr>\n",
       "      <th>4</th>\n",
       "      <td>Sedans</td>\n",
       "      <td>[\\n, Sedans, \\n]</td>\n",
       "    </tr>\n",
       "    <tr>\n",
       "      <th>...</th>\n",
       "      <td>...</td>\n",
       "      <td>...</td>\n",
       "    </tr>\n",
       "    <tr>\n",
       "      <th>15914</th>\n",
       "      <td>Van</td>\n",
       "      <td>[\\n, Van, \\n]</td>\n",
       "    </tr>\n",
       "    <tr>\n",
       "      <th>15915</th>\n",
       "      <td>Van</td>\n",
       "      <td>[\\n, Van, \\n]</td>\n",
       "    </tr>\n",
       "    <tr>\n",
       "      <th>15916</th>\n",
       "      <td>Van</td>\n",
       "      <td>[\\n, Van, \\n]</td>\n",
       "    </tr>\n",
       "    <tr>\n",
       "      <th>15917</th>\n",
       "      <td>Van</td>\n",
       "      <td>[\\n, Van, \\n]</td>\n",
       "    </tr>\n",
       "    <tr>\n",
       "      <th>15918</th>\n",
       "      <td>Van</td>\n",
       "      <td>[\\n, Van, \\n]</td>\n",
       "    </tr>\n",
       "  </tbody>\n",
       "</table>\n",
       "<p>15919 rows × 2 columns</p>\n",
       "</div>"
      ],
      "text/plain": [
       "      body_type              Body\n",
       "0        Sedans  [\\n, Sedans, \\n]\n",
       "1        Sedans  [\\n, Sedans, \\n]\n",
       "2        Sedans  [\\n, Sedans, \\n]\n",
       "3        Sedans  [\\n, Sedans, \\n]\n",
       "4        Sedans  [\\n, Sedans, \\n]\n",
       "...         ...               ...\n",
       "15914       Van     [\\n, Van, \\n]\n",
       "15915       Van     [\\n, Van, \\n]\n",
       "15916       Van     [\\n, Van, \\n]\n",
       "15917       Van     [\\n, Van, \\n]\n",
       "15918       Van     [\\n, Van, \\n]\n",
       "\n",
       "[15919 rows x 2 columns]"
      ]
     },
     "execution_count": 230,
     "metadata": {},
     "output_type": "execute_result"
    }
   ],
   "source": [
    "df[[\"body_type\",\"Body\"]]"
   ]
  },
  {
   "cell_type": "code",
   "execution_count": 231,
   "metadata": {},
   "outputs": [],
   "source": [
    "df.drop(\"Body\", axis = 1, inplace = True)"
   ]
  },
  {
   "cell_type": "code",
   "execution_count": 232,
   "metadata": {},
   "outputs": [
    {
     "data": {
      "text/plain": [
       "(15919, 41)"
      ]
     },
     "execution_count": 232,
     "metadata": {},
     "output_type": "execute_result"
    }
   ],
   "source": [
    "df.shape"
   ]
  },
  {
   "cell_type": "markdown",
   "metadata": {},
   "source": [
    "## 5-PRICE (Target var.)"
   ]
  },
  {
   "cell_type": "code",
   "execution_count": 233,
   "metadata": {},
   "outputs": [
    {
     "data": {
      "text/plain": [
       "14990    154\n",
       "15990    151\n",
       "10990    139\n",
       "15900    106\n",
       "17990    102\n",
       "        ... \n",
       "17559      1\n",
       "17560      1\n",
       "17570      1\n",
       "17575      1\n",
       "39875      1\n",
       "Name: price, Length: 2956, dtype: int64"
      ]
     },
     "execution_count": 233,
     "metadata": {},
     "output_type": "execute_result"
    }
   ],
   "source": [
    "df.price.value_counts(dropna=False)"
   ]
  },
  {
   "cell_type": "code",
   "execution_count": 234,
   "metadata": {},
   "outputs": [
    {
     "data": {
      "text/plain": [
       "0"
      ]
     },
     "execution_count": 234,
     "metadata": {},
     "output_type": "execute_result"
    }
   ],
   "source": [
    "df.price.isnull().sum()"
   ]
  },
  {
   "cell_type": "markdown",
   "metadata": {},
   "source": [
    "## 6- vat "
   ]
  },
  {
   "cell_type": "code",
   "execution_count": 235,
   "metadata": {},
   "outputs": [
    {
     "data": {
      "text/plain": [
       "VAT deductible      10980\n",
       "NaN                  4513\n",
       "Price negotiable      426\n",
       "Name: vat, dtype: int64"
      ]
     },
     "execution_count": 235,
     "metadata": {},
     "output_type": "execute_result"
    }
   ],
   "source": [
    "df.vat.value_counts(dropna=False)"
   ]
  },
  {
   "cell_type": "markdown",
   "metadata": {},
   "source": [
    "## 7- km"
   ]
  },
  {
   "cell_type": "code",
   "execution_count": 236,
   "metadata": {},
   "outputs": [
    {
     "data": {
      "text/plain": [
       "10 km        1045\n",
       "- km         1024\n",
       "1 km          367\n",
       "5 km          170\n",
       "50 km         148\n",
       "             ... \n",
       "67,469 km       1\n",
       "43,197 km       1\n",
       "10,027 km       1\n",
       "35,882 km       1\n",
       "57 km           1\n",
       "Name: km, Length: 6690, dtype: int64"
      ]
     },
     "execution_count": 236,
     "metadata": {},
     "output_type": "execute_result"
    }
   ],
   "source": [
    "df.km.value_counts(dropna=False)"
   ]
  },
  {
   "cell_type": "code",
   "execution_count": 237,
   "metadata": {},
   "outputs": [],
   "source": [
    "df['km'] = df['km'].str.replace(',','').str.extract('(\\d+)').astype(float)"
   ]
  },
  {
   "cell_type": "code",
   "execution_count": 238,
   "metadata": {},
   "outputs": [
    {
     "data": {
      "text/plain": [
       "10.0       1045\n",
       "NaN        1024\n",
       "1.0         367\n",
       "5.0         170\n",
       "50.0        148\n",
       "           ... \n",
       "67469.0       1\n",
       "43197.0       1\n",
       "10027.0       1\n",
       "35882.0       1\n",
       "57.0          1\n",
       "Name: km, Length: 6690, dtype: int64"
      ]
     },
     "execution_count": 238,
     "metadata": {},
     "output_type": "execute_result"
    }
   ],
   "source": [
    "df.km.value_counts(dropna=False)"
   ]
  },
  {
   "cell_type": "code",
   "execution_count": 239,
   "metadata": {},
   "outputs": [
    {
     "data": {
      "text/plain": [
       "1024"
      ]
     },
     "execution_count": 239,
     "metadata": {},
     "output_type": "execute_result"
    }
   ],
   "source": [
    "df.km.isnull().sum()"
   ]
  },
  {
   "cell_type": "markdown",
   "metadata": {},
   "source": [
    "## 8- Registration"
   ]
  },
  {
   "cell_type": "code",
   "execution_count": 240,
   "metadata": {},
   "outputs": [
    {
     "data": {
      "text/plain": [
       "-/-        1597\n",
       "03/2018     695\n",
       "02/2019     585\n",
       "05/2018     572\n",
       "03/2019     543\n",
       "01/2019     541\n",
       "04/2018     541\n",
       "02/2018     539\n",
       "03/2016     536\n",
       "04/2016     532\n",
       "06/2018     532\n",
       "01/2018     511\n",
       "04/2019     506\n",
       "02/2016     472\n",
       "03/2017     471\n",
       "05/2016     459\n",
       "06/2016     452\n",
       "05/2019     440\n",
       "06/2017     409\n",
       "05/2017     404\n",
       "07/2018     396\n",
       "04/2017     380\n",
       "01/2016     376\n",
       "02/2017     368\n",
       "01/2017     306\n",
       "08/2018     285\n",
       "06/2019     224\n",
       "07/2017     215\n",
       "11/2017     180\n",
       "07/2016     176\n",
       "10/2016     160\n",
       "10/2017     154\n",
       "09/2017     149\n",
       "11/2016     142\n",
       "09/2018     141\n",
       "09/2016     141\n",
       "12/2016     134\n",
       "12/2017     123\n",
       "08/2017     114\n",
       "11/2018     110\n",
       "12/2018     103\n",
       "10/2018      97\n",
       "08/2016      94\n",
       "07/2019       6\n",
       "09/2019       5\n",
       "08/2019       1\n",
       "11/2019       1\n",
       "12/2019       1\n",
       "Name: registration, dtype: int64"
      ]
     },
     "execution_count": 240,
     "metadata": {},
     "output_type": "execute_result"
    }
   ],
   "source": [
    "df.registration.value_counts(dropna=False)"
   ]
  },
  {
   "cell_type": "code",
   "execution_count": 241,
   "metadata": {},
   "outputs": [],
   "source": [
    "df['registration'] = df[\"registration\"].replace(\"-/-\", np.nan)"
   ]
  },
  {
   "cell_type": "code",
   "execution_count": 242,
   "metadata": {},
   "outputs": [
    {
     "data": {
      "text/plain": [
       "NaN        1597\n",
       "03/2018     695\n",
       "02/2019     585\n",
       "05/2018     572\n",
       "03/2019     543\n",
       "01/2019     541\n",
       "04/2018     541\n",
       "02/2018     539\n",
       "03/2016     536\n",
       "04/2016     532\n",
       "06/2018     532\n",
       "01/2018     511\n",
       "04/2019     506\n",
       "02/2016     472\n",
       "03/2017     471\n",
       "05/2016     459\n",
       "06/2016     452\n",
       "05/2019     440\n",
       "06/2017     409\n",
       "05/2017     404\n",
       "07/2018     396\n",
       "04/2017     380\n",
       "01/2016     376\n",
       "02/2017     368\n",
       "01/2017     306\n",
       "08/2018     285\n",
       "06/2019     224\n",
       "07/2017     215\n",
       "11/2017     180\n",
       "07/2016     176\n",
       "10/2016     160\n",
       "10/2017     154\n",
       "09/2017     149\n",
       "11/2016     142\n",
       "09/2018     141\n",
       "09/2016     141\n",
       "12/2016     134\n",
       "12/2017     123\n",
       "08/2017     114\n",
       "11/2018     110\n",
       "12/2018     103\n",
       "10/2018      97\n",
       "08/2016      94\n",
       "07/2019       6\n",
       "09/2019       5\n",
       "08/2019       1\n",
       "11/2019       1\n",
       "12/2019       1\n",
       "Name: registration, dtype: int64"
      ]
     },
     "execution_count": 242,
     "metadata": {},
     "output_type": "execute_result"
    }
   ],
   "source": [
    "df.registration.value_counts(dropna=False)"
   ]
  },
  {
   "cell_type": "markdown",
   "metadata": {},
   "source": [
    "## First Registration"
   ]
  },
  {
   "cell_type": "code",
   "execution_count": 243,
   "metadata": {},
   "outputs": [
    {
     "data": {
      "text/plain": [
       "Index(['make_model', 'body_type', 'price', 'vat', 'km', 'registration',\n",
       "       'prev_owner', 'hp', 'Type', 'Previous Owners', 'Next Inspection',\n",
       "       'Inspection new', 'Warranty', 'Full Service', 'Non-smoking Vehicle',\n",
       "       'null', 'Offer Number', 'First Registration', 'Body Color',\n",
       "       'Paint Type', 'Body Color Original', 'Upholstery', 'Nr. of Doors',\n",
       "       'Nr. of Seats', 'Model Code', 'Gearing Type', 'Displacement',\n",
       "       'Cylinders', 'Weight', 'Drive chain', 'Fuel', 'Consumption',\n",
       "       'CO2 Emission', 'Emission Class', 'Comfort_Convenience',\n",
       "       'Entertainment_Media', 'Extras', 'Safety_Security', 'Emission Label',\n",
       "       'Gears', 'Country version'],\n",
       "      dtype='object')"
      ]
     },
     "execution_count": 243,
     "metadata": {},
     "output_type": "execute_result"
    }
   ],
   "source": [
    "df.columns"
   ]
  },
  {
   "cell_type": "code",
   "execution_count": 244,
   "metadata": {},
   "outputs": [
    {
     "data": {
      "text/plain": [
       "['\\n', '2018', '\\n']    4522\n",
       "['\\n', '2016', '\\n']    3674\n",
       "['\\n', '2017', '\\n']    3273\n",
       "['\\n', '2019', '\\n']    2853\n",
       "nan                     1597\n",
       "Name: First Registration, dtype: int64"
      ]
     },
     "execution_count": 244,
     "metadata": {},
     "output_type": "execute_result"
    }
   ],
   "source": [
    "df['First Registration'].astype('str').value_counts(dropna=False)"
   ]
  },
  {
   "cell_type": "code",
   "execution_count": 245,
   "metadata": {},
   "outputs": [],
   "source": [
    "df['First Registration'] = df['First Registration'].str[1].astype('float')"
   ]
  },
  {
   "cell_type": "code",
   "execution_count": 246,
   "metadata": {},
   "outputs": [
    {
     "data": {
      "text/plain": [
       "2018.0    4522\n",
       "2016.0    3674\n",
       "2017.0    3273\n",
       "2019.0    2853\n",
       "nan       1597\n",
       "Name: First Registration, dtype: int64"
      ]
     },
     "execution_count": 246,
     "metadata": {},
     "output_type": "execute_result"
    }
   ],
   "source": [
    "df['First Registration'].astype('str').value_counts(dropna=False)"
   ]
  },
  {
   "cell_type": "markdown",
   "metadata": {},
   "source": [
    "## AGE"
   ]
  },
  {
   "cell_type": "code",
   "execution_count": 247,
   "metadata": {},
   "outputs": [],
   "source": [
    "df[\"age\"]= 2019 - df[\"First Registration\"]"
   ]
  },
  {
   "cell_type": "code",
   "execution_count": 248,
   "metadata": {},
   "outputs": [
    {
     "data": {
      "text/plain": [
       "1.0    4522\n",
       "3.0    3674\n",
       "2.0    3273\n",
       "0.0    2853\n",
       "NaN    1597\n",
       "Name: age, dtype: int64"
      ]
     },
     "execution_count": 248,
     "metadata": {},
     "output_type": "execute_result"
    }
   ],
   "source": [
    "df.age.value_counts(dropna=False)"
   ]
  },
  {
   "cell_type": "code",
   "execution_count": 249,
   "metadata": {},
   "outputs": [],
   "source": [
    "df.drop([\"registration\", \"First Registration\"], axis=1, inplace=True)"
   ]
  },
  {
   "cell_type": "markdown",
   "metadata": {},
   "source": [
    "## 9- prev_owner "
   ]
  },
  {
   "cell_type": "code",
   "execution_count": 250,
   "metadata": {},
   "outputs": [
    {
     "data": {
      "text/plain": [
       "6828"
      ]
     },
     "execution_count": 250,
     "metadata": {},
     "output_type": "execute_result"
    }
   ],
   "source": [
    "df.prev_owner.isnull().sum()"
   ]
  },
  {
   "cell_type": "code",
   "execution_count": 251,
   "metadata": {},
   "outputs": [
    {
     "data": {
      "text/plain": [
       "1 previous owner     8294\n",
       "2 previous owners     778\n",
       "3 previous owners      17\n",
       "4 previous owners       2\n",
       "Name: prev_owner, dtype: int64"
      ]
     },
     "execution_count": 251,
     "metadata": {},
     "output_type": "execute_result"
    }
   ],
   "source": [
    "df.prev_owner.value_counts()"
   ]
  },
  {
   "cell_type": "code",
   "execution_count": 252,
   "metadata": {},
   "outputs": [
    {
     "data": {
      "text/plain": [
       "1.0    8294\n",
       "NaN    6828\n",
       "2.0     778\n",
       "3.0      17\n",
       "4.0       2\n",
       "Name: prev_owner, dtype: int64"
      ]
     },
     "execution_count": 252,
     "metadata": {},
     "output_type": "execute_result"
    }
   ],
   "source": [
    "df['prev_owner'] = df['prev_owner'].str.findall('\\d').str.join(\"\").astype(float)\n",
    "df.prev_owner.value_counts(dropna=False)"
   ]
  },
  {
   "cell_type": "code",
   "execution_count": 253,
   "metadata": {},
   "outputs": [
    {
     "data": {
      "text/plain": [
       "\\n1\\n                                                                                                        8101\n",
       "nan                                                                                                          6640\n",
       "\\n2\\n                                                                                                         766\n",
       "\\n0\\n                                                                                                         163\n",
       "\\n3\\n                                                                                                          17\n",
       "                                                                                                             ... \n",
       "['\\n1\\n', '\\n111 g CO2/km (comb)\\n']                                                                            1\n",
       "['\\n1\\n', '\\nEuro 6\\n']                                                                                         1\n",
       "['\\n2\\n', '\\n119 g CO2/km (comb)\\n']                                                                            1\n",
       "['\\n1\\n', '\\n', '6.6 l/100 km (comb)', '\\n', '8.1 l/100 km (city)', '\\n', '5.7 l/100 km (country)', '\\n']       1\n",
       "['\\n2\\n', '\\n137 g CO2/km (comb)\\n']                                                                            1\n",
       "Name: Previous Owners, Length: 103, dtype: int64"
      ]
     },
     "execution_count": 253,
     "metadata": {},
     "output_type": "execute_result"
    }
   ],
   "source": [
    "df[\"Previous Owners\"].astype('str').value_counts(dropna=False)"
   ]
  },
  {
   "cell_type": "code",
   "execution_count": 254,
   "metadata": {},
   "outputs": [
    {
     "data": {
      "text/plain": [
       "\\n1\\n                                                                        8103\n",
       "NaN                                                                          6640\n",
       "\\n2\\n                                                                         766\n",
       "\\n0\\n                                                                         163\n",
       "\\n3\\n                                                                          17\n",
       "                                                                             ... \n",
       "\\n1\\n\\n111 g CO2/km (comb)\\n                                                    1\n",
       "\\n1\\n\\nEuro 6\\n                                                                 1\n",
       "\\n2\\n\\n119 g CO2/km (comb)\\n                                                    1\n",
       "\\n1\\n\\n6.6 l/100 km (comb)\\n8.1 l/100 km (city)\\n5.7 l/100 km (country)\\n       1\n",
       "\\n1\\n\\n142 g CO2/km (comb)\\n                                                    1\n",
       "Name: Previous Owners, Length: 102, dtype: int64"
      ]
     },
     "execution_count": 254,
     "metadata": {},
     "output_type": "execute_result"
    }
   ],
   "source": [
    "df[\"Previous Owners\"].str.join(\"\").value_counts(dropna=False)"
   ]
  },
  {
   "cell_type": "code",
   "execution_count": 255,
   "metadata": {},
   "outputs": [
    {
     "data": {
      "text/plain": [
       "['\\n2\\n',\n",
       " nan,\n",
       " '\\n1\\n',\n",
       " '\\n1\\n',\n",
       " '\\n1\\n',\n",
       " '\\n1\\n',\n",
       " '\\n1\\n',\n",
       " '\\n1\\n',\n",
       " '\\n1\\n',\n",
       " nan,\n",
       " nan,\n",
       " '\\n1\\n',\n",
       " '\\n1\\n',\n",
       " nan,\n",
       " '\\n1\\n',\n",
       " '\\n1\\n',\n",
       " nan,\n",
       " '\\n1\\n',\n",
       " nan,\n",
       " nan,\n",
       " '\\n1\\n',\n",
       " '\\n1\\n',\n",
       " '\\n1\\n',\n",
       " nan,\n",
       " '\\n1\\n',\n",
       " nan,\n",
       " '\\n1\\n',\n",
       " '\\n1\\n',\n",
       " nan,\n",
       " nan,\n",
       " nan,\n",
       " '\\n1\\n',\n",
       " '\\n1\\n',\n",
       " '\\n1\\n',\n",
       " nan,\n",
       " '\\n1\\n',\n",
       " '\\n1\\n',\n",
       " '\\n1\\n',\n",
       " '\\n2\\n',\n",
       " '\\n1\\n',\n",
       " '\\n1\\n',\n",
       " '\\n1\\n',\n",
       " '\\n1\\n',\n",
       " '\\n1\\n',\n",
       " '\\n1\\n',\n",
       " '\\n1\\n',\n",
       " '\\n1\\n',\n",
       " '\\n0\\n',\n",
       " '\\n2\\n',\n",
       " '\\n1\\n',\n",
       " '\\n1\\n',\n",
       " '\\n1\\n',\n",
       " nan,\n",
       " nan,\n",
       " '\\n1\\n',\n",
       " '\\n1\\n',\n",
       " '\\n1\\n',\n",
       " '\\n1\\n',\n",
       " '\\n2\\n',\n",
       " nan,\n",
       " '\\n1\\n',\n",
       " '\\n1\\n',\n",
       " '\\n1\\n',\n",
       " '\\n1\\n',\n",
       " '\\n1\\n',\n",
       " nan,\n",
       " nan,\n",
       " nan,\n",
       " '\\n1\\n',\n",
       " '\\n1\\n',\n",
       " nan,\n",
       " '\\n1\\n',\n",
       " '\\n1\\n',\n",
       " '\\n1\\n',\n",
       " '\\n1\\n',\n",
       " '\\n1\\n',\n",
       " '\\n1\\n',\n",
       " '\\n1\\n',\n",
       " '\\n1\\n',\n",
       " '\\n1\\n',\n",
       " '\\n1\\n',\n",
       " nan,\n",
       " '\\n1\\n',\n",
       " '\\n1\\n',\n",
       " '\\n2\\n',\n",
       " nan,\n",
       " nan,\n",
       " '\\n1\\n',\n",
       " '\\n1\\n',\n",
       " '\\n1\\n',\n",
       " '\\n1\\n',\n",
       " '\\n1\\n',\n",
       " '\\n2\\n',\n",
       " '\\n1\\n',\n",
       " nan,\n",
       " nan,\n",
       " nan,\n",
       " nan,\n",
       " '\\n1\\n',\n",
       " '\\n1\\n',\n",
       " nan,\n",
       " nan,\n",
       " '\\n1\\n',\n",
       " nan,\n",
       " nan,\n",
       " nan,\n",
       " nan,\n",
       " nan,\n",
       " nan,\n",
       " nan,\n",
       " nan,\n",
       " nan,\n",
       " nan,\n",
       " nan,\n",
       " '\\n1\\n',\n",
       " nan,\n",
       " nan,\n",
       " '\\n1\\n',\n",
       " nan,\n",
       " '\\n1\\n',\n",
       " '\\n1\\n',\n",
       " '\\n1\\n',\n",
       " nan,\n",
       " '\\n1\\n',\n",
       " '\\n1\\n',\n",
       " '\\n1\\n',\n",
       " '\\n1\\n',\n",
       " '\\n1\\n',\n",
       " '\\n1\\n',\n",
       " '\\n1\\n',\n",
       " nan,\n",
       " nan,\n",
       " nan,\n",
       " '\\n1\\n',\n",
       " nan,\n",
       " '\\n1\\n',\n",
       " '\\n1\\n',\n",
       " '\\n1\\n',\n",
       " '\\n1\\n',\n",
       " '\\n2\\n',\n",
       " nan,\n",
       " nan,\n",
       " '\\n1\\n',\n",
       " '\\n1\\n',\n",
       " '\\n2\\n',\n",
       " '\\n1\\n',\n",
       " '\\n2\\n',\n",
       " '\\n2\\n',\n",
       " '\\n1\\n',\n",
       " '\\n1\\n',\n",
       " nan,\n",
       " '\\n1\\n',\n",
       " '\\n1\\n',\n",
       " '\\n1\\n',\n",
       " '\\n1\\n',\n",
       " '\\n2\\n',\n",
       " '\\n1\\n',\n",
       " '\\n1\\n',\n",
       " '\\n1\\n',\n",
       " nan,\n",
       " '\\n1\\n',\n",
       " '\\n1\\n',\n",
       " '\\n2\\n',\n",
       " '\\n1\\n',\n",
       " '\\n1\\n',\n",
       " '\\n2\\n',\n",
       " '\\n2\\n',\n",
       " '\\n1\\n',\n",
       " nan,\n",
       " '\\n1\\n',\n",
       " nan,\n",
       " nan,\n",
       " '\\n1\\n',\n",
       " nan,\n",
       " '\\n2\\n',\n",
       " '\\n1\\n',\n",
       " nan,\n",
       " '\\n2\\n',\n",
       " '\\n1\\n',\n",
       " '\\n2\\n',\n",
       " '\\n1\\n',\n",
       " '\\n2\\n',\n",
       " '\\n1\\n',\n",
       " '\\n1\\n',\n",
       " '\\n1\\n',\n",
       " '\\n1\\n',\n",
       " '\\n1\\n',\n",
       " '\\n1\\n',\n",
       " '\\n1\\n',\n",
       " '\\n1\\n',\n",
       " nan,\n",
       " nan,\n",
       " '\\n1\\n',\n",
       " '\\n1\\n',\n",
       " '\\n1\\n',\n",
       " nan,\n",
       " '\\n1\\n',\n",
       " nan,\n",
       " '\\n1\\n',\n",
       " '\\n1\\n',\n",
       " '\\n2\\n',\n",
       " nan,\n",
       " '\\n1\\n',\n",
       " '\\n1\\n',\n",
       " '\\n1\\n',\n",
       " nan,\n",
       " '\\n2\\n',\n",
       " '\\n2\\n',\n",
       " nan,\n",
       " '\\n1\\n',\n",
       " nan,\n",
       " '\\n1\\n',\n",
       " '\\n1\\n',\n",
       " '\\n1\\n',\n",
       " '\\n1\\n',\n",
       " '\\n1\\n',\n",
       " '\\n1\\n',\n",
       " '\\n1\\n',\n",
       " '\\n1\\n',\n",
       " nan,\n",
       " '\\n2\\n',\n",
       " '\\n1\\n',\n",
       " '\\n1\\n',\n",
       " '\\n1\\n',\n",
       " '\\n1\\n',\n",
       " '\\n1\\n',\n",
       " '\\n1\\n',\n",
       " nan,\n",
       " nan,\n",
       " nan,\n",
       " '\\n1\\n',\n",
       " nan,\n",
       " nan,\n",
       " nan,\n",
       " '\\n1\\n',\n",
       " '\\n1\\n',\n",
       " '\\n1\\n',\n",
       " '\\n1\\n',\n",
       " '\\n1\\n',\n",
       " '\\n1\\n',\n",
       " '\\n1\\n',\n",
       " '\\n2\\n',\n",
       " '\\n2\\n',\n",
       " '\\n1\\n',\n",
       " nan,\n",
       " '\\n1\\n',\n",
       " '\\n1\\n',\n",
       " nan,\n",
       " '\\n1\\n',\n",
       " '\\n1\\n',\n",
       " nan,\n",
       " '\\n2\\n',\n",
       " nan,\n",
       " nan,\n",
       " '\\n1\\n',\n",
       " '\\n1\\n',\n",
       " '\\n2\\n',\n",
       " '\\n1\\n',\n",
       " '\\n1\\n',\n",
       " '\\n2\\n',\n",
       " nan,\n",
       " nan,\n",
       " nan,\n",
       " '\\n1\\n',\n",
       " '\\n1\\n',\n",
       " '\\n1\\n',\n",
       " '\\n1\\n',\n",
       " '\\n2\\n',\n",
       " '\\n1\\n',\n",
       " '\\n1\\n',\n",
       " nan,\n",
       " '\\n1\\n',\n",
       " '\\n1\\n',\n",
       " '\\n1\\n',\n",
       " nan,\n",
       " nan,\n",
       " nan,\n",
       " '\\n1\\n',\n",
       " nan,\n",
       " '\\n2\\n',\n",
       " '\\n1\\n',\n",
       " '\\n1\\n',\n",
       " '\\n2\\n',\n",
       " '\\n1\\n',\n",
       " '\\n1\\n',\n",
       " '\\n1\\n',\n",
       " '\\n1\\n',\n",
       " '\\n1\\n',\n",
       " '\\n1\\n',\n",
       " '\\n1\\n',\n",
       " '\\n1\\n',\n",
       " '\\n1\\n',\n",
       " '\\n1\\n',\n",
       " '\\n1\\n',\n",
       " '\\n1\\n',\n",
       " '\\n1\\n',\n",
       " '\\n1\\n',\n",
       " '\\n1\\n',\n",
       " '\\n1\\n',\n",
       " '\\n1\\n',\n",
       " '\\n1\\n',\n",
       " '\\n1\\n',\n",
       " '\\n1\\n',\n",
       " '\\n2\\n',\n",
       " '\\n1\\n',\n",
       " '\\n1\\n',\n",
       " '\\n1\\n',\n",
       " '\\n1\\n',\n",
       " '\\n1\\n',\n",
       " nan,\n",
       " nan,\n",
       " '\\n1\\n',\n",
       " '\\n1\\n',\n",
       " '\\n1\\n',\n",
       " '\\n1\\n',\n",
       " '\\n1\\n',\n",
       " '\\n1\\n',\n",
       " '\\n1\\n',\n",
       " '\\n1\\n',\n",
       " '\\n1\\n',\n",
       " '\\n1\\n',\n",
       " '\\n1\\n',\n",
       " '\\n1\\n',\n",
       " '\\n1\\n',\n",
       " '\\n1\\n',\n",
       " '\\n1\\n',\n",
       " '\\n1\\n',\n",
       " nan,\n",
       " '\\n1\\n',\n",
       " '\\n1\\n',\n",
       " '\\n1\\n',\n",
       " nan,\n",
       " '\\n1\\n',\n",
       " '\\n1\\n',\n",
       " nan,\n",
       " '\\n2\\n',\n",
       " '\\n2\\n',\n",
       " '\\n2\\n',\n",
       " '\\n1\\n',\n",
       " '\\n2\\n',\n",
       " '\\n2\\n',\n",
       " '\\n2\\n',\n",
       " '\\n2\\n',\n",
       " '\\n2\\n',\n",
       " '\\n2\\n',\n",
       " '\\n2\\n',\n",
       " '\\n2\\n',\n",
       " '\\n1\\n',\n",
       " '\\n1\\n',\n",
       " '\\n2\\n',\n",
       " '\\n1\\n',\n",
       " '\\n2\\n',\n",
       " '\\n2\\n',\n",
       " '\\n1\\n',\n",
       " '\\n2\\n',\n",
       " nan,\n",
       " '\\n2\\n',\n",
       " '\\n2\\n',\n",
       " '\\n2\\n',\n",
       " '\\n2\\n',\n",
       " '\\n2\\n',\n",
       " nan,\n",
       " '\\n2\\n',\n",
       " '\\n2\\n',\n",
       " '\\n2\\n',\n",
       " '\\n1\\n',\n",
       " '\\n2\\n',\n",
       " nan,\n",
       " '\\n1\\n',\n",
       " '\\n2\\n',\n",
       " nan,\n",
       " '\\n1\\n',\n",
       " nan,\n",
       " '\\n1\\n',\n",
       " nan,\n",
       " '\\n2\\n',\n",
       " '\\n2\\n',\n",
       " '\\n2\\n',\n",
       " '\\n2\\n',\n",
       " '\\n2\\n',\n",
       " '\\n1\\n',\n",
       " nan,\n",
       " '\\n1\\n',\n",
       " '\\n2\\n',\n",
       " '\\n2\\n',\n",
       " '\\n2\\n',\n",
       " '\\n2\\n',\n",
       " nan,\n",
       " nan,\n",
       " '\\n1\\n',\n",
       " '\\n1\\n',\n",
       " '\\n1\\n',\n",
       " '\\n1\\n',\n",
       " '\\n1\\n',\n",
       " '\\n1\\n',\n",
       " '\\n1\\n',\n",
       " '\\n1\\n',\n",
       " nan,\n",
       " '\\n2\\n',\n",
       " '\\n1\\n',\n",
       " '\\n1\\n',\n",
       " '\\n1\\n',\n",
       " '\\n1\\n',\n",
       " '\\n1\\n',\n",
       " nan,\n",
       " nan,\n",
       " nan,\n",
       " nan,\n",
       " nan,\n",
       " '\\n1\\n',\n",
       " '\\n1\\n',\n",
       " '\\n1\\n',\n",
       " '\\n1\\n',\n",
       " '\\n1\\n',\n",
       " '\\n1\\n',\n",
       " '\\n1\\n',\n",
       " '\\n1\\n',\n",
       " '\\n1\\n',\n",
       " '\\n0\\n',\n",
       " nan,\n",
       " '\\n1\\n',\n",
       " '\\n1\\n',\n",
       " '\\n2\\n',\n",
       " '\\n2\\n',\n",
       " '\\n1\\n',\n",
       " '\\n1\\n',\n",
       " '\\n2\\n',\n",
       " nan,\n",
       " '\\n1\\n',\n",
       " '\\n1\\n',\n",
       " '\\n1\\n',\n",
       " '\\n1\\n',\n",
       " '\\n1\\n',\n",
       " '\\n2\\n',\n",
       " '\\n1\\n',\n",
       " nan,\n",
       " '\\n1\\n',\n",
       " '\\n1\\n',\n",
       " '\\n1\\n',\n",
       " '\\n1\\n',\n",
       " '\\n1\\n',\n",
       " '\\n1\\n',\n",
       " '\\n1\\n',\n",
       " '\\n2\\n',\n",
       " nan,\n",
       " '\\n1\\n',\n",
       " nan,\n",
       " nan,\n",
       " nan,\n",
       " '\\n1\\n',\n",
       " '\\n1\\n',\n",
       " '\\n1\\n',\n",
       " '\\n1\\n',\n",
       " '\\n1\\n',\n",
       " '\\n1\\n',\n",
       " '\\n1\\n',\n",
       " '\\n1\\n',\n",
       " nan,\n",
       " '\\n1\\n',\n",
       " nan,\n",
       " nan,\n",
       " nan,\n",
       " '\\n1\\n',\n",
       " '\\n1\\n',\n",
       " '\\n1\\n',\n",
       " '\\n1\\n',\n",
       " nan,\n",
       " '\\n1\\n',\n",
       " nan,\n",
       " nan,\n",
       " nan,\n",
       " '\\n2\\n',\n",
       " '\\n1\\n',\n",
       " '\\n1\\n',\n",
       " '\\n1\\n',\n",
       " '\\n1\\n',\n",
       " nan,\n",
       " '\\n1\\n',\n",
       " '\\n1\\n',\n",
       " nan,\n",
       " nan,\n",
       " '\\n1\\n',\n",
       " '\\n1\\n',\n",
       " nan,\n",
       " nan,\n",
       " nan,\n",
       " nan,\n",
       " nan,\n",
       " '\\n1\\n',\n",
       " nan,\n",
       " '\\n1\\n',\n",
       " '\\n1\\n',\n",
       " '\\n1\\n',\n",
       " '\\n1\\n',\n",
       " '\\n1\\n',\n",
       " '\\n1\\n',\n",
       " '\\n1\\n',\n",
       " nan,\n",
       " '\\n1\\n',\n",
       " '\\n1\\n',\n",
       " '\\n1\\n',\n",
       " nan,\n",
       " '\\n1\\n',\n",
       " '\\n2\\n',\n",
       " '\\n2\\n',\n",
       " nan,\n",
       " '\\n1\\n',\n",
       " '\\n1\\n',\n",
       " '\\n1\\n',\n",
       " '\\n1\\n',\n",
       " nan,\n",
       " '\\n1\\n',\n",
       " '\\n1\\n',\n",
       " '\\n2\\n',\n",
       " '\\n1\\n',\n",
       " nan,\n",
       " '\\n2\\n',\n",
       " nan,\n",
       " nan,\n",
       " '\\n1\\n',\n",
       " '\\n1\\n',\n",
       " '\\n1\\n',\n",
       " '\\n2\\n',\n",
       " '\\n1\\n',\n",
       " nan,\n",
       " '\\n1\\n',\n",
       " '\\n1\\n',\n",
       " '\\n1\\n',\n",
       " '\\n1\\n',\n",
       " '\\n1\\n',\n",
       " nan,\n",
       " '\\n1\\n',\n",
       " nan,\n",
       " '\\n1\\n',\n",
       " '\\n1\\n',\n",
       " '\\n1\\n',\n",
       " '\\n1\\n',\n",
       " '\\n1\\n',\n",
       " '\\n1\\n',\n",
       " '\\n1\\n',\n",
       " '\\n1\\n',\n",
       " '\\n1\\n',\n",
       " '\\n1\\n',\n",
       " '\\n1\\n',\n",
       " '\\n1\\n',\n",
       " '\\n1\\n',\n",
       " nan,\n",
       " nan,\n",
       " '\\n1\\n',\n",
       " '\\n1\\n',\n",
       " '\\n1\\n',\n",
       " '\\n1\\n',\n",
       " '\\n1\\n',\n",
       " '\\n1\\n',\n",
       " '\\n1\\n',\n",
       " '\\n1\\n',\n",
       " '\\n1\\n',\n",
       " '\\n1\\n',\n",
       " '\\n1\\n',\n",
       " '\\n1\\n',\n",
       " '\\n1\\n',\n",
       " '\\n1\\n',\n",
       " nan,\n",
       " nan,\n",
       " nan,\n",
       " nan,\n",
       " nan,\n",
       " '\\n2\\n',\n",
       " '\\n1\\n',\n",
       " nan,\n",
       " nan,\n",
       " '\\n1\\n',\n",
       " '\\n1\\n',\n",
       " '\\n1\\n',\n",
       " '\\n1\\n',\n",
       " '\\n1\\n',\n",
       " '\\n1\\n',\n",
       " nan,\n",
       " nan,\n",
       " '\\n1\\n',\n",
       " '\\n1\\n',\n",
       " nan,\n",
       " '\\n1\\n',\n",
       " '\\n1\\n',\n",
       " nan,\n",
       " '\\n2\\n',\n",
       " '\\n0\\n',\n",
       " '\\n1\\n',\n",
       " '\\n2\\n',\n",
       " nan,\n",
       " '\\n1\\n',\n",
       " '\\n1\\n',\n",
       " '\\n1\\n',\n",
       " '\\n1\\n',\n",
       " '\\n2\\n',\n",
       " nan,\n",
       " '\\n1\\n',\n",
       " '\\n1\\n',\n",
       " nan,\n",
       " '\\n1\\n',\n",
       " '\\n1\\n',\n",
       " nan,\n",
       " '\\n1\\n',\n",
       " '\\n1\\n',\n",
       " '\\n2\\n',\n",
       " nan,\n",
       " '\\n1\\n',\n",
       " '\\n1\\n',\n",
       " nan,\n",
       " '\\n1\\n',\n",
       " '\\n1\\n',\n",
       " '\\n1\\n',\n",
       " '\\n2\\n',\n",
       " '\\n1\\n',\n",
       " '\\n2\\n',\n",
       " '\\n1\\n',\n",
       " '\\n1\\n',\n",
       " nan,\n",
       " '\\n1\\n',\n",
       " '\\n1\\n',\n",
       " '\\n1\\n',\n",
       " '\\n1\\n',\n",
       " '\\n1\\n',\n",
       " nan,\n",
       " '\\n1\\n',\n",
       " '\\n1\\n',\n",
       " '\\n1\\n',\n",
       " '\\n2\\n',\n",
       " '\\n1\\n',\n",
       " '\\n1\\n',\n",
       " '\\n1\\n',\n",
       " '\\n1\\n',\n",
       " '\\n1\\n',\n",
       " '\\n1\\n',\n",
       " nan,\n",
       " '\\n1\\n',\n",
       " '\\n1\\n',\n",
       " nan,\n",
       " '\\n1\\n',\n",
       " '\\n2\\n',\n",
       " '\\n2\\n',\n",
       " nan,\n",
       " '\\n1\\n',\n",
       " nan,\n",
       " nan,\n",
       " '\\n1\\n',\n",
       " '\\n1\\n',\n",
       " nan,\n",
       " '\\n0\\n',\n",
       " '\\n1\\n',\n",
       " '\\n1\\n',\n",
       " '\\n2\\n',\n",
       " '\\n1\\n',\n",
       " '\\n2\\n',\n",
       " '\\n1\\n',\n",
       " nan,\n",
       " nan,\n",
       " '\\n1\\n',\n",
       " '\\n1\\n',\n",
       " '\\n1\\n',\n",
       " '\\n1\\n',\n",
       " nan,\n",
       " nan,\n",
       " '\\n2\\n',\n",
       " '\\n1\\n',\n",
       " nan,\n",
       " '\\n1\\n',\n",
       " '\\n1\\n',\n",
       " '\\n1\\n',\n",
       " '\\n1\\n',\n",
       " '\\n1\\n',\n",
       " nan,\n",
       " nan,\n",
       " '\\n1\\n',\n",
       " nan,\n",
       " '\\n1\\n',\n",
       " '\\n1\\n',\n",
       " '\\n1\\n',\n",
       " nan,\n",
       " '\\n3\\n',\n",
       " '\\n1\\n',\n",
       " nan,\n",
       " '\\n1\\n',\n",
       " '\\n1\\n',\n",
       " '\\n1\\n',\n",
       " '\\n1\\n',\n",
       " '\\n1\\n',\n",
       " '\\n1\\n',\n",
       " nan,\n",
       " nan,\n",
       " '\\n1\\n',\n",
       " '\\n1\\n',\n",
       " '\\n1\\n',\n",
       " '\\n1\\n',\n",
       " '\\n1\\n',\n",
       " nan,\n",
       " '\\n1\\n',\n",
       " '\\n1\\n',\n",
       " '\\n1\\n',\n",
       " '\\n1\\n',\n",
       " '\\n1\\n',\n",
       " '\\n1\\n',\n",
       " '\\n2\\n',\n",
       " '\\n1\\n',\n",
       " '\\n1\\n',\n",
       " '\\n1\\n',\n",
       " nan,\n",
       " '\\n1\\n',\n",
       " nan,\n",
       " '\\n1\\n',\n",
       " nan,\n",
       " '\\n1\\n',\n",
       " '\\n1\\n',\n",
       " nan,\n",
       " '\\n1\\n',\n",
       " '\\n1\\n',\n",
       " '\\n1\\n',\n",
       " '\\n1\\n',\n",
       " '\\n1\\n',\n",
       " '\\n1\\n',\n",
       " nan,\n",
       " '\\n1\\n',\n",
       " '\\n1\\n',\n",
       " nan,\n",
       " '\\n1\\n',\n",
       " '\\n2\\n',\n",
       " '\\n1\\n',\n",
       " '\\n2\\n',\n",
       " '\\n1\\n',\n",
       " '\\n1\\n',\n",
       " '\\n1\\n',\n",
       " '\\n1\\n',\n",
       " '\\n1\\n',\n",
       " nan,\n",
       " '\\n0\\n',\n",
       " nan,\n",
       " '\\n1\\n',\n",
       " '\\n1\\n',\n",
       " '\\n1\\n',\n",
       " '\\n1\\n',\n",
       " '\\n1\\n',\n",
       " nan,\n",
       " '\\n1\\n',\n",
       " '\\n0\\n',\n",
       " nan,\n",
       " '\\n1\\n',\n",
       " '\\n1\\n',\n",
       " '\\n1\\n',\n",
       " '\\n1\\n',\n",
       " '\\n1\\n',\n",
       " '\\n1\\n',\n",
       " '\\n2\\n',\n",
       " nan,\n",
       " '\\n1\\n',\n",
       " nan,\n",
       " nan,\n",
       " nan,\n",
       " nan,\n",
       " '\\n2\\n',\n",
       " '\\n1\\n',\n",
       " nan,\n",
       " '\\n1\\n',\n",
       " '\\n1\\n',\n",
       " '\\n1\\n',\n",
       " '\\n2\\n',\n",
       " '\\n1\\n',\n",
       " '\\n1\\n',\n",
       " nan,\n",
       " nan,\n",
       " nan,\n",
       " nan,\n",
       " nan,\n",
       " nan,\n",
       " nan,\n",
       " nan,\n",
       " nan,\n",
       " nan,\n",
       " nan,\n",
       " nan,\n",
       " nan,\n",
       " '\\n1\\n',\n",
       " nan,\n",
       " nan,\n",
       " nan,\n",
       " nan,\n",
       " nan,\n",
       " nan,\n",
       " nan,\n",
       " nan,\n",
       " '\\n1\\n',\n",
       " '\\n1\\n',\n",
       " nan,\n",
       " '\\n2\\n',\n",
       " '\\n1\\n',\n",
       " nan,\n",
       " nan,\n",
       " '\\n1\\n',\n",
       " '\\n1\\n',\n",
       " nan,\n",
       " '\\n1\\n',\n",
       " '\\n1\\n',\n",
       " '\\n1\\n',\n",
       " nan,\n",
       " '\\n2\\n',\n",
       " '\\n1\\n',\n",
       " nan,\n",
       " '\\n1\\n',\n",
       " '\\n1\\n',\n",
       " '\\n1\\n',\n",
       " '\\n2\\n',\n",
       " nan,\n",
       " nan,\n",
       " '\\n2\\n',\n",
       " nan,\n",
       " nan,\n",
       " '\\n2\\n',\n",
       " nan,\n",
       " '\\n1\\n',\n",
       " '\\n1\\n',\n",
       " '\\n1\\n',\n",
       " '\\n1\\n',\n",
       " '\\n1\\n',\n",
       " '\\n2\\n',\n",
       " '\\n2\\n',\n",
       " '\\n1\\n',\n",
       " '\\n1\\n',\n",
       " '\\n2\\n',\n",
       " '\\n1\\n',\n",
       " '\\n1\\n',\n",
       " '\\n1\\n',\n",
       " '\\n1\\n',\n",
       " nan,\n",
       " nan,\n",
       " nan,\n",
       " '\\n1\\n',\n",
       " '\\n1\\n',\n",
       " '\\n1\\n',\n",
       " nan,\n",
       " nan,\n",
       " '\\n1\\n',\n",
       " '\\n2\\n',\n",
       " '\\n1\\n',\n",
       " '\\n2\\n',\n",
       " nan,\n",
       " '\\n1\\n',\n",
       " '\\n1\\n',\n",
       " '\\n1\\n',\n",
       " '\\n1\\n',\n",
       " '\\n1\\n',\n",
       " '\\n1\\n',\n",
       " '\\n1\\n',\n",
       " '\\n1\\n',\n",
       " '\\n1\\n',\n",
       " '\\n1\\n',\n",
       " nan,\n",
       " nan,\n",
       " '\\n1\\n',\n",
       " '\\n2\\n',\n",
       " '\\n1\\n',\n",
       " '\\n1\\n',\n",
       " nan,\n",
       " nan,\n",
       " nan,\n",
       " nan,\n",
       " '\\n1\\n',\n",
       " nan,\n",
       " nan,\n",
       " nan,\n",
       " nan,\n",
       " '\\n0\\n',\n",
       " '\\n1\\n',\n",
       " '\\n1\\n',\n",
       " '\\n1\\n',\n",
       " '\\n1\\n',\n",
       " nan,\n",
       " nan,\n",
       " nan,\n",
       " nan,\n",
       " '\\n1\\n',\n",
       " nan,\n",
       " '\\n1\\n',\n",
       " nan,\n",
       " '\\n1\\n',\n",
       " '\\n1\\n',\n",
       " '\\n2\\n',\n",
       " nan,\n",
       " nan,\n",
       " '\\n1\\n',\n",
       " nan,\n",
       " nan,\n",
       " nan,\n",
       " '\\n1\\n',\n",
       " '\\n1\\n',\n",
       " '\\n1\\n',\n",
       " '\\n2\\n',\n",
       " '\\n1\\n',\n",
       " nan,\n",
       " '\\n1\\n',\n",
       " nan,\n",
       " nan,\n",
       " '\\n1\\n',\n",
       " nan,\n",
       " nan,\n",
       " nan,\n",
       " '\\n1\\n',\n",
       " '\\n1\\n',\n",
       " nan,\n",
       " '\\n1\\n',\n",
       " nan,\n",
       " '\\n1\\n',\n",
       " '\\n1\\n',\n",
       " '\\n1\\n',\n",
       " '\\n1\\n',\n",
       " '\\n1\\n',\n",
       " '\\n1\\n',\n",
       " '\\n1\\n',\n",
       " '\\n1\\n',\n",
       " '\\n1\\n',\n",
       " '\\n1\\n',\n",
       " '\\n1\\n',\n",
       " '\\n2\\n',\n",
       " '\\n1\\n',\n",
       " '\\n1\\n',\n",
       " '\\n1\\n',\n",
       " '\\n1\\n',\n",
       " '\\n1\\n',\n",
       " '\\n1\\n',\n",
       " nan,\n",
       " '\\n1\\n',\n",
       " '\\n1\\n',\n",
       " nan,\n",
       " '\\n2\\n',\n",
       " nan,\n",
       " nan,\n",
       " '\\n1\\n',\n",
       " '\\n1\\n',\n",
       " nan,\n",
       " nan,\n",
       " nan,\n",
       " nan,\n",
       " nan,\n",
       " nan,\n",
       " '\\n1\\n',\n",
       " '\\n1\\n',\n",
       " '\\n1\\n',\n",
       " '\\n1\\n',\n",
       " nan,\n",
       " '\\n1\\n',\n",
       " '\\n1\\n',\n",
       " '\\n1\\n',\n",
       " '\\n1\\n',\n",
       " '\\n1\\n',\n",
       " nan,\n",
       " nan,\n",
       " nan,\n",
       " '\\n2\\n',\n",
       " '\\n1\\n',\n",
       " '\\n2\\n',\n",
       " '\\n1\\n',\n",
       " '\\n1\\n',\n",
       " nan,\n",
       " nan,\n",
       " nan,\n",
       " '\\n1\\n',\n",
       " '\\n1\\n',\n",
       " '\\n1\\n',\n",
       " nan,\n",
       " '\\n1\\n',\n",
       " '\\n1\\n',\n",
       " nan,\n",
       " '\\n1\\n',\n",
       " '\\n1\\n',\n",
       " '\\n4\\n',\n",
       " '\\n1\\n',\n",
       " nan,\n",
       " '\\n1\\n',\n",
       " '\\n1\\n',\n",
       " nan,\n",
       " '\\n1\\n',\n",
       " '\\n1\\n',\n",
       " '\\n0\\n',\n",
       " '\\n1\\n',\n",
       " nan,\n",
       " '\\n1\\n',\n",
       " nan,\n",
       " '\\n1\\n',\n",
       " '\\n1\\n',\n",
       " nan,\n",
       " '\\n1\\n',\n",
       " '\\n1\\n',\n",
       " nan,\n",
       " nan,\n",
       " nan,\n",
       " nan,\n",
       " '\\n1\\n',\n",
       " '\\n1\\n',\n",
       " '\\n1\\n',\n",
       " '\\n1\\n',\n",
       " '\\n1\\n',\n",
       " '\\n1\\n',\n",
       " ...]"
      ]
     },
     "execution_count": 255,
     "metadata": {},
     "output_type": "execute_result"
    }
   ],
   "source": [
    "[item[0] if type(item) == list else item for item in df[\"Previous Owners\"]]"
   ]
  },
  {
   "cell_type": "code",
   "execution_count": 256,
   "metadata": {},
   "outputs": [],
   "source": [
    "df[\"Previous Owners\"] = df[\"Previous Owners\"].str.strip(\"\\n\").astype('float')"
   ]
  },
  {
   "cell_type": "code",
   "execution_count": 257,
   "metadata": {},
   "outputs": [
    {
     "data": {
      "text/plain": [
       "1.0    8101\n",
       "NaN    6870\n",
       "2.0     766\n",
       "0.0     163\n",
       "3.0      17\n",
       "4.0       2\n",
       "Name: Previous Owners, dtype: int64"
      ]
     },
     "execution_count": 257,
     "metadata": {},
     "output_type": "execute_result"
    }
   ],
   "source": [
    "df[\"Previous Owners\"].value_counts(dropna=False)"
   ]
  },
  {
   "cell_type": "code",
   "execution_count": 258,
   "metadata": {},
   "outputs": [
    {
     "data": {
      "text/plain": [
       "1.0    8294\n",
       "NaN    6828\n",
       "2.0     778\n",
       "3.0      17\n",
       "4.0       2\n",
       "Name: prev_owner, dtype: int64"
      ]
     },
     "execution_count": 258,
     "metadata": {},
     "output_type": "execute_result"
    }
   ],
   "source": [
    "df.prev_owner.value_counts(dropna=False)"
   ]
  },
  {
   "cell_type": "code",
   "execution_count": 259,
   "metadata": {},
   "outputs": [],
   "source": [
    "df[\"Previous Owners\"].fillna(df[\"prev_owner\"], inplace=True)"
   ]
  },
  {
   "cell_type": "code",
   "execution_count": 260,
   "metadata": {},
   "outputs": [],
   "source": [
    "df[\"prev_owner\"].fillna(df[\"Previous Owners\"], inplace=True)"
   ]
  },
  {
   "cell_type": "code",
   "execution_count": 261,
   "metadata": {},
   "outputs": [
    {
     "data": {
      "text/plain": [
       "1.0    8294\n",
       "NaN    6665\n",
       "2.0     778\n",
       "0.0     163\n",
       "3.0      17\n",
       "4.0       2\n",
       "Name: Previous Owners, dtype: int64"
      ]
     },
     "execution_count": 261,
     "metadata": {},
     "output_type": "execute_result"
    }
   ],
   "source": [
    "df[\"Previous Owners\"].value_counts(dropna=False)"
   ]
  },
  {
   "cell_type": "code",
   "execution_count": 262,
   "metadata": {},
   "outputs": [
    {
     "data": {
      "text/plain": [
       "1.0    8294\n",
       "NaN    6665\n",
       "2.0     778\n",
       "0.0     163\n",
       "3.0      17\n",
       "4.0       2\n",
       "Name: prev_owner, dtype: int64"
      ]
     },
     "execution_count": 262,
     "metadata": {},
     "output_type": "execute_result"
    }
   ],
   "source": [
    "df.prev_owner.value_counts(dropna=False)"
   ]
  },
  {
   "cell_type": "code",
   "execution_count": 263,
   "metadata": {},
   "outputs": [],
   "source": [
    "df.drop(\"Previous Owners\", axis=1, inplace=True)"
   ]
  },
  {
   "cell_type": "code",
   "execution_count": 264,
   "metadata": {},
   "outputs": [
    {
     "data": {
      "text/plain": [
       "(15919, 39)"
      ]
     },
     "execution_count": 264,
     "metadata": {},
     "output_type": "execute_result"
    }
   ],
   "source": [
    "df.shape"
   ]
  },
  {
   "cell_type": "markdown",
   "metadata": {},
   "source": [
    "## 10 KW"
   ]
  },
  {
   "cell_type": "code",
   "execution_count": 265,
   "metadata": {},
   "outputs": [
    {
     "data": {
      "text/plain": [
       "Index(['make_model', 'body_type', 'price', 'vat', 'km', 'prev_owner', 'hp',\n",
       "       'Type', 'Next Inspection', 'Inspection new', 'Warranty', 'Full Service',\n",
       "       'Non-smoking Vehicle', 'null', 'Offer Number', 'Body Color',\n",
       "       'Paint Type', 'Body Color Original', 'Upholstery', 'Nr. of Doors',\n",
       "       'Nr. of Seats', 'Model Code', 'Gearing Type', 'Displacement',\n",
       "       'Cylinders', 'Weight', 'Drive chain', 'Fuel', 'Consumption',\n",
       "       'CO2 Emission', 'Emission Class', 'Comfort_Convenience',\n",
       "       'Entertainment_Media', 'Extras', 'Safety_Security', 'Emission Label',\n",
       "       'Gears', 'Country version', 'age'],\n",
       "      dtype='object')"
      ]
     },
     "execution_count": 265,
     "metadata": {},
     "output_type": "execute_result"
    }
   ],
   "source": [
    "df.columns"
   ]
  },
  {
   "cell_type": "markdown",
   "metadata": {},
   "source": [
    "## 11- Hp"
   ]
  },
  {
   "cell_type": "code",
   "execution_count": 266,
   "metadata": {},
   "outputs": [
    {
     "data": {
      "text/plain": [
       "85 kW     2542\n",
       "66 kW     2122\n",
       "81 kW     1402\n",
       "100 kW    1308\n",
       "110 kW    1112\n",
       "70 kW      888\n",
       "125 kW     707\n",
       "51 kW      695\n",
       "55 kW      569\n",
       "118 kW     516\n",
       "92 kW      466\n",
       "121 kW     392\n",
       "147 kW     380\n",
       "77 kW      345\n",
       "56 kW      286\n",
       "54 kW      276\n",
       "103 kW     253\n",
       "87 kW      232\n",
       "165 kW     194\n",
       "88 kW      177\n",
       "60 kW      160\n",
       "162 kW      98\n",
       "- kW        88\n",
       "74 kW       81\n",
       "96 kW       72\n",
       "71 kW       59\n",
       "101 kW      47\n",
       "67 kW       40\n",
       "154 kW      39\n",
       "122 kW      35\n",
       "119 kW      30\n",
       "164 kW      27\n",
       "135 kW      24\n",
       "82 kW       22\n",
       "52 kW       22\n",
       "78 kW       20\n",
       "1 kW        20\n",
       "294 kW      18\n",
       "146 kW      18\n",
       "141 kW      16\n",
       "57 kW       10\n",
       "104 kW       8\n",
       "120 kW       8\n",
       "191 kW       7\n",
       "112 kW       7\n",
       "155 kW       6\n",
       "117 kW       6\n",
       "184 kW       5\n",
       "90 kW        4\n",
       "76 kW        4\n",
       "65 kW        4\n",
       "149 kW       3\n",
       "80 kW        3\n",
       "168 kW       3\n",
       "98 kW        3\n",
       "93 kW        3\n",
       "228 kW       2\n",
       "270 kW       2\n",
       "53 kW        2\n",
       "140 kW       2\n",
       "86 kW        2\n",
       "167 kW       2\n",
       "127 kW       2\n",
       "89 kW        2\n",
       "143 kW       2\n",
       "63 kW        2\n",
       "40 kW        2\n",
       "150 kW       2\n",
       "163 kW       1\n",
       "115 kW       1\n",
       "132 kW       1\n",
       "75 kW        1\n",
       "4 kW         1\n",
       "137 kW       1\n",
       "123 kW       1\n",
       "133 kW       1\n",
       "84 kW        1\n",
       "195 kW       1\n",
       "44 kW        1\n",
       "239 kW       1\n",
       "9 kW         1\n",
       "Name: hp, dtype: int64"
      ]
     },
     "execution_count": 266,
     "metadata": {},
     "output_type": "execute_result"
    }
   ],
   "source": [
    "df.hp.value_counts(dropna=False)"
   ]
  },
  {
   "cell_type": "code",
   "execution_count": 267,
   "metadata": {},
   "outputs": [],
   "source": [
    "df['hp'] = df['hp'].replace('- kW',np.NaN).str.findall('\\d+').str.join(\"\").astype(float)"
   ]
  },
  {
   "cell_type": "code",
   "execution_count": 268,
   "metadata": {},
   "outputs": [
    {
     "data": {
      "text/plain": [
       "0     66.0\n",
       "1    141.0\n",
       "2     85.0\n",
       "3     66.0\n",
       "4     66.0\n",
       "Name: hp, dtype: float64"
      ]
     },
     "execution_count": 268,
     "metadata": {},
     "output_type": "execute_result"
    }
   ],
   "source": [
    "df.hp.head()"
   ]
  },
  {
   "cell_type": "code",
   "execution_count": 269,
   "metadata": {},
   "outputs": [
    {
     "data": {
      "text/plain": [
       "88"
      ]
     },
     "execution_count": 269,
     "metadata": {},
     "output_type": "execute_result"
    }
   ],
   "source": [
    "df.hp.isnull().sum()"
   ]
  },
  {
   "cell_type": "markdown",
   "metadata": {},
   "source": [
    "## 12- Type"
   ]
  },
  {
   "cell_type": "code",
   "execution_count": 270,
   "metadata": {},
   "outputs": [
    {
     "data": {
      "text/plain": [
       "['', 'Used', '', 'Diesel (Particulate Filter)']                                                                                 3475\n",
       "['', 'Used', '', 'Diesel']                                                                                                      2516\n",
       "['', 'Used', '', 'Gasoline']                                                                                                    2367\n",
       "['', 'Used', '', 'Super 95']                                                                                                    1818\n",
       "['', 'Pre-registered', '', 'Super 95']                                                                                           500\n",
       "                                                                                                                                ... \n",
       "['', 'New', '', 'Regular/Benzine 91 / Super 95 / Super Plus 98 / Regular/Benzine E10 91 / Super Plus E10 98 / Super E10 95']       1\n",
       "['', 'Used', '', 'Super 95 / Super Plus 98 / Super E10 95 / Super Plus E10 98 (Particulate Filter)']                               1\n",
       "['', 'Demonstration', '', 'Super Plus 98']                                                                                         1\n",
       "['', 'New', '', 'Super Plus E10 98']                                                                                               1\n",
       "['', 'Demonstration', '', 'Regular/Benzine E10 91']                                                                                1\n",
       "Name: Type, Length: 170, dtype: int64"
      ]
     },
     "execution_count": 270,
     "metadata": {},
     "output_type": "execute_result"
    }
   ],
   "source": [
    "df.Type.astype(str).value_counts(dropna=False)"
   ]
  },
  {
   "cell_type": "code",
   "execution_count": 271,
   "metadata": {},
   "outputs": [
    {
     "data": {
      "text/plain": [
       "Used              11096\n",
       "New                1650\n",
       "Pre-registered     1364\n",
       "Employee's car     1011\n",
       "Demonstration       796\n",
       "NaN                   2\n",
       "Name: Type, dtype: int64"
      ]
     },
     "execution_count": 271,
     "metadata": {},
     "output_type": "execute_result"
    }
   ],
   "source": [
    "df.Type.str[1].value_counts(dropna=False)"
   ]
  },
  {
   "cell_type": "code",
   "execution_count": 272,
   "metadata": {},
   "outputs": [],
   "source": [
    "df.Type=df.Type.str[1]"
   ]
  },
  {
   "cell_type": "code",
   "execution_count": 273,
   "metadata": {},
   "outputs": [
    {
     "data": {
      "text/plain": [
       "Used              11096\n",
       "New                1650\n",
       "Pre-registered     1364\n",
       "Employee's car     1011\n",
       "Demonstration       796\n",
       "nan                   2\n",
       "Name: Type, dtype: int64"
      ]
     },
     "execution_count": 273,
     "metadata": {},
     "output_type": "execute_result"
    }
   ],
   "source": [
    "df.Type.astype(str).value_counts(dropna=False)"
   ]
  },
  {
   "cell_type": "code",
   "execution_count": 274,
   "metadata": {},
   "outputs": [
    {
     "data": {
      "text/plain": [
       "Index(['make_model', 'body_type', 'price', 'vat', 'km', 'prev_owner', 'hp',\n",
       "       'Type', 'Next Inspection', 'Inspection new', 'Warranty', 'Full Service',\n",
       "       'Non-smoking Vehicle', 'null', 'Offer Number', 'Body Color',\n",
       "       'Paint Type', 'Body Color Original', 'Upholstery', 'Nr. of Doors',\n",
       "       'Nr. of Seats', 'Model Code', 'Gearing Type', 'Displacement',\n",
       "       'Cylinders', 'Weight', 'Drive chain', 'Fuel', 'Consumption',\n",
       "       'CO2 Emission', 'Emission Class', 'Comfort_Convenience',\n",
       "       'Entertainment_Media', 'Extras', 'Safety_Security', 'Emission Label',\n",
       "       'Gears', 'Country version', 'age'],\n",
       "      dtype='object')"
      ]
     },
     "execution_count": 274,
     "metadata": {},
     "output_type": "execute_result"
    }
   ],
   "source": [
    "df.columns"
   ]
  },
  {
   "cell_type": "code",
   "execution_count": 275,
   "metadata": {},
   "outputs": [
    {
     "data": {
      "text/plain": [
       "(15919, 39)"
      ]
     },
     "execution_count": 275,
     "metadata": {},
     "output_type": "execute_result"
    }
   ],
   "source": [
    "df.shape"
   ]
  },
  {
   "cell_type": "markdown",
   "metadata": {},
   "source": [
    "## 14- Next Inspection"
   ]
  },
  {
   "cell_type": "code",
   "execution_count": 276,
   "metadata": {},
   "outputs": [
    {
     "data": {
      "text/plain": [
       "nan                                           12384\n",
       "\\n04/2022\\n                                      62\n",
       "\\n03/2021\\n                                      38\n",
       "\\n03/2022\\n                                      36\n",
       "\\n06/2021\\n                                      34\n",
       "                                              ...  \n",
       "['\\n12/2018\\n', '\\n97 g CO2/km (comb)\\n']         1\n",
       "['\\n03/2022\\n', '\\n1 (No sticker)\\n']             1\n",
       "['\\n05/2021\\n', '\\n93 g CO2/km (comb)\\n']         1\n",
       "['\\n06/2021\\n', '\\n93 g CO2/km (comb)\\n']         1\n",
       "['\\n01/2022\\n', '\\n168 g CO2/km (comb)\\n']        1\n",
       "Name: Next Inspection, Length: 1400, dtype: int64"
      ]
     },
     "execution_count": 276,
     "metadata": {},
     "output_type": "execute_result"
    }
   ],
   "source": [
    "df[\"Next Inspection\"].astype(str).value_counts(dropna=False)"
   ]
  },
  {
   "cell_type": "markdown",
   "metadata": {},
   "source": [
    "##  insp_new "
   ]
  },
  {
   "cell_type": "code",
   "execution_count": 277,
   "metadata": {},
   "outputs": [
    {
     "data": {
      "text/plain": [
       "nan                                                                                                            11987\n",
       "['\\nYes\\n', '\\nEuro 6\\n']                                                                                        523\n",
       "\\nYes\\n                                                                                                          362\n",
       "['\\nYes\\n', '\\n102 g CO2/km (comb)\\n']                                                                           174\n",
       "['\\nYes\\n', '\\n4 (Green)\\n']                                                                                     166\n",
       "                                                                                                               ...  \n",
       "['\\nYes\\n', '\\n', '6 l/100 km (comb)', '\\n', '8 l/100 km (city)', '\\n', '4.9 l/100 km (country)', '\\n']            1\n",
       "['\\nYes\\n', '\\n', '6.8 l/100 km (comb)', '\\n', '8.5 l/100 km (city)', '\\n', '6.1 l/100 km (country)', '\\n']        1\n",
       "['\\nYes\\n', '\\n', '4.1 l/100 km (comb)', '\\n', '7.5 l/100 km (city)', '\\n', '5.2 l/100 km (country)', '\\n']        1\n",
       "['\\nYes\\n', '\\n', '5.2 l/100 km (comb)', '\\n', '6.8 l/100 km (city)', '\\n', '4.3 l/100 km (country)', '\\n']        1\n",
       "['\\nYes\\n', '\\n172 g CO2/km (comb)\\n']                                                                             1\n",
       "Name: Inspection new, Length: 203, dtype: int64"
      ]
     },
     "execution_count": 277,
     "metadata": {},
     "output_type": "execute_result"
    }
   ],
   "source": [
    "df[\"Inspection new\"].astype(str).value_counts(dropna=False)"
   ]
  },
  {
   "cell_type": "code",
   "execution_count": 278,
   "metadata": {},
   "outputs": [],
   "source": [
    "df[\"Inspection_new\"] = [item[0] if type(item) == list else item for item in df[\"Inspection new\"]]\n",
    "\n",
    "df[\"Inspection_new\"] = df[\"Inspection_new\"].str.strip(\"\\n\")"
   ]
  },
  {
   "cell_type": "code",
   "execution_count": 279,
   "metadata": {},
   "outputs": [
    {
     "data": {
      "text/plain": [
       "NaN    11987\n",
       "Yes     3932\n",
       "Name: Inspection_new, dtype: int64"
      ]
     },
     "execution_count": 279,
     "metadata": {},
     "output_type": "execute_result"
    }
   ],
   "source": [
    "df[\"Inspection_new\"].value_counts(dropna=False)"
   ]
  },
  {
   "cell_type": "code",
   "execution_count": 280,
   "metadata": {},
   "outputs": [],
   "source": [
    "df.drop([\"Next Inspection\", \"Inspection new\"], axis=1, inplace=True)"
   ]
  },
  {
   "cell_type": "code",
   "execution_count": 281,
   "metadata": {},
   "outputs": [
    {
     "data": {
      "text/plain": [
       "Index(['make_model', 'body_type', 'price', 'vat', 'km', 'prev_owner', 'hp',\n",
       "       'Type', 'Warranty', 'Full Service', 'Non-smoking Vehicle', 'null',\n",
       "       'Offer Number', 'Body Color', 'Paint Type', 'Body Color Original',\n",
       "       'Upholstery', 'Nr. of Doors', 'Nr. of Seats', 'Model Code',\n",
       "       'Gearing Type', 'Displacement', 'Cylinders', 'Weight', 'Drive chain',\n",
       "       'Fuel', 'Consumption', 'CO2 Emission', 'Emission Class',\n",
       "       'Comfort_Convenience', 'Entertainment_Media', 'Extras',\n",
       "       'Safety_Security', 'Emission Label', 'Gears', 'Country version', 'age',\n",
       "       'Inspection_new'],\n",
       "      dtype='object')"
      ]
     },
     "execution_count": 281,
     "metadata": {},
     "output_type": "execute_result"
    }
   ],
   "source": [
    "df.columns"
   ]
  },
  {
   "cell_type": "markdown",
   "metadata": {},
   "source": [
    "## 16- Warranty"
   ]
  },
  {
   "cell_type": "code",
   "execution_count": 282,
   "metadata": {},
   "outputs": [
    {
     "data": {
      "text/plain": [
       "nan                                                                                                                5420\n",
       "['\\n', '\\n', '\\nEuro 6\\n']                                                                                         1868\n",
       "\\n12 months\\n                                                                                                      1177\n",
       "\\n                                                                                                                  979\n",
       "\\n24 months\\n                                                                                                       566\n",
       "                                                                                                                   ... \n",
       "['\\n72 months\\n', '\\n125 g CO2/km (comb)\\n']                                                                          1\n",
       "['\\n60 months\\n', '\\n14 g CO2/km (comb)\\n']                                                                           1\n",
       "['\\n24 months\\n', '\\n121 g CO2/km (comb)\\n']                                                                          1\n",
       "['\\n12 months\\n', '\\nEuro 6d\\n']                                                                                      1\n",
       "['\\n36 months\\n', '\\n', '7.4 l/100 km (comb)', '\\n', '9.6 l/100 km (city)', '\\n', '6 l/100 km (country)', '\\n']       1\n",
       "Name: Warranty, Length: 516, dtype: int64"
      ]
     },
     "execution_count": 282,
     "metadata": {},
     "output_type": "execute_result"
    }
   ],
   "source": [
    "df.Warranty.astype(str).value_counts(dropna=False)"
   ]
  },
  {
   "cell_type": "code",
   "execution_count": 283,
   "metadata": {},
   "outputs": [
    {
     "data": {
      "text/plain": [
       "NaN                                                                                5420\n",
       "\\n\\n\\nEuro 6\\n                                                                     1868\n",
       "\\n12 months\\n                                                                      1305\n",
       "\\n                                                                                  979\n",
       "\\n24 months\\n                                                                       585\n",
       "                                                                                   ... \n",
       "\\n2 months\\n                                                                          1\n",
       "\\n72 months\\n\\n125 g CO2/km (comb)\\n                                                  1\n",
       "\\n60 months\\n\\n14 g CO2/km (comb)\\n                                                   1\n",
       "\\n24 months\\n\\n121 g CO2/km (comb)\\n                                                  1\n",
       "\\n36 months\\n\\n7.4 l/100 km (comb)\\n9.6 l/100 km (city)\\n6 l/100 km (country)\\n       1\n",
       "Name: Warranty, Length: 508, dtype: int64"
      ]
     },
     "execution_count": 283,
     "metadata": {},
     "output_type": "execute_result"
    }
   ],
   "source": [
    "df.Warranty.str.join('').value_counts(dropna=False)"
   ]
  },
  {
   "cell_type": "code",
   "execution_count": 284,
   "metadata": {},
   "outputs": [],
   "source": [
    "df[\"Warranty\"] = df.Warranty.apply(lambda x : x[0] if type(x)==list else x)"
   ]
  },
  {
   "cell_type": "code",
   "execution_count": 285,
   "metadata": {},
   "outputs": [
    {
     "data": {
      "text/plain": [
       "\\n               5645\n",
       "NaN              5420\n",
       "\\n12 months\\n    2594\n",
       "\\n24 months\\n    1118\n",
       "\\n60 months\\n     401\n",
       "\\n36 months\\n     279\n",
       "\\n48 months\\n     149\n",
       "\\n6 months\\n      125\n",
       "\\n72 months\\n      59\n",
       "\\n3 months\\n       33\n",
       "\\n23 months\\n      11\n",
       "\\n18 months\\n      10\n",
       "\\n20 months\\n       7\n",
       "\\n25 months\\n       6\n",
       "\\n2 months\\n        5\n",
       "\\n50 months\\n       4\n",
       "\\n26 months\\n       4\n",
       "\\n16 months\\n       4\n",
       "\\n1 months\\n        3\n",
       "\\n19 months\\n       3\n",
       "\\n4 months\\n        3\n",
       "\\n34 months\\n       3\n",
       "\\n13 months\\n       3\n",
       "\\n17 months\\n       2\n",
       "\\n45 months\\n       2\n",
       "\\n9 months\\n        2\n",
       "\\n21 months\\n       2\n",
       "\\n14 months\\n       2\n",
       "\\n28 months\\n       2\n",
       "\\n11 months\\n       2\n",
       "\\n22 months\\n       2\n",
       "\\n46 months\\n       2\n",
       "\\n10 months\\n       1\n",
       "\\n8 months\\n        1\n",
       "\\n7 months\\n        1\n",
       "\\n15 months\\n       1\n",
       "                    1\n",
       "\\n56 months\\n       1\n",
       "\\n49 months\\n       1\n",
       "\\n65 months\\n       1\n",
       "\\n47 months\\n       1\n",
       "\\n33 months\\n       1\n",
       "\\n40 months\\n       1\n",
       "\\n30 months\\n       1\n",
       "Name: Warranty, dtype: int64"
      ]
     },
     "execution_count": 285,
     "metadata": {},
     "output_type": "execute_result"
    }
   ],
   "source": [
    "df.Warranty.str.join('').value_counts(dropna=False)"
   ]
  },
  {
   "cell_type": "code",
   "execution_count": 286,
   "metadata": {},
   "outputs": [],
   "source": [
    "df.Warranty=df.Warranty.str.split(\",\").str[0].str.extract('(\\d+)')[0].astype('float')"
   ]
  },
  {
   "cell_type": "code",
   "execution_count": 287,
   "metadata": {},
   "outputs": [
    {
     "data": {
      "text/plain": [
       "NaN     11066\n",
       "12.0     2594\n",
       "24.0     1118\n",
       "60.0      401\n",
       "36.0      279\n",
       "48.0      149\n",
       "6.0       125\n",
       "72.0       59\n",
       "3.0        33\n",
       "23.0       11\n",
       "18.0       10\n",
       "20.0        7\n",
       "25.0        6\n",
       "2.0         5\n",
       "50.0        4\n",
       "26.0        4\n",
       "16.0        4\n",
       "4.0         3\n",
       "1.0         3\n",
       "19.0        3\n",
       "34.0        3\n",
       "13.0        3\n",
       "28.0        2\n",
       "22.0        2\n",
       "14.0        2\n",
       "11.0        2\n",
       "46.0        2\n",
       "21.0        2\n",
       "9.0         2\n",
       "17.0        2\n",
       "45.0        2\n",
       "33.0        1\n",
       "40.0        1\n",
       "65.0        1\n",
       "10.0        1\n",
       "15.0        1\n",
       "7.0         1\n",
       "8.0         1\n",
       "56.0        1\n",
       "49.0        1\n",
       "47.0        1\n",
       "30.0        1\n",
       "Name: Warranty, dtype: int64"
      ]
     },
     "execution_count": 287,
     "metadata": {},
     "output_type": "execute_result"
    }
   ],
   "source": [
    "df.Warranty.value_counts(dropna=False)"
   ]
  },
  {
   "cell_type": "markdown",
   "metadata": {},
   "source": [
    "## 17- Full Service"
   ]
  },
  {
   "cell_type": "code",
   "execution_count": 288,
   "metadata": {},
   "outputs": [
    {
     "data": {
      "text/plain": [
       "nan                                                                                                             7704\n",
       "['\\n', '\\n', '\\n4 (Green)\\n']                                                                                   2235\n",
       "['\\n', '\\n', '\\nEuro 6\\n']                                                                                      2097\n",
       "['\\n', '\\n']                                                                                                    1702\n",
       "['\\n', '\\n', '\\nEuro 6d-TEMP\\n']                                                                                 399\n",
       "                                                                                                                ... \n",
       "['\\n', '\\n', '\\n80 g CO2/km (comb)\\n']                                                                             1\n",
       "['\\n', '\\n', '\\n84 g CO2/km (comb)\\n']                                                                             1\n",
       "['\\n', '\\n', '\\n', '6 l/100 km (comb)', '\\n', '8 l/100 km (city)', '\\n', '4.9 l/100 km (country)', '\\n']           1\n",
       "['\\n', '\\n', '\\n', '4.9 l/100 km (comb)', '\\n', '6.2 l/100 km (city)', '\\n', '4.1 l/100 km (country)', '\\n']       1\n",
       "['\\n', '\\n', '\\nEuro 4\\n']                                                                                         1\n",
       "Name: Full Service, Length: 123, dtype: int64"
      ]
     },
     "execution_count": 288,
     "metadata": {},
     "output_type": "execute_result"
    }
   ],
   "source": [
    "df[\"Full Service\"].astype(str).value_counts(dropna=False)"
   ]
  },
  {
   "cell_type": "code",
   "execution_count": 289,
   "metadata": {},
   "outputs": [],
   "source": [
    "df.drop(\"Full Service\", axis=1, inplace=True)"
   ]
  },
  {
   "cell_type": "markdown",
   "metadata": {},
   "source": [
    "## 18 Non-smoking_vehicle"
   ]
  },
  {
   "cell_type": "code",
   "execution_count": 290,
   "metadata": {},
   "outputs": [
    {
     "data": {
      "text/plain": [
       "nan                                                                                                             8742\n",
       "['\\n', '\\n']                                                                                                    3647\n",
       "['\\n', '\\n', '\\n4 (Green)\\n']                                                                                   1240\n",
       "['\\n', '\\n', '\\nEuro 6\\n']                                                                                      1127\n",
       "['\\n', '\\n', '\\nEuro 6d-TEMP\\n']                                                                                 345\n",
       "\\n                                                                                                                70\n",
       "['\\n', '\\n', '\\n120 g CO2/km (comb)\\n']                                                                           63\n",
       "['\\n', '\\n', '\\n85 g CO2/km (comb)\\n']                                                                            46\n",
       "['\\n', '\\n', '\\n104 g CO2/km (comb)\\n']                                                                           36\n",
       "['\\n', '\\n', '\\n107 g CO2/km (comb)\\n']                                                                           36\n",
       "['\\n', '\\n', '\\n153 g CO2/km (comb)\\n']                                                                           31\n",
       "['\\n', '\\n', '\\n124 g CO2/km (comb)\\n']                                                                           29\n",
       "['\\n', '\\n', '\\n1 (No sticker)\\n']                                                                                24\n",
       "['\\n', '\\n', '\\n99 g CO2/km (comb)\\n']                                                                            23\n",
       "['\\n', '\\n', '\\n106 g CO2/km (comb)\\n']                                                                           20\n",
       "['\\n', '\\n', '\\n97 g CO2/km (comb)\\n']                                                                            20\n",
       "['\\n', '\\n', '\\n108 g CO2/km (comb)\\n']                                                                           19\n",
       "['\\n', '\\n', '\\n113 g CO2/km (comb)\\n']                                                                           18\n",
       "['\\n', '\\n', '\\n100 g CO2/km (comb)\\n']                                                                           18\n",
       "['\\n', '\\n', '\\n109 g CO2/km (comb)\\n']                                                                           18\n",
       "['\\n', '\\n', '\\n105 g CO2/km (comb)\\n']                                                                           18\n",
       "['\\n', '\\n', '\\nEuro 6c\\n']                                                                                       17\n",
       "['\\n', '\\n', '\\n98 g CO2/km (comb)\\n']                                                                            15\n",
       "['\\n', '\\n', '\\n129 g CO2/km (comb)\\n']                                                                           14\n",
       "['\\n', '\\n', '\\n131 g CO2/km (comb)\\n']                                                                           13\n",
       "['\\n', '\\n', '\\n133 g CO2/km (comb)\\n']                                                                           12\n",
       "['\\n', '\\n', '\\n103 g CO2/km (comb)\\n']                                                                           12\n",
       "['\\n', '\\n', '\\n114 g CO2/km (comb)\\n']                                                                           12\n",
       "['\\n', '\\n', '\\n116 g CO2/km (comb)\\n']                                                                           11\n",
       "['\\n', '\\n', '\\n135 g CO2/km (comb)\\n']                                                                           11\n",
       "['\\n', '\\n', '\\n102 g CO2/km (comb)\\n']                                                                           11\n",
       "['\\n', '\\n', '\\n127 g CO2/km (comb)\\n']                                                                           10\n",
       "['\\n', '\\n', '\\n143 g CO2/km (comb)\\n']                                                                           10\n",
       "['\\n', '\\n', '\\n92 g CO2/km (comb)\\n']                                                                             9\n",
       "['\\n', '\\n', '\\nEuro 6d\\n']                                                                                        9\n",
       "['\\n', '\\n', '\\n112 g CO2/km (comb)\\n']                                                                            9\n",
       "['\\n', '\\n', '\\n5 (Blue)\\n']                                                                                       8\n",
       "['\\n', '\\n', '\\n118 g CO2/km (comb)\\n']                                                                            8\n",
       "['\\n', '\\n', '\\n139 g CO2/km (comb)\\n']                                                                            7\n",
       "['\\n', '\\n', '\\n128 g CO2/km (comb)\\n']                                                                            7\n",
       "['\\n', '\\n', '\\n147 g CO2/km (comb)\\n']                                                                            7\n",
       "['\\n', '\\n', '\\n126 g CO2/km (comb)\\n']                                                                            6\n",
       "['\\n', '\\n', '\\n137 g CO2/km (comb)\\n']                                                                            6\n",
       "['\\n', '\\n', '\\n117 g CO2/km (comb)\\n']                                                                            6\n",
       "['\\n', '\\n', '\\n140 g CO2/km (comb)\\n']                                                                            6\n",
       "['\\n', '\\n', '\\n130 g CO2/km (comb)\\n']                                                                            5\n",
       "['\\n', '\\n', '\\n115 g CO2/km (comb)\\n']                                                                            5\n",
       "['\\n', '\\n', '\\nEuro 5\\n']                                                                                         4\n",
       "['\\n', '\\n', '\\n', '5.2 l/100 km (comb)', '\\n', '5.8 l/100 km (city)', '\\n', '4.8 l/100 km (country)', '\\n']       4\n",
       "['\\n', '\\n', '\\n123 g CO2/km (comb)\\n']                                                                            4\n",
       "['\\n', '\\n', '\\n151 g CO2/km (comb)\\n']                                                                            4\n",
       "['\\n', '\\n', '\\n95 g CO2/km (comb)\\n']                                                                             3\n",
       "['\\n', '\\n', '\\n119 g CO2/km (comb)\\n']                                                                            3\n",
       "['\\n', '\\n', '\\n148 g CO2/km (comb)\\n']                                                                            3\n",
       "['\\n', '\\n', '\\n157 g CO2/km (comb)\\n']                                                                            3\n",
       "['\\n', '\\n', '\\n136 g CO2/km (comb)\\n']                                                                            3\n",
       "['\\n', '\\n', '\\n110 g CO2/km (comb)\\n']                                                                            3\n",
       "['\\n', '\\n', '\\n149 g CO2/km (comb)\\n']                                                                            3\n",
       "['\\n', '\\n', '\\n138 g CO2/km (comb)\\n']                                                                            2\n",
       "['\\n', '\\n', '\\n125 g CO2/km (comb)\\n']                                                                            2\n",
       "['\\n', '\\n', '\\n', '5.2 l/100 km (comb)', '\\n', '6.4 l/100 km (city)', '\\n', '4.4 l/100 km (country)', '\\n']       2\n",
       "['\\n', '\\n', '\\n166 g CO2/km (comb)\\n']                                                                            2\n",
       "['\\n', '\\n', '\\n121 g CO2/km (comb)\\n']                                                                            2\n",
       "['\\n', '\\n', '\\n142 g CO2/km (comb)\\n']                                                                            2\n",
       "['\\n', '\\n', '\\n90 g CO2/km (comb)\\n']                                                                             2\n",
       "['\\n', '\\n', '\\n111 g CO2/km (comb)\\n']                                                                            2\n",
       "['\\n', '\\n', '\\n134 g CO2/km (comb)\\n']                                                                            2\n",
       "['\\n', '\\n', '\\n', '6.5 l/100 km (comb)', '\\n', '8.5 l/100 km (city)', '\\n', '5.4 l/100 km (country)', '\\n']       1\n",
       "['\\n', '\\n', '\\n', '6.4 l/100 km (comb)', '\\n', '8.1 l/100 km (city)', '\\n', '5.4 l/100 km (country)', '\\n']       1\n",
       "['\\n', '\\n', '\\n161 g CO2/km (comb)\\n']                                                                            1\n",
       "['\\n', '\\n', '\\n172 g CO2/km (comb)\\n']                                                                            1\n",
       "['\\n', '\\n', '\\n189 g CO2/km (comb)\\n']                                                                            1\n",
       "['\\n', '\\n', '\\n82 g CO2/km (comb)\\n']                                                                             1\n",
       "['\\n', '\\n', '\\n154 g CO2/km (comb)\\n']                                                                            1\n",
       "['\\n', '\\n', '\\n', '6.5 l/100 km (comb)', '\\n', '7.9 l/100 km (city)', '\\n', '5.6 l/100 km (country)', '\\n']       1\n",
       "['\\n', '\\n', '\\n', '6.3 l/100 km (comb)', '\\n', '8 l/100 km (city)', '\\n', '5.3 l/100 km (country)', '\\n']         1\n",
       "['\\n', '\\n', '\\n146 g CO2/km (comb)\\n']                                                                            1\n",
       "['\\n', '\\n', '\\n', '5.7 l/100 km (comb)', '\\n', '7.3 l/100 km (city)', '\\n', '4.7 l/100 km (country)', '\\n']       1\n",
       "['\\n', '\\n', '\\n', '6.1 l/100 km (comb)', '\\n', '7.7 l/100 km (city)', '\\n', '5.2 l/100 km (country)', '\\n']       1\n",
       "['\\n', '\\n', '\\n156 g CO2/km (comb)\\n']                                                                            1\n",
       "['\\n', '\\n', '\\n', '6.1 l/100 km (comb)', '\\n', '7.8 l/100 km (city)', '\\n', '5.1 l/100 km (country)', '\\n']       1\n",
       "['\\n', '\\n', '\\n', '6.2 l/100 km (comb)', '\\n', '7.9 l/100 km (city)', '\\n', '5.3 l/100 km (country)', '\\n']       1\n",
       "['\\n', '\\n', '\\n152 g CO2/km (comb)\\n']                                                                            1\n",
       "['\\n', '\\n', '\\n144 g CO2/km (comb)\\n']                                                                            1\n",
       "['\\n', '\\n', '\\n132 g CO2/km (comb)\\n']                                                                            1\n",
       "['\\n', '\\n', '\\n', '1.6 l/100 km (comb)', '\\n', '\\n', '\\n']                                                        1\n",
       "['\\n', '\\n', '\\n169 g CO2/km (comb)\\n']                                                                            1\n",
       "['\\n', '\\n', '\\n101 g CO2/km (comb)\\n']                                                                            1\n",
       "['\\n', '\\n', '\\n159 g CO2/km (comb)\\n']                                                                            1\n",
       "['\\n', '\\n', '\\n91 g CO2/km (comb)\\n']                                                                             1\n",
       "['\\n', '\\n', '\\n', '5.6 l/100 km (comb)', '\\n', '7.3 l/100 km (city)', '\\n', '4.7 l/100 km (country)', '\\n']       1\n",
       "['\\n', '\\n', '\\n122 g CO2/km (comb)\\n']                                                                            1\n",
       "['\\n', '\\n', '\\n158 g CO2/km (comb)\\n']                                                                            1\n",
       "['\\n', '\\n', '\\n150 g CO2/km (comb)\\n']                                                                            1\n",
       "['\\n', '\\n', '\\n175 g CO2/km (comb)\\n']                                                                            1\n",
       "Name: Non-smoking Vehicle, dtype: int64"
      ]
     },
     "execution_count": 290,
     "metadata": {},
     "output_type": "execute_result"
    }
   ],
   "source": [
    "df[\"Non-smoking Vehicle\"].astype(str).value_counts(dropna=False)"
   ]
  },
  {
   "cell_type": "code",
   "execution_count": 291,
   "metadata": {},
   "outputs": [],
   "source": [
    "df.drop(\"Non-smoking Vehicle\", axis=1, inplace=True)"
   ]
  },
  {
   "cell_type": "code",
   "execution_count": 292,
   "metadata": {},
   "outputs": [
    {
     "data": {
      "text/plain": [
       "Index(['make_model', 'body_type', 'price', 'vat', 'km', 'prev_owner', 'hp',\n",
       "       'Type', 'Warranty', 'null', 'Offer Number', 'Body Color', 'Paint Type',\n",
       "       'Body Color Original', 'Upholstery', 'Nr. of Doors', 'Nr. of Seats',\n",
       "       'Model Code', 'Gearing Type', 'Displacement', 'Cylinders', 'Weight',\n",
       "       'Drive chain', 'Fuel', 'Consumption', 'CO2 Emission', 'Emission Class',\n",
       "       'Comfort_Convenience', 'Entertainment_Media', 'Extras',\n",
       "       'Safety_Security', 'Emission Label', 'Gears', 'Country version', 'age',\n",
       "       'Inspection_new'],\n",
       "      dtype='object')"
      ]
     },
     "execution_count": 292,
     "metadata": {},
     "output_type": "execute_result"
    }
   ],
   "source": [
    "df.columns"
   ]
  },
  {
   "cell_type": "markdown",
   "metadata": {},
   "source": [
    "## 19- Null"
   ]
  },
  {
   "cell_type": "code",
   "execution_count": 293,
   "metadata": {},
   "outputs": [
    {
     "data": {
      "text/plain": [
       "[]    15919\n",
       "Name: null, dtype: int64"
      ]
     },
     "execution_count": 293,
     "metadata": {},
     "output_type": "execute_result"
    }
   ],
   "source": [
    "df.null.astype(str).value_counts(dropna=False)"
   ]
  },
  {
   "cell_type": "code",
   "execution_count": 294,
   "metadata": {},
   "outputs": [],
   "source": [
    "df.drop(\"null\", axis=1, inplace=True)"
   ]
  },
  {
   "cell_type": "markdown",
   "metadata": {},
   "source": [
    "## 22- Offer Number"
   ]
  },
  {
   "cell_type": "code",
   "execution_count": 295,
   "metadata": {},
   "outputs": [
    {
     "data": {
      "text/plain": [
       "nan                                                 3175\n",
       "['\\nLT67679\\n']                                       27\n",
       "['\\nUN89904\\n']                                       27\n",
       "['\\nXJ38068\\n']                                       27\n",
       "['\\nJV03654\\n']                                       27\n",
       "                                                    ... \n",
       "['\\n160_dcbb6c3e-a6da-43a3-8754-ccd994cec93b\\n']       1\n",
       "['\\n6701576\\n']                                        1\n",
       "['\\n6701569\\n']                                        1\n",
       "['\\n158121\\n']                                         1\n",
       "['\\nRe_30000008029\\n']                                 1\n",
       "Name: Offer Number, Length: 11441, dtype: int64"
      ]
     },
     "execution_count": 295,
     "metadata": {},
     "output_type": "execute_result"
    }
   ],
   "source": [
    "df[\"Offer Number\"].astype(str).value_counts(dropna=False)"
   ]
  },
  {
   "cell_type": "code",
   "execution_count": 296,
   "metadata": {},
   "outputs": [],
   "source": [
    "df.drop(\"Offer Number\", axis=1, inplace=True)"
   ]
  },
  {
   "cell_type": "markdown",
   "metadata": {},
   "source": [
    "## 24- Body type"
   ]
  },
  {
   "cell_type": "code",
   "execution_count": 297,
   "metadata": {},
   "outputs": [
    {
     "data": {
      "text/plain": [
       "['\\n', 'Black', '\\n']     3745\n",
       "['\\n', 'Grey', '\\n']      3505\n",
       "['\\n', 'White', '\\n']     3406\n",
       "['\\n', 'Silver', '\\n']    1647\n",
       "['\\n', 'Blue', '\\n']      1431\n",
       "['\\n', 'Red', '\\n']        957\n",
       "nan                        597\n",
       "['\\n', 'Brown', '\\n']      289\n",
       "['\\n', 'Green', '\\n']      154\n",
       "['\\n', 'Beige', '\\n']      108\n",
       "['\\n', 'Yellow', '\\n']      51\n",
       "['\\n', 'Violet', '\\n']      18\n",
       "['\\n', 'Bronze', '\\n']       6\n",
       "['\\n', 'Orange', '\\n']       3\n",
       "['\\n', 'Gold', '\\n']         2\n",
       "Name: Body Color, dtype: int64"
      ]
     },
     "execution_count": 297,
     "metadata": {},
     "output_type": "execute_result"
    }
   ],
   "source": [
    "df['Body Color'].astype('str').value_counts(dropna=False)"
   ]
  },
  {
   "cell_type": "code",
   "execution_count": 298,
   "metadata": {},
   "outputs": [],
   "source": [
    "df[\"Body Color\"]=df[\"Body Color\"].str.join(\"\").str.strip('\\n')"
   ]
  },
  {
   "cell_type": "code",
   "execution_count": 299,
   "metadata": {},
   "outputs": [
    {
     "data": {
      "text/plain": [
       "597"
      ]
     },
     "execution_count": 299,
     "metadata": {},
     "output_type": "execute_result"
    }
   ],
   "source": [
    "df[\"Body Color\"].isnull().sum()"
   ]
  },
  {
   "cell_type": "code",
   "execution_count": 300,
   "metadata": {},
   "outputs": [
    {
     "data": {
      "text/plain": [
       "Body Color\n",
       "Beige     16785.490741\n",
       "Black     18920.888117\n",
       "Blue      17140.855346\n",
       "Bronze    17458.166667\n",
       "Brown     18663.297578\n",
       "Gold        134.000000\n",
       "Green     17820.694805\n",
       "Grey      18843.907846\n",
       "Orange    18166.666667\n",
       "Red       15692.065831\n",
       "Silver    16461.587128\n",
       "Violet    23005.388889\n",
       "White     17200.623899\n",
       "Yellow    23971.137255\n",
       "Name: price, dtype: float64"
      ]
     },
     "execution_count": 300,
     "metadata": {},
     "output_type": "execute_result"
    }
   ],
   "source": [
    "df.groupby(\"Body Color\")['price'].mean()"
   ]
  },
  {
   "cell_type": "markdown",
   "metadata": {},
   "source": [
    "## 25- Paint type"
   ]
  },
  {
   "cell_type": "code",
   "execution_count": 301,
   "metadata": {},
   "outputs": [
    {
     "data": {
      "text/plain": [
       "['\\nMetallic\\n']       9794\n",
       "nan                    5772\n",
       "['\\nUni/basic\\n']       347\n",
       "['\\nPerl effect\\n']       6\n",
       "Name: Paint Type, dtype: int64"
      ]
     },
     "execution_count": 301,
     "metadata": {},
     "output_type": "execute_result"
    }
   ],
   "source": [
    "df['Paint Type'].astype('str').value_counts(dropna=False)"
   ]
  },
  {
   "cell_type": "code",
   "execution_count": 302,
   "metadata": {},
   "outputs": [
    {
     "data": {
      "text/plain": [
       "Metallic       9794\n",
       "NaN            5772\n",
       "Uni/basic       347\n",
       "Perl effect       6\n",
       "Name: Paint Type, dtype: int64"
      ]
     },
     "execution_count": 302,
     "metadata": {},
     "output_type": "execute_result"
    }
   ],
   "source": [
    "df[\"Paint Type\"]=df[\"Paint Type\"].str.join(\"\").str.strip('\\n')\n",
    "df[\"Paint Type\"].value_counts(dropna=False)"
   ]
  },
  {
   "cell_type": "code",
   "execution_count": 303,
   "metadata": {},
   "outputs": [
    {
     "data": {
      "text/plain": [
       "Paint Type\n",
       "Metallic       18593.333163\n",
       "Perl effect    15428.333333\n",
       "Uni/basic      17760.184438\n",
       "Name: price, dtype: float64"
      ]
     },
     "execution_count": 303,
     "metadata": {},
     "output_type": "execute_result"
    }
   ],
   "source": [
    "df.groupby(\"Paint Type\")['price'].mean()"
   ]
  },
  {
   "cell_type": "markdown",
   "metadata": {},
   "source": [
    "## 26- Body Color Original"
   ]
  },
  {
   "cell_type": "code",
   "execution_count": 304,
   "metadata": {},
   "outputs": [
    {
     "data": {
      "text/plain": [
       "nan                                      3759\n",
       "['\\nOnyx Schwarz\\n']                      338\n",
       "['\\nBianco\\n']                            282\n",
       "['\\nMythosschwarz Metallic\\n']            238\n",
       "['\\nBrillantschwarz\\n']                   216\n",
       "                                         ... \n",
       "['\\nRouge-Braun (G0Y)\\n']                   1\n",
       "['\\nVARI COLRI DISPONIBILI\\n']              1\n",
       "['\\nKokosnussbraun Metallic\\n']             1\n",
       "['\\nFarbe frei wählbar\\n']                  1\n",
       "['\\nPerlmutt-Weiß Metallic (Weiß)\\n']       1\n",
       "Name: Body Color Original, Length: 1928, dtype: int64"
      ]
     },
     "execution_count": 304,
     "metadata": {},
     "output_type": "execute_result"
    }
   ],
   "source": [
    "df['Body Color Original'].astype('str').value_counts(dropna=False)"
   ]
  },
  {
   "cell_type": "code",
   "execution_count": 305,
   "metadata": {},
   "outputs": [],
   "source": [
    "df.drop(\"Body Color Original\", axis=1, inplace=True)"
   ]
  },
  {
   "cell_type": "markdown",
   "metadata": {},
   "source": [
    "## 27- Upholstery"
   ]
  },
  {
   "cell_type": "code",
   "execution_count": 306,
   "metadata": {},
   "outputs": [
    {
     "data": {
      "text/plain": [
       "Cloth, Black           5821\n",
       "NaN                    3720\n",
       "Part leather, Black    1121\n",
       "Cloth                  1005\n",
       "Cloth, Grey             891\n",
       "Cloth, Other            639\n",
       "Full leather, Black     575\n",
       "Black                   491\n",
       "Grey                    273\n",
       "Other, Other            182\n",
       "Part leather            140\n",
       "Full leather            139\n",
       "Full leather, Brown     116\n",
       "Part leather, Grey      116\n",
       "Other, Black            110\n",
       "Full leather, Other      72\n",
       "Full leather, Grey       67\n",
       "Part leather, Other      65\n",
       "Other                    56\n",
       "Part leather, Brown      50\n",
       "alcantara, Black         47\n",
       "Velour, Black            36\n",
       "Full leather, Beige      36\n",
       "Cloth, Brown             28\n",
       "Velour                   16\n",
       "Other, Grey              15\n",
       "Cloth, Beige             13\n",
       "Brown                    12\n",
       "Cloth, Blue              12\n",
       "Velour, Grey              8\n",
       "Cloth, White              8\n",
       "alcantara, Grey           6\n",
       "Cloth, Red                5\n",
       "Other, Yellow             4\n",
       "Part leather, Red         3\n",
       "Beige                     3\n",
       "Part leather, White       2\n",
       "Full leather, Blue        2\n",
       "alcantara, Other          2\n",
       "alcantara                 2\n",
       "White                     2\n",
       "Part leather, Beige       2\n",
       "Blue                      2\n",
       "Cloth, Orange             1\n",
       "Full leather, Red         1\n",
       "Other, Brown              1\n",
       "Full leather, White       1\n",
       "Name: Upholstery, dtype: int64"
      ]
     },
     "execution_count": 306,
     "metadata": {},
     "output_type": "execute_result"
    }
   ],
   "source": [
    "df[\"Upholstery\"].str.join('').str.strip('\\n').value_counts(dropna=False)"
   ]
  },
  {
   "cell_type": "code",
   "execution_count": 307,
   "metadata": {},
   "outputs": [],
   "source": [
    "df.Upholstery = [item[0] if type(item) == list else item for item in df.Upholstery]\n",
    "df.Upholstery = df.Upholstery.str.strip('\\n').str.split(', ')\n",
    "u_type  = ['Cloth', 'Part leather', 'Full leather', 'Velour', 'alcantara']\n",
    "df['Upholstery_Type'] = df.Upholstery.apply(lambda x : x[0] if type(x) == list and x[0] in u_type else np.nan)"
   ]
  },
  {
   "cell_type": "code",
   "execution_count": 308,
   "metadata": {},
   "outputs": [
    {
     "data": {
      "text/plain": [
       "ClothBlack           5821\n",
       "NaN                  3720\n",
       "Part leatherBlack    1121\n",
       "Cloth                1005\n",
       "ClothGrey             891\n",
       "ClothOther            639\n",
       "Full leatherBlack     575\n",
       "Black                 491\n",
       "Grey                  273\n",
       "OtherOther            182\n",
       "Part leather          140\n",
       "Full leather          139\n",
       "Full leatherBrown     116\n",
       "Part leatherGrey      116\n",
       "OtherBlack            110\n",
       "Full leatherOther      72\n",
       "Full leatherGrey       67\n",
       "Part leatherOther      65\n",
       "Other                  56\n",
       "Part leatherBrown      50\n",
       "alcantaraBlack         47\n",
       "VelourBlack            36\n",
       "Full leatherBeige      36\n",
       "ClothBrown             28\n",
       "Velour                 16\n",
       "OtherGrey              15\n",
       "ClothBeige             13\n",
       "Brown                  12\n",
       "ClothBlue              12\n",
       "VelourGrey              8\n",
       "ClothWhite              8\n",
       "alcantaraGrey           6\n",
       "ClothRed                5\n",
       "OtherYellow             4\n",
       "Part leatherRed         3\n",
       "Beige                   3\n",
       "Part leatherWhite       2\n",
       "Full leatherBlue        2\n",
       "alcantaraOther          2\n",
       "alcantara               2\n",
       "White                   2\n",
       "Part leatherBeige       2\n",
       "Blue                    2\n",
       "ClothOrange             1\n",
       "Full leatherRed         1\n",
       "OtherBrown              1\n",
       "Full leatherWhite       1\n",
       "Name: Upholstery, dtype: int64"
      ]
     },
     "execution_count": 308,
     "metadata": {},
     "output_type": "execute_result"
    }
   ],
   "source": [
    "df.Upholstery.str.join('').value_counts(dropna = False)"
   ]
  },
  {
   "cell_type": "code",
   "execution_count": 309,
   "metadata": {},
   "outputs": [],
   "source": [
    "color = ['Black', 'Grey', 'Brown', 'Beige', 'White', 'Blue', 'Red', 'Yellow', 'Orange']\n",
    "\n",
    "def finder(x):\n",
    "    if type(x) == list and len(x) == 2 :\n",
    "        return x[1]\n",
    "    elif type(x) == list and x[0] in color :\n",
    "        return x[0]\n",
    "    else :\n",
    "        return np.nan\n",
    "df['Upholstery_color'] = df.Upholstery.apply(finder)"
   ]
  },
  {
   "cell_type": "code",
   "execution_count": 310,
   "metadata": {},
   "outputs": [],
   "source": [
    "df.drop('Upholstery', axis = 1, inplace = True)"
   ]
  },
  {
   "cell_type": "markdown",
   "metadata": {},
   "source": [
    "## 29- Nr_of_doors"
   ]
  },
  {
   "cell_type": "code",
   "execution_count": 311,
   "metadata": {},
   "outputs": [
    {
     "data": {
      "text/plain": [
       "['\\n5\\n']    11575\n",
       "['\\n4\\n']     3079\n",
       "['\\n3\\n']      832\n",
       "['\\n2\\n']      219\n",
       "nan            212\n",
       "['\\n1\\n']        1\n",
       "['\\n7\\n']        1\n",
       "Name: Nr. of Doors, dtype: int64"
      ]
     },
     "execution_count": 311,
     "metadata": {},
     "output_type": "execute_result"
    }
   ],
   "source": [
    "df[\"Nr. of Doors\"].astype(str).value_counts()"
   ]
  },
  {
   "cell_type": "code",
   "execution_count": 312,
   "metadata": {},
   "outputs": [
    {
     "data": {
      "text/plain": [
       "5.0    11575\n",
       "4.0     3079\n",
       "3.0      832\n",
       "2.0      219\n",
       "NaN      212\n",
       "1.0        1\n",
       "7.0        1\n",
       "Name: nr_of_doors, dtype: int64"
      ]
     },
     "execution_count": 312,
     "metadata": {},
     "output_type": "execute_result"
    }
   ],
   "source": [
    "df[\"nr_of_doors\"] = df[\"Nr. of Doors\"].str.join(\"\").str.strip('\\n').astype(float)\n",
    "df[\"nr_of_doors\"].value_counts(dropna=False)"
   ]
  },
  {
   "cell_type": "code",
   "execution_count": 313,
   "metadata": {},
   "outputs": [
    {
     "data": {
      "text/plain": [
       "5.0    11575\n",
       "4.0     3079\n",
       "3.0      832\n",
       "2.0      219\n",
       "1.0        1\n",
       "7.0        1\n",
       "Name: nr_of_doors, dtype: int64"
      ]
     },
     "execution_count": 313,
     "metadata": {},
     "output_type": "execute_result"
    }
   ],
   "source": [
    "df[\"nr_of_doors\"].value_counts()"
   ]
  },
  {
   "cell_type": "code",
   "execution_count": 314,
   "metadata": {},
   "outputs": [],
   "source": [
    "df.drop('Nr. of Doors', axis = 1, inplace = True)"
   ]
  },
  {
   "cell_type": "code",
   "execution_count": 315,
   "metadata": {},
   "outputs": [
    {
     "data": {
      "text/plain": [
       "Index(['make_model', 'body_type', 'price', 'vat', 'km', 'prev_owner', 'hp',\n",
       "       'Type', 'Warranty', 'Body Color', 'Paint Type', 'Nr. of Seats',\n",
       "       'Model Code', 'Gearing Type', 'Displacement', 'Cylinders', 'Weight',\n",
       "       'Drive chain', 'Fuel', 'Consumption', 'CO2 Emission', 'Emission Class',\n",
       "       'Comfort_Convenience', 'Entertainment_Media', 'Extras',\n",
       "       'Safety_Security', 'Emission Label', 'Gears', 'Country version', 'age',\n",
       "       'Inspection_new', 'Upholstery_Type', 'Upholstery_color', 'nr_of_doors'],\n",
       "      dtype='object')"
      ]
     },
     "execution_count": 315,
     "metadata": {},
     "output_type": "execute_result"
    }
   ],
   "source": [
    "df.columns"
   ]
  },
  {
   "cell_type": "markdown",
   "metadata": {},
   "source": [
    "## 30- Nr. of Seats"
   ]
  },
  {
   "cell_type": "code",
   "execution_count": 316,
   "metadata": {},
   "outputs": [
    {
     "data": {
      "text/plain": [
       "['\\n5\\n']    13336\n",
       "['\\n4\\n']     1125\n",
       "nan            977\n",
       "['\\n7\\n']      362\n",
       "['\\n2\\n']      116\n",
       "['\\n6\\n']        2\n",
       "['\\n3\\n']        1\n",
       "Name: Nr. of Seats, dtype: int64"
      ]
     },
     "execution_count": 316,
     "metadata": {},
     "output_type": "execute_result"
    }
   ],
   "source": [
    "df[\"Nr. of Seats\"].astype('str').value_counts(dropna=False)"
   ]
  },
  {
   "cell_type": "code",
   "execution_count": 317,
   "metadata": {},
   "outputs": [
    {
     "data": {
      "text/plain": [
       "5.0    13336\n",
       "4.0     1125\n",
       "NaN      977\n",
       "7.0      362\n",
       "2.0      116\n",
       "6.0        2\n",
       "3.0        1\n",
       "Name: nr_of_seats, dtype: int64"
      ]
     },
     "execution_count": 317,
     "metadata": {},
     "output_type": "execute_result"
    }
   ],
   "source": [
    "df[\"nr_of_seats\"] = df[\"Nr. of Seats\"].str.join(\"\").str.strip('\\n').astype(float)\n",
    "df[\"nr_of_seats\"].value_counts(dropna=False)"
   ]
  },
  {
   "cell_type": "code",
   "execution_count": 318,
   "metadata": {},
   "outputs": [
    {
     "data": {
      "text/plain": [
       "5.0    13336\n",
       "4.0     1125\n",
       "NaN      977\n",
       "7.0      362\n",
       "2.0      116\n",
       "6.0        2\n",
       "3.0        1\n",
       "Name: nr_of_seats, dtype: int64"
      ]
     },
     "execution_count": 318,
     "metadata": {},
     "output_type": "execute_result"
    }
   ],
   "source": [
    "df[\"nr_of_seats\"].value_counts(dropna=False)"
   ]
  },
  {
   "cell_type": "code",
   "execution_count": 319,
   "metadata": {},
   "outputs": [],
   "source": [
    "df.drop('Nr. of Seats', axis = 1, inplace = True)"
   ]
  },
  {
   "cell_type": "code",
   "execution_count": 320,
   "metadata": {},
   "outputs": [
    {
     "data": {
      "text/plain": [
       "Index(['make_model', 'body_type', 'price', 'vat', 'km', 'prev_owner', 'hp',\n",
       "       'Type', 'Warranty', 'Body Color', 'Paint Type', 'Model Code',\n",
       "       'Gearing Type', 'Displacement', 'Cylinders', 'Weight', 'Drive chain',\n",
       "       'Fuel', 'Consumption', 'CO2 Emission', 'Emission Class',\n",
       "       'Comfort_Convenience', 'Entertainment_Media', 'Extras',\n",
       "       'Safety_Security', 'Emission Label', 'Gears', 'Country version', 'age',\n",
       "       'Inspection_new', 'Upholstery_Type', 'Upholstery_color', 'nr_of_doors',\n",
       "       'nr_of_seats'],\n",
       "      dtype='object')"
      ]
     },
     "execution_count": 320,
     "metadata": {},
     "output_type": "execute_result"
    }
   ],
   "source": [
    "df.columns"
   ]
  },
  {
   "cell_type": "markdown",
   "metadata": {},
   "source": [
    "## 31- Model code"
   ]
  },
  {
   "cell_type": "code",
   "execution_count": 321,
   "metadata": {},
   "outputs": [
    {
     "data": {
      "text/plain": [
       "nan                 10941\n",
       "['\\n0035/BCB\\n']      268\n",
       "['\\n0588/BNO\\n']      245\n",
       "['\\n0588/BDB\\n']      206\n",
       "['\\n0588/BHX\\n']      188\n",
       "                    ...  \n",
       "['\\n0035/AVN\\n']        1\n",
       "['\\n0035/BEM\\n']        1\n",
       "['\\n0035/BAG\\n']        1\n",
       "['\\n0035/BAA\\n']        1\n",
       "['\\n3333/BKG\\n']        1\n",
       "Name: Model Code, Length: 233, dtype: int64"
      ]
     },
     "execution_count": 321,
     "metadata": {},
     "output_type": "execute_result"
    }
   ],
   "source": [
    "df[\"Model Code\"].astype(str).value_counts()"
   ]
  },
  {
   "cell_type": "code",
   "execution_count": 322,
   "metadata": {},
   "outputs": [],
   "source": [
    "df.drop(\"Model Code\",axis=1, inplace=True)"
   ]
  },
  {
   "cell_type": "markdown",
   "metadata": {},
   "source": [
    "## 31- gearing_type "
   ]
  },
  {
   "cell_type": "code",
   "execution_count": 323,
   "metadata": {},
   "outputs": [
    {
     "data": {
      "text/plain": [
       "['\\n', 'Manual', '\\n']            8153\n",
       "['\\n', 'Automatic', '\\n']         7297\n",
       "['\\n', 'Semi-automatic', '\\n']     469\n",
       "Name: Gearing Type, dtype: int64"
      ]
     },
     "execution_count": 323,
     "metadata": {},
     "output_type": "execute_result"
    }
   ],
   "source": [
    "df[\"Gearing Type\"].astype('str').value_counts(dropna=False)"
   ]
  },
  {
   "cell_type": "code",
   "execution_count": 324,
   "metadata": {},
   "outputs": [],
   "source": [
    "df['Gearing_Type'] = df['Gearing Type'].str[1]"
   ]
  },
  {
   "cell_type": "code",
   "execution_count": 325,
   "metadata": {},
   "outputs": [
    {
     "data": {
      "text/plain": [
       "Manual            8153\n",
       "Automatic         7297\n",
       "Semi-automatic     469\n",
       "Name: Gearing_Type, dtype: int64"
      ]
     },
     "execution_count": 325,
     "metadata": {},
     "output_type": "execute_result"
    }
   ],
   "source": [
    "df[\"Gearing_Type\"].value_counts(dropna=False)"
   ]
  },
  {
   "cell_type": "code",
   "execution_count": 326,
   "metadata": {},
   "outputs": [
    {
     "data": {
      "text/plain": [
       "Gearing_Type\n",
       "Automatic         21163.176237\n",
       "Manual            14906.548632\n",
       "Semi-automatic    23236.562900\n",
       "Name: price, dtype: float64"
      ]
     },
     "execution_count": 326,
     "metadata": {},
     "output_type": "execute_result"
    }
   ],
   "source": [
    "df.groupby(\"Gearing_Type\")['price'].mean()"
   ]
  },
  {
   "cell_type": "code",
   "execution_count": 327,
   "metadata": {},
   "outputs": [],
   "source": [
    "df.drop(\"Gearing Type\",axis=1,inplace=True)"
   ]
  },
  {
   "cell_type": "markdown",
   "metadata": {},
   "source": [
    "## 33- Displacement"
   ]
  },
  {
   "cell_type": "code",
   "execution_count": 328,
   "metadata": {},
   "outputs": [
    {
     "data": {
      "text/plain": [
       "['\\n1,598 cc\\n']     4761\n",
       "['\\n999 cc\\n']       2438\n",
       "['\\n1,398 cc\\n']     1314\n",
       "['\\n1,399 cc\\n']      749\n",
       "['\\n1,229 cc\\n']      677\n",
       "['\\n1,956 cc\\n']      670\n",
       "['\\n1,461 cc\\n']      595\n",
       "['\\n1,490 cc\\n']      559\n",
       "nan                   496\n",
       "['\\n1,422 cc\\n']      467\n",
       "['\\n1,197 cc\\n']      353\n",
       "['\\n898 cc\\n']        351\n",
       "['\\n1,395 cc\\n']      320\n",
       "['\\n1,968 cc\\n']      301\n",
       "['\\n1,149 cc\\n']      288\n",
       "['\\n1,618 cc\\n']      212\n",
       "['\\n1,798 cc\\n']      210\n",
       "['\\n1,498 cc\\n']      196\n",
       "['\\n1,600 cc\\n']      130\n",
       "['\\n1,248 cc\\n']      110\n",
       "['\\n1,997 cc\\n']      103\n",
       "['\\n1,364 cc\\n']      102\n",
       "['\\n1,400 cc\\n']       90\n",
       "['\\n998 cc\\n']         72\n",
       "['\\n1,500 cc\\n']       50\n",
       "['\\n2,000 cc\\n']       46\n",
       "['\\n1,000 cc\\n']       40\n",
       "['\\n1 cc\\n']           36\n",
       "['\\n1,998 cc\\n']       25\n",
       "['\\n2,480 cc\\n']       20\n",
       "['\\n1,200 cc\\n']       18\n",
       "['\\n1,984 cc\\n']       18\n",
       "['\\n1,397 cc\\n']       11\n",
       "['\\n899 cc\\n']         11\n",
       "['\\n160 cc\\n']          6\n",
       "['\\n929 cc\\n']          5\n",
       "['\\n1,499 cc\\n']        5\n",
       "['\\n997 cc\\n']          4\n",
       "['\\n1,596 cc\\n']        4\n",
       "['\\n139 cc\\n']          4\n",
       "['\\n900 cc\\n']          4\n",
       "['\\n1,599 cc\\n']        3\n",
       "['\\n1,199 cc\\n']        3\n",
       "['\\n1,396 cc\\n']        3\n",
       "['\\n1,495 cc\\n']        2\n",
       "['\\n1,589 cc\\n']        2\n",
       "['\\n1,300 cc\\n']        2\n",
       "['\\n2 cc\\n']            2\n",
       "['\\n995 cc\\n']          2\n",
       "['\\n1,496 cc\\n']        1\n",
       "['\\n890 cc\\n']          1\n",
       "['\\n1,580 cc\\n']        1\n",
       "['\\n1,995 cc\\n']        1\n",
       "['\\n1,333 cc\\n']        1\n",
       "['\\n54 cc\\n']           1\n",
       "['\\n1,533 cc\\n']        1\n",
       "['\\n1,100 cc\\n']        1\n",
       "['\\n1,350 cc\\n']        1\n",
       "['\\n16,000 cc\\n']       1\n",
       "['\\n1,856 cc\\n']        1\n",
       "['\\n1,568 cc\\n']        1\n",
       "['\\n1,896 cc\\n']        1\n",
       "['\\n1,584 cc\\n']        1\n",
       "['\\n996 cc\\n']          1\n",
       "['\\n1,696 cc\\n']        1\n",
       "['\\n1,686 cc\\n']        1\n",
       "['\\n15,898 cc\\n']       1\n",
       "['\\n1,368 cc\\n']        1\n",
       "['\\n140 cc\\n']          1\n",
       "['\\n973 cc\\n']          1\n",
       "['\\n1,239 cc\\n']        1\n",
       "['\\n1,369 cc\\n']        1\n",
       "['\\n1,390 cc\\n']        1\n",
       "['\\n122 cc\\n']          1\n",
       "['\\n1,198 cc\\n']        1\n",
       "['\\n1,195 cc\\n']        1\n",
       "['\\n2,967 cc\\n']        1\n",
       "['\\n1,800 cc\\n']        1\n",
       "Name: Displacement, dtype: int64"
      ]
     },
     "execution_count": 328,
     "metadata": {},
     "output_type": "execute_result"
    }
   ],
   "source": [
    "df.Displacement.astype(str).value_counts(dropna=False)"
   ]
  },
  {
   "cell_type": "code",
   "execution_count": 329,
   "metadata": {},
   "outputs": [
    {
     "data": {
      "text/plain": [
       "1598.0     4761\n",
       "999.0      2438\n",
       "1398.0     1314\n",
       "1399.0      749\n",
       "1229.0      677\n",
       "1956.0      670\n",
       "1461.0      595\n",
       "1490.0      559\n",
       "NaN         496\n",
       "1422.0      467\n",
       "1197.0      353\n",
       "898.0       351\n",
       "1395.0      320\n",
       "1968.0      301\n",
       "1149.0      288\n",
       "1618.0      212\n",
       "1798.0      210\n",
       "1498.0      196\n",
       "1600.0      130\n",
       "1248.0      110\n",
       "1997.0      103\n",
       "1364.0      102\n",
       "1400.0       90\n",
       "998.0        72\n",
       "1500.0       50\n",
       "2000.0       46\n",
       "1000.0       40\n",
       "1.0          36\n",
       "1998.0       25\n",
       "2480.0       20\n",
       "1200.0       18\n",
       "1984.0       18\n",
       "1397.0       11\n",
       "899.0        11\n",
       "160.0         6\n",
       "929.0         5\n",
       "1499.0        5\n",
       "997.0         4\n",
       "1596.0        4\n",
       "139.0         4\n",
       "900.0         4\n",
       "1599.0        3\n",
       "1199.0        3\n",
       "1396.0        3\n",
       "1495.0        2\n",
       "1589.0        2\n",
       "1300.0        2\n",
       "2.0           2\n",
       "995.0         2\n",
       "1496.0        1\n",
       "890.0         1\n",
       "1580.0        1\n",
       "1995.0        1\n",
       "1333.0        1\n",
       "54.0          1\n",
       "1533.0        1\n",
       "1100.0        1\n",
       "1350.0        1\n",
       "16000.0       1\n",
       "1856.0        1\n",
       "1568.0        1\n",
       "1896.0        1\n",
       "1584.0        1\n",
       "996.0         1\n",
       "1696.0        1\n",
       "1686.0        1\n",
       "15898.0       1\n",
       "1368.0        1\n",
       "140.0         1\n",
       "973.0         1\n",
       "1239.0        1\n",
       "1369.0        1\n",
       "1390.0        1\n",
       "122.0         1\n",
       "1198.0        1\n",
       "1195.0        1\n",
       "2967.0        1\n",
       "1800.0        1\n",
       "Name: Displacement, dtype: int64"
      ]
     },
     "execution_count": 329,
     "metadata": {},
     "output_type": "execute_result"
    }
   ],
   "source": [
    "df[\"Displacement\"] = df[\"Displacement\"].str.join(\"\").str.strip('\\n').str.findall('\\d+').str.join(\"\").str.strip(',').astype('float')\n",
    "df[\"Displacement\"].value_counts(dropna=False)"
   ]
  },
  {
   "cell_type": "markdown",
   "metadata": {},
   "source": [
    "## 34- Cylinders"
   ]
  },
  {
   "cell_type": "code",
   "execution_count": 330,
   "metadata": {},
   "outputs": [
    {
     "data": {
      "text/plain": [
       "4      8105\n",
       "NaN    5680\n",
       "3      2104\n",
       "5        22\n",
       "6         3\n",
       "8         2\n",
       "2         2\n",
       "1         1\n",
       "Name: Cylinders, dtype: int64"
      ]
     },
     "execution_count": 330,
     "metadata": {},
     "output_type": "execute_result"
    }
   ],
   "source": [
    "df[\"Cylinders\"] = df[\"Cylinders\"].str[0].str.strip('\\n')\n",
    "df[\"Cylinders\"].value_counts(dropna=False)"
   ]
  },
  {
   "cell_type": "markdown",
   "metadata": {},
   "source": [
    "## 35- Weight"
   ]
  },
  {
   "cell_type": "code",
   "execution_count": 331,
   "metadata": {},
   "outputs": [
    {
     "data": {
      "text/plain": [
       "NaN       6974\n",
       "1163.0     574\n",
       "1360.0     356\n",
       "1165.0     301\n",
       "1335.0     242\n",
       "          ... \n",
       "1960.0       1\n",
       "1258.0       1\n",
       "1167.0       1\n",
       "1331.0       1\n",
       "2037.0       1\n",
       "Name: weight, Length: 435, dtype: int64"
      ]
     },
     "execution_count": 331,
     "metadata": {},
     "output_type": "execute_result"
    }
   ],
   "source": [
    "df[\"weight\"] = df[\"Weight\"].str.join(\"\").str.strip('\\n').str.findall('\\d+').str.join(\"\").str.strip(',').astype('float')\n",
    "df[\"weight\"].value_counts(dropna=False)"
   ]
  },
  {
   "cell_type": "code",
   "execution_count": 332,
   "metadata": {},
   "outputs": [],
   "source": [
    "df.drop(\"Weight\", axis=1, inplace=True)"
   ]
  },
  {
   "cell_type": "markdown",
   "metadata": {},
   "source": [
    "## 36- Drive_chain                    "
   ]
  },
  {
   "cell_type": "code",
   "execution_count": 333,
   "metadata": {},
   "outputs": [
    {
     "data": {
      "text/plain": [
       "['\\nfront\\n']    8886\n",
       "nan              6858\n",
       "['\\n4WD\\n']       171\n",
       "['\\nrear\\n']        4\n",
       "Name: Drive chain, dtype: int64"
      ]
     },
     "execution_count": 333,
     "metadata": {},
     "output_type": "execute_result"
    }
   ],
   "source": [
    "df[\"Drive chain\"].astype('str').value_counts(dropna=False)"
   ]
  },
  {
   "cell_type": "code",
   "execution_count": 334,
   "metadata": {},
   "outputs": [
    {
     "data": {
      "text/plain": [
       "front    8886\n",
       "4WD       171\n",
       "rear        4\n",
       "Name: Drive chain, dtype: int64"
      ]
     },
     "execution_count": 334,
     "metadata": {},
     "output_type": "execute_result"
    }
   ],
   "source": [
    "df[\"Drive chain\"] = df[\"Drive chain\"].str.join(\"\").str.strip('\\n')\n",
    "df[\"Drive chain\"].value_counts()"
   ]
  },
  {
   "cell_type": "markdown",
   "metadata": {},
   "source": [
    "## 37- Fuel "
   ]
  },
  {
   "cell_type": "code",
   "execution_count": 335,
   "metadata": {},
   "outputs": [
    {
     "data": {
      "text/plain": [
       "['\\n', 'Diesel (Particulate Filter)', '\\n']                                                                                                       4315\n",
       "['\\n', 'Super 95', '\\n']                                                                                                                          3338\n",
       "['\\n', 'Gasoline', '\\n']                                                                                                                          3175\n",
       "['\\n', 'Diesel', '\\n']                                                                                                                            2984\n",
       "['\\n', 'Super 95 / Regular/Benzine 91', '\\n']                                                                                                      424\n",
       "['\\n', 'Regular/Benzine 91', '\\n']                                                                                                                 354\n",
       "['\\n', 'Super E10 95', '\\n']                                                                                                                       331\n",
       "['\\n', 'Super 95 (Particulate Filter)', '\\n']                                                                                                      268\n",
       "['\\n', 'Super 95 / Super E10 95', '\\n']                                                                                                            131\n",
       "['\\n', 'Regular/Benzine 91 (Particulate Filter)', '\\n']                                                                                            100\n",
       "['\\n', 'Super 95 / Super Plus 98', '\\n']                                                                                                            85\n",
       "['\\n', 'Gasoline (Particulate Filter)', '\\n']                                                                                                       77\n",
       "['\\n', 'Super 95 / Super Plus 98 / Super E10 95 / Super Plus E10 98', '\\n']                                                                         40\n",
       "['\\n', 'Super E10 95 / Super 95', '\\n']                                                                                                             38\n",
       "['\\n', 'CNG', '\\n']                                                                                                                                 33\n",
       "['\\n', 'Super 95 / Super E10 95 (Particulate Filter)', '\\n']                                                                                        25\n",
       "['\\n', 'Super E10 95 / Super 95 / Super Plus 98 / Super Plus E10 98', '\\n']                                                                         19\n",
       "['\\n', 'LPG', '\\n']                                                                                                                                 16\n",
       "['\\n', 'Super 95 / Super Plus 98 (Particulate Filter)', '\\n']                                                                                       14\n",
       "['\\n', 'Regular/Benzine 91 / Super 95 / Super Plus 98 / Regular/Benzine E10 91 / Super E10 95 / Super Plus E10 98', '\\n']                           13\n",
       "['\\n', 'Regular/Benzine E10 91', '\\n']                                                                                                              11\n",
       "['\\n', 'Liquid petroleum gas (LPG)', '\\n']                                                                                                          10\n",
       "['\\n', 'Super 95 / Super Plus 98 / Super E10 95', '\\n']                                                                                              8\n",
       "['\\n', 'Regular/Benzine 91 / Regular/Benzine E10 91', '\\n']                                                                                          7\n",
       "['\\n', 'Super 95 / Regular/Benzine 91 / Super Plus 98 / Regular/Benzine E10 91 / Super E10 95 / Super Plus E10 98', '\\n']                            7\n",
       "['\\n', 'Super Plus 98', '\\n']                                                                                                                        7\n",
       "['\\n', 'Super E10 95 (Particulate Filter)', '\\n']                                                                                                    7\n",
       "['\\n', 'Super 95 / Super Plus 98 / Super Plus E10 98 / Super E10 95', '\\n']                                                                          5\n",
       "['\\n', 'Others', '\\n']                                                                                                                               5\n",
       "['\\n', 'Super E10 95 / Super Plus E10 98', '\\n']                                                                                                     4\n",
       "['\\n', 'Electric/Gasoline', '\\n']                                                                                                                    4\n",
       "['\\n', 'Super 95 / Super Plus 98 / Super E10 95 / Super Plus E10 98 (Particulate Filter)', '\\n']                                                     4\n",
       "['\\n', 'Super 95 / Super E10 95 / Super Plus E10 98 / Super Plus 98', '\\n']                                                                          4\n",
       "['\\n', 'Regular/Benzine 91 / Super 95 / Super Plus 98 / Regular/Benzine E10 91 / Super Plus E10 98 / Super E10 95', '\\n']                            4\n",
       "['\\n', 'CNG (Particulate Filter)', '\\n']                                                                                                             3\n",
       "['\\n', 'Super E10 95 / Super 95 / Super Plus 98 / Super Plus E10 98 (Particulate Filter)', '\\n']                                                     3\n",
       "['\\n', 'Super E10 95 / Super 95 / Super Plus 98', '\\n']                                                                                              3\n",
       "['\\n', 'Super E10 95 / Regular/Benzine 91', '\\n']                                                                                                    2\n",
       "['\\n', 'Super 95 / Regular/Benzine 91 / Super Plus 98', '\\n']                                                                                        2\n",
       "['\\n', 'Regular/Benzine 91 / Super 95 / Super Plus 98 / Super Plus E10 98 / Super E10 95 / Regular/Benzine E10 91', '\\n']                            2\n",
       "['\\n', 'Regular/Benzine 91 / Super 95 / Super E10 95', '\\n']                                                                                         1\n",
       "['\\n', 'Electric', '\\n']                                                                                                                             1\n",
       "['\\n', 'Regular/Benzine 91 / Super 95 / Super E10 95 / Super Plus E10 98 / Super Plus 98 / Regular/Benzine E10 91', '\\n']                            1\n",
       "['\\n', 'Super 95 / Super E10 95 / Super Plus E10 98', '\\n']                                                                                          1\n",
       "['\\n', 'Super 95 / Super E10 95 / Super Plus 98', '\\n']                                                                                              1\n",
       "['\\n', 'Regular/Benzine 91 / Super 95 / Super Plus E10 98 / Super E10 95 / Regular/Benzine E10 91 / Super Plus 98', '\\n']                            1\n",
       "['\\n', 'Super 95 / Super Plus 98 / Regular/Benzine E10 91 / Super Plus E10 98 / Super E10 95 / Regular/Benzine 91', '\\n']                            1\n",
       "['\\n', 'Super 95 / Regular/Benzine E10 91', '\\n']                                                                                                    1\n",
       "['\\n', 'Super E10 95 / Regular/Benzine 91 / Regular/Benzine E10 91 / Super 95', '\\n']                                                                1\n",
       "['\\n', 'Super Plus 98 / Regular/Benzine 91', '\\n']                                                                                                   1\n",
       "['\\n', 'Super 95 / Regular/Benzine 91 / Super E10 95 / Super Plus 98 / Super Plus E10 98 / Regular/Benzine E10 91', '\\n']                            1\n",
       "['\\n', 'Super 95 / Super Plus 98 / Super Plus E10 98', '\\n']                                                                                         1\n",
       "['\\n', 'Super 95 / Regular/Benzine 91 (Particulate Filter)', '\\n']                                                                                   1\n",
       "['\\n', 'Super 95 / Super E10 95 / Regular/Benzine 91', '\\n']                                                                                         1\n",
       "['\\n', 'Regular/Benzine 91 / Super 95 / Super E10 95 / Regular/Benzine E10 91', '\\n']                                                                1\n",
       "['\\n', 'Super 95 / Regular/Benzine E10 91 / Super E10 95', '\\n']                                                                                     1\n",
       "['\\n', 'Super 95 / Regular/Benzine 91 / Super Plus 98 / Regular/Benzine E10 91 / Super Plus E10 98 / Super E10 95', '\\n']                            1\n",
       "['\\n', 'Regular/Benzine E10 91 / Super E10 95 / Super Plus E10 98 / Super Plus 98 / Super 95 / Regular/Benzine 91', '\\n']                            1\n",
       "['\\n', 'Super 95 / Regular/Benzine 91 / Super E10 95 / Super Plus E10 98 / Super Plus 98', '\\n']                                                     1\n",
       "['\\n', 'Others (Particulate Filter)', '\\n']                                                                                                          1\n",
       "['\\n', 'Biogas', '\\n']                                                                                                                               1\n",
       "['\\n', 'Super 95 / Biodiesel', '\\n']                                                                                                                 1\n",
       "['\\n', 'Regular/Benzine 91 / Super 95 / Super Plus 98 / Super Plus E10 98 / Super E10 95 / Regular/Benzine E10 91 (Particulate Filter)', '\\n']       1\n",
       "['\\n', 'Regular/Benzine 91 / Super 95 / Super Plus 98', '\\n']                                                                                        1\n",
       "['\\n', 'Regular/Benzine 91 / Super 95', '\\n']                                                                                                        1\n",
       "['\\n', 'Regular/Benzine E10 91 / Regular/Benzine 91 / Super 95 / Super Plus 98 / Super E10 95 / Super Plus E10 98', '\\n']                            1\n",
       "['\\n', 'Domestic gas H', '\\n']                                                                                                                       1\n",
       "['\\n', 'Super E10 95 / Regular/Benzine 91 / Super 95 / Super Plus 98 / Regular/Benzine E10 91 / Super Plus E10 98', '\\n']                            1\n",
       "['\\n', 'Super Plus E10 98 / Super 95 / Super Plus 98 / Super E10 95', '\\n']                                                                          1\n",
       "['\\n', 'Super 95 / Regular/Benzine 91 / Super E10 95 / Super Plus E10 98 / Super Plus 98 / Regular/Benzine E10 91', '\\n']                            1\n",
       "['\\n', 'Super Plus 98 / Super 95 / Super E10 95', '\\n']                                                                                              1\n",
       "['\\n', 'Super Plus E10 98', '\\n']                                                                                                                    1\n",
       "['\\n', 'Regular/Benzine 91 / Super 95 / Regular/Benzine E10 91', '\\n']                                                                               1\n",
       "['\\n', 'Super Plus 98 / Super E10 95', '\\n']                                                                                                         1\n",
       "['\\n', 'Regular/Benzine 91 / Super 95 / Regular/Benzine E10 91 / Super E10 95 / Super Plus 98 / Super Plus E10 98', '\\n']                            1\n",
       "['\\n', 'Regular/Benzine 91 / Super Plus 98 / Regular/Benzine E10 91 / Super 95 / Super E10 95 / Super Plus E10 98', '\\n']                            1\n",
       "['\\n', 'Super Plus 98 / Super 95 / Super Plus E10 98', '\\n']                                                                                         1\n",
       "Name: Fuel, dtype: int64"
      ]
     },
     "execution_count": 335,
     "metadata": {},
     "output_type": "execute_result"
    }
   ],
   "source": [
    "df[\"Fuel\"].astype('str').value_counts(dropna=False)"
   ]
  },
  {
   "cell_type": "code",
   "execution_count": 336,
   "metadata": {},
   "outputs": [],
   "source": [
    "df[\"Fuel\"] = df.Fuel.str[1].str.split(\"/\").str[0].str.strip()"
   ]
  },
  {
   "cell_type": "code",
   "execution_count": 337,
   "metadata": {},
   "outputs": [
    {
     "data": {
      "text/plain": [
       "Diesel (Particulate Filter)          4315\n",
       "Super 95                             4100\n",
       "Gasoline                             3175\n",
       "Diesel                               2984\n",
       "Regular                               503\n",
       "Super E10 95                          402\n",
       "Super 95 (Particulate Filter)         268\n",
       "Gasoline (Particulate Filter)          77\n",
       "CNG                                    33\n",
       "LPG                                    16\n",
       "Super Plus 98                          11\n",
       "Liquid petroleum gas (LPG)             10\n",
       "Super E10 95 (Particulate Filter)       7\n",
       "Electric                                5\n",
       "Others                                  5\n",
       "CNG (Particulate Filter)                3\n",
       "Super Plus E10 98                       2\n",
       "Others (Particulate Filter)             1\n",
       "Biogas                                  1\n",
       "Domestic gas H                          1\n",
       "Name: Fuel, dtype: int64"
      ]
     },
     "execution_count": 337,
     "metadata": {},
     "output_type": "execute_result"
    }
   ],
   "source": [
    "df[\"Fuel\"].value_counts(dropna=False)"
   ]
  },
  {
   "cell_type": "code",
   "execution_count": 338,
   "metadata": {},
   "outputs": [],
   "source": [
    "df[\"Fuel\"] = df.Fuel.str.split(\"(\").str[0].str.strip()"
   ]
  },
  {
   "cell_type": "code",
   "execution_count": 339,
   "metadata": {},
   "outputs": [],
   "source": [
    "benzine = [\"Gasoline\", \"Super 95\", \"Regular\", \"Super E10 95\", \"Super Plus 98\", \"Super Plus E10 98\", \"Others\"]\n",
    "lpg = [\"LPG\", \"Liquid petroleum gas\", \"CNG\", \"Biogas\", \"Domestic gas H\"]\n",
    "\n",
    "def fueltype(x):\n",
    "    if x in benzine:\n",
    "        return \"Benzine\"\n",
    "    elif x in lpg:\n",
    "        return \"LPG/CNG\"\n",
    "    else:\n",
    "        return x\n",
    "\n",
    "df[\"Fuel\"] = df.Fuel.apply(fueltype)"
   ]
  },
  {
   "cell_type": "code",
   "execution_count": 340,
   "metadata": {},
   "outputs": [
    {
     "data": {
      "text/plain": [
       "Benzine     8551\n",
       "Diesel      7299\n",
       "LPG/CNG       64\n",
       "Electric       5\n",
       "Name: Fuel, dtype: int64"
      ]
     },
     "execution_count": 340,
     "metadata": {},
     "output_type": "execute_result"
    }
   ],
   "source": [
    "df.Fuel.value_counts(dropna=False)\n"
   ]
  },
  {
   "cell_type": "markdown",
   "metadata": {},
   "source": [
    "## 38- consumption "
   ]
  },
  {
   "cell_type": "code",
   "execution_count": 341,
   "metadata": {},
   "outputs": [
    {
     "data": {
      "text/plain": [
       "nan                                                                                                 1906\n",
       "[['3.9 l/100 km (comb)'], ['4.1 l/100 km (city)'], ['3.7 l/100 km (country)']]                       304\n",
       "[['4.2 l/100 km (comb)'], ['5 l/100 km (city)'], ['3.7 l/100 km (country)']]                         276\n",
       "[['5.4 l/100 km (comb)'], ['6.8 l/100 km (city)'], ['4.5 l/100 km (country)']]                       257\n",
       "[['3.8 l/100 km (comb)'], ['4.3 l/100 km (city)'], ['3.5 l/100 km (country)']]                       253\n",
       "                                                                                                    ... \n",
       "[['4.2 l/100 km (comb)'], ['5.3 l/100 km (city)'], ['3.6 l/100 km (country)']]                         1\n",
       "['\\n', '5.1 l/100 km (comb)', '\\n', '6.4 l/100 km (city)', '\\n', '4.3 l/100 km (country)', '\\n']       1\n",
       "[['4.6 l/100 km (comb)'], ['5.4 l/100 km (city)'], ['6.7 l/100 km (country)']]                         1\n",
       "['\\n', '6.3 l/100 km (comb)', '\\n', '\\n', '\\n']                                                        1\n",
       "['\\n', '7.4 l/100 km (comb)', '\\n', '9.6 l/100 km (city)', '\\n', '6 l/100 km (country)', '\\n']         1\n",
       "Name: Consumption, Length: 882, dtype: int64"
      ]
     },
     "execution_count": 341,
     "metadata": {},
     "output_type": "execute_result"
    }
   ],
   "source": [
    "df[\"Consumption\"].astype('str').value_counts(dropna=False)"
   ]
  },
  {
   "cell_type": "code",
   "execution_count": 342,
   "metadata": {},
   "outputs": [
    {
     "name": "stdout",
     "output_type": "stream",
     "text": [
      "3\n",
      "7\n",
      "5\n"
     ]
    }
   ],
   "source": [
    "listtt=[]\n",
    "for i in df['Consumption']:\n",
    "    if type(i)==list:\n",
    "         if(len(i)) not in listtt:\n",
    "             print(len(i))\n",
    "             listtt.append((len(i)))   \n"
   ]
  },
  {
   "cell_type": "code",
   "execution_count": 343,
   "metadata": {},
   "outputs": [],
   "source": [
    "def cons_comb(x):\n",
    "    \n",
    "    if type(x)==list and len(x)==3:\n",
    "        if x[0] != []: return x[0][0]\n",
    "        else: return None\n",
    "        \n",
    "    if type(x)==list and len(x)==5:\n",
    "        return x[1]\n",
    "    \n",
    "    if type(x)==list and len(x)==7:\n",
    "        return x[1]\n",
    "    \n",
    "    else:\n",
    "        return None"
   ]
  },
  {
   "cell_type": "code",
   "execution_count": 344,
   "metadata": {},
   "outputs": [],
   "source": [
    "def cons_city(x):\n",
    "    \n",
    "    if type(x)==list and len(x)==3:\n",
    "        if x[1] != []: return x[1][0]\n",
    "        else: return None\n",
    "        \n",
    "    if type(x)==list and len(x)==5:\n",
    "        return None\n",
    "    \n",
    "    if type(x)==list and len(x)==7:\n",
    "        return x[3]\n",
    "    \n",
    "    else:\n",
    "        return None"
   ]
  },
  {
   "cell_type": "code",
   "execution_count": 345,
   "metadata": {},
   "outputs": [],
   "source": [
    "def cons_country(x):\n",
    "    \n",
    "    if type(x)==list and len(x)==3:\n",
    "        if x[2] != []: return x[2][0]\n",
    "        else: return None\n",
    "        \n",
    "    if type(x)==list and len(x)==5:\n",
    "        return None\n",
    "    \n",
    "    if type(x)==list and len(x)==7:\n",
    "        return x[5]\n",
    "    \n",
    "    else:\n",
    "        return None"
   ]
  },
  {
   "cell_type": "code",
   "execution_count": 346,
   "metadata": {},
   "outputs": [],
   "source": [
    "df['cons_comb'] = df.Consumption.apply(cons_comb).str.extract('(\\d{1,2}.\\d|\\d{1,3})').astype(\"float\")\n",
    "df['cons_city'] = df.Consumption.apply(cons_city).str.extract('(\\d{1,2}.\\d|\\d{1,3})').astype(\"float\")\n",
    "df['cons_country'] = df.Consumption.apply(cons_country).str.extract('(\\d{1,2}.\\d|\\d{1,3})').astype(\"float\")"
   ]
  },
  {
   "cell_type": "code",
   "execution_count": 347,
   "metadata": {},
   "outputs": [
    {
     "data": {
      "text/plain": [
       "NaN    2033\n",
       "5.4     770\n",
       "3.9     733\n",
       "4.0     713\n",
       "5.1     657\n",
       "Name: cons_comb, dtype: int64"
      ]
     },
     "execution_count": 347,
     "metadata": {},
     "output_type": "execute_result"
    }
   ],
   "source": [
    "df[\"cons_comb\"].value_counts(dropna=False).head()"
   ]
  },
  {
   "cell_type": "code",
   "execution_count": 348,
   "metadata": {},
   "outputs": [
    {
     "data": {
      "text/plain": [
       "NaN    2436\n",
       "5.0     669\n",
       "5.8     633\n",
       "4.5     580\n",
       "4.3     533\n",
       "Name: cons_city, dtype: int64"
      ]
     },
     "execution_count": 348,
     "metadata": {},
     "output_type": "execute_result"
    }
   ],
   "source": [
    "df[\"cons_city\"].value_counts(dropna=False).head()"
   ]
  },
  {
   "cell_type": "code",
   "execution_count": 349,
   "metadata": {},
   "outputs": [
    {
     "data": {
      "text/plain": [
       "NaN    2376\n",
       "4.2    1178\n",
       "3.7    1089\n",
       "4.4     898\n",
       "4.5     848\n",
       "Name: cons_country, dtype: int64"
      ]
     },
     "execution_count": 349,
     "metadata": {},
     "output_type": "execute_result"
    }
   ],
   "source": [
    "df[\"cons_country\"].value_counts(dropna=False).head()"
   ]
  },
  {
   "cell_type": "code",
   "execution_count": 350,
   "metadata": {},
   "outputs": [],
   "source": [
    "df.drop('Consumption', axis=1,inplace=True)"
   ]
  },
  {
   "cell_type": "code",
   "execution_count": 351,
   "metadata": {},
   "outputs": [
    {
     "data": {
      "text/plain": [
       "Index(['make_model', 'body_type', 'price', 'vat', 'km', 'prev_owner', 'hp',\n",
       "       'Type', 'Warranty', 'Body Color', 'Paint Type', 'Displacement',\n",
       "       'Cylinders', 'Drive chain', 'Fuel', 'CO2 Emission', 'Emission Class',\n",
       "       'Comfort_Convenience', 'Entertainment_Media', 'Extras',\n",
       "       'Safety_Security', 'Emission Label', 'Gears', 'Country version', 'age',\n",
       "       'Inspection_new', 'Upholstery_Type', 'Upholstery_color', 'nr_of_doors',\n",
       "       'nr_of_seats', 'Gearing_Type', 'weight', 'cons_comb', 'cons_city',\n",
       "       'cons_country'],\n",
       "      dtype='object')"
      ]
     },
     "execution_count": 351,
     "metadata": {},
     "output_type": "execute_result"
    }
   ],
   "source": [
    "df.columns"
   ]
  },
  {
   "cell_type": "markdown",
   "metadata": {},
   "source": [
    "## 39- CO2_emission"
   ]
  },
  {
   "cell_type": "code",
   "execution_count": 352,
   "metadata": {},
   "outputs": [
    {
     "data": {
      "text/plain": [
       "nan                              1808\n",
       "['\\n120 g CO2/km (comb)\\n']       740\n",
       "[[], [], []]                      628\n",
       "['\\n99 g CO2/km (comb)\\n']        545\n",
       "['\\n97 g CO2/km (comb)\\n']        537\n",
       "                                 ... \n",
       "['\\n14 g CO2/km (comb)\\n']          1\n",
       "['\\n1,060 g CO2/km (comb)\\n']       1\n",
       "['\\n51 g CO2/km (comb)\\n']          1\n",
       "['\\n165 g CO2/km (comb)\\n']         1\n",
       "['\\n193 g CO2/km (comb)\\n']         1\n",
       "Name: CO2 Emission, Length: 124, dtype: int64"
      ]
     },
     "execution_count": 352,
     "metadata": {},
     "output_type": "execute_result"
    }
   ],
   "source": [
    "df[\"CO2 Emission\"].astype(str).value_counts(dropna=False)"
   ]
  },
  {
   "cell_type": "code",
   "execution_count": 353,
   "metadata": {},
   "outputs": [],
   "source": [
    "df[\"CO2_Emission\"] = df['CO2 Emission'].str[0].str.strip().str.replace(',', '').str.extract('(\\d+)').astype('float')"
   ]
  },
  {
   "cell_type": "code",
   "execution_count": 354,
   "metadata": {},
   "outputs": [
    {
     "data": {
      "text/plain": [
       "NaN       2436\n",
       "120.0      740\n",
       "99.0       545\n",
       "97.0       537\n",
       "104.0      501\n",
       "          ... \n",
       "14.0         1\n",
       "1060.0       1\n",
       "51.0         1\n",
       "165.0        1\n",
       "193.0        1\n",
       "Name: CO2_Emission, Length: 123, dtype: int64"
      ]
     },
     "execution_count": 354,
     "metadata": {},
     "output_type": "execute_result"
    }
   ],
   "source": [
    "df[\"CO2_Emission\"].value_counts(dropna=False)"
   ]
  },
  {
   "cell_type": "code",
   "execution_count": 355,
   "metadata": {},
   "outputs": [],
   "source": [
    "df.drop(\"CO2 Emission\",axis=1,inplace=True)"
   ]
  },
  {
   "cell_type": "code",
   "execution_count": 356,
   "metadata": {},
   "outputs": [
    {
     "data": {
      "text/plain": [
       "(15919, 35)"
      ]
     },
     "execution_count": 356,
     "metadata": {},
     "output_type": "execute_result"
    }
   ],
   "source": [
    "df.shape"
   ]
  },
  {
   "cell_type": "code",
   "execution_count": 357,
   "metadata": {},
   "outputs": [
    {
     "data": {
      "text/plain": [
       "Index(['make_model', 'body_type', 'price', 'vat', 'km', 'prev_owner', 'hp',\n",
       "       'Type', 'Warranty', 'Body Color', 'Paint Type', 'Displacement',\n",
       "       'Cylinders', 'Drive chain', 'Fuel', 'Emission Class',\n",
       "       'Comfort_Convenience', 'Entertainment_Media', 'Extras',\n",
       "       'Safety_Security', 'Emission Label', 'Gears', 'Country version', 'age',\n",
       "       'Inspection_new', 'Upholstery_Type', 'Upholstery_color', 'nr_of_doors',\n",
       "       'nr_of_seats', 'Gearing_Type', 'weight', 'cons_comb', 'cons_city',\n",
       "       'cons_country', 'CO2_Emission'],\n",
       "      dtype='object')"
      ]
     },
     "execution_count": 357,
     "metadata": {},
     "output_type": "execute_result"
    }
   ],
   "source": [
    "df.columns"
   ]
  },
  {
   "cell_type": "markdown",
   "metadata": {},
   "source": [
    "## 39- emission_class"
   ]
  },
  {
   "cell_type": "code",
   "execution_count": 358,
   "metadata": {},
   "outputs": [
    {
     "data": {
      "text/plain": [
       "['\\nEuro 6\\n']          10139\n",
       "nan                      3021\n",
       "['\\nEuro 6d-TEMP\\n']     1845\n",
       "[[], [], []]              607\n",
       "['\\nEuro 6c\\n']           127\n",
       "['\\nEuro 5\\n']             78\n",
       "['\\nEuro 6d\\n']            62\n",
       "['\\nEuro 4\\n']             40\n",
       "Name: Emission Class, dtype: int64"
      ]
     },
     "execution_count": 358,
     "metadata": {},
     "output_type": "execute_result"
    }
   ],
   "source": [
    "df[\"Emission Class\"].astype('str').value_counts(dropna=False)"
   ]
  },
  {
   "cell_type": "code",
   "execution_count": 359,
   "metadata": {},
   "outputs": [],
   "source": [
    "df[\"Emission_Class\"] = [item[0] if type(item) == list else item for item in df[\"Emission Class\"]]\n",
    "# df[\"Emission_class\"].str.join(\"\").str.strip('\\n').value_counts(dropna=False)\n",
    "df[\"Emission_Class\"] = df[\"Emission_Class\"].str.strip(\"\\n\")"
   ]
  },
  {
   "cell_type": "code",
   "execution_count": 360,
   "metadata": {},
   "outputs": [
    {
     "data": {
      "text/plain": [
       "Euro 6          10139\n",
       "NaN              3628\n",
       "Euro 6d-TEMP     1845\n",
       "Euro 6c           127\n",
       "Euro 5             78\n",
       "Euro 6d            62\n",
       "Euro 4             40\n",
       "Name: Emission_Class, dtype: int64"
      ]
     },
     "execution_count": 360,
     "metadata": {},
     "output_type": "execute_result"
    }
   ],
   "source": [
    "df[\"Emission_Class\"].value_counts(dropna=False)"
   ]
  },
  {
   "cell_type": "code",
   "execution_count": 361,
   "metadata": {},
   "outputs": [],
   "source": [
    "df.drop(\"Emission Class\",axis=1,inplace=True)"
   ]
  },
  {
   "cell_type": "code",
   "execution_count": 362,
   "metadata": {},
   "outputs": [
    {
     "data": {
      "text/html": [
       "<div>\n",
       "<style scoped>\n",
       "    .dataframe tbody tr th:only-of-type {\n",
       "        vertical-align: middle;\n",
       "    }\n",
       "\n",
       "    .dataframe tbody tr th {\n",
       "        vertical-align: top;\n",
       "    }\n",
       "\n",
       "    .dataframe thead th {\n",
       "        text-align: right;\n",
       "    }\n",
       "</style>\n",
       "<table border=\"1\" class=\"dataframe\">\n",
       "  <thead>\n",
       "    <tr style=\"text-align: right;\">\n",
       "      <th></th>\n",
       "      <th>price</th>\n",
       "      <th>km</th>\n",
       "      <th>prev_owner</th>\n",
       "      <th>hp</th>\n",
       "      <th>Warranty</th>\n",
       "      <th>Displacement</th>\n",
       "      <th>age</th>\n",
       "      <th>nr_of_doors</th>\n",
       "      <th>nr_of_seats</th>\n",
       "      <th>weight</th>\n",
       "      <th>cons_comb</th>\n",
       "      <th>cons_city</th>\n",
       "      <th>cons_country</th>\n",
       "      <th>CO2_Emission</th>\n",
       "    </tr>\n",
       "    <tr>\n",
       "      <th>Emission_Class</th>\n",
       "      <th></th>\n",
       "      <th></th>\n",
       "      <th></th>\n",
       "      <th></th>\n",
       "      <th></th>\n",
       "      <th></th>\n",
       "      <th></th>\n",
       "      <th></th>\n",
       "      <th></th>\n",
       "      <th></th>\n",
       "      <th></th>\n",
       "      <th></th>\n",
       "      <th></th>\n",
       "      <th></th>\n",
       "    </tr>\n",
       "  </thead>\n",
       "  <tbody>\n",
       "    <tr>\n",
       "      <th>Euro 4</th>\n",
       "      <td>13655.825000</td>\n",
       "      <td>17734.583333</td>\n",
       "      <td>1.000000</td>\n",
       "      <td>78.468750</td>\n",
       "      <td>12.000000</td>\n",
       "      <td>1648.692308</td>\n",
       "      <td>0.608696</td>\n",
       "      <td>5.000000</td>\n",
       "      <td>5.051282</td>\n",
       "      <td>1643.000000</td>\n",
       "      <td>9.558974</td>\n",
       "      <td>9.969565</td>\n",
       "      <td>9.312821</td>\n",
       "      <td>177.538462</td>\n",
       "    </tr>\n",
       "    <tr>\n",
       "      <th>Euro 5</th>\n",
       "      <td>12472.500000</td>\n",
       "      <td>67507.487179</td>\n",
       "      <td>1.090909</td>\n",
       "      <td>82.166667</td>\n",
       "      <td>11.250000</td>\n",
       "      <td>1514.551282</td>\n",
       "      <td>2.578947</td>\n",
       "      <td>4.756410</td>\n",
       "      <td>4.763889</td>\n",
       "      <td>1315.000000</td>\n",
       "      <td>4.557534</td>\n",
       "      <td>5.644928</td>\n",
       "      <td>3.965714</td>\n",
       "      <td>113.506849</td>\n",
       "    </tr>\n",
       "    <tr>\n",
       "      <th>Euro 6</th>\n",
       "      <td>17122.520170</td>\n",
       "      <td>39400.033751</td>\n",
       "      <td>1.087281</td>\n",
       "      <td>87.911916</td>\n",
       "      <td>19.759804</td>\n",
       "      <td>1446.785374</td>\n",
       "      <td>1.743142</td>\n",
       "      <td>4.638867</td>\n",
       "      <td>4.936110</td>\n",
       "      <td>1353.639237</td>\n",
       "      <td>4.718439</td>\n",
       "      <td>5.698769</td>\n",
       "      <td>4.095453</td>\n",
       "      <td>121.430368</td>\n",
       "    </tr>\n",
       "    <tr>\n",
       "      <th>Euro 6c</th>\n",
       "      <td>16225.842520</td>\n",
       "      <td>13578.523364</td>\n",
       "      <td>0.925373</td>\n",
       "      <td>81.795276</td>\n",
       "      <td>27.724138</td>\n",
       "      <td>1263.192000</td>\n",
       "      <td>1.052632</td>\n",
       "      <td>4.690476</td>\n",
       "      <td>5.067227</td>\n",
       "      <td>1310.487179</td>\n",
       "      <td>5.066929</td>\n",
       "      <td>6.345600</td>\n",
       "      <td>4.368800</td>\n",
       "      <td>122.032000</td>\n",
       "    </tr>\n",
       "    <tr>\n",
       "      <th>Euro 6d</th>\n",
       "      <td>18487.870968</td>\n",
       "      <td>8599.540984</td>\n",
       "      <td>1.019231</td>\n",
       "      <td>82.983871</td>\n",
       "      <td>41.076923</td>\n",
       "      <td>1408.779661</td>\n",
       "      <td>0.333333</td>\n",
       "      <td>4.516129</td>\n",
       "      <td>5.103448</td>\n",
       "      <td>1373.040000</td>\n",
       "      <td>5.491803</td>\n",
       "      <td>6.681967</td>\n",
       "      <td>4.755738</td>\n",
       "      <td>128.918033</td>\n",
       "    </tr>\n",
       "    <tr>\n",
       "      <th>Euro 6d-TEMP</th>\n",
       "      <td>22185.037940</td>\n",
       "      <td>5722.063872</td>\n",
       "      <td>0.981439</td>\n",
       "      <td>93.015727</td>\n",
       "      <td>26.737160</td>\n",
       "      <td>1380.444323</td>\n",
       "      <td>0.399261</td>\n",
       "      <td>4.596081</td>\n",
       "      <td>4.999432</td>\n",
       "      <td>1320.496599</td>\n",
       "      <td>5.495917</td>\n",
       "      <td>6.854883</td>\n",
       "      <td>4.738139</td>\n",
       "      <td>129.710326</td>\n",
       "    </tr>\n",
       "  </tbody>\n",
       "</table>\n",
       "</div>"
      ],
      "text/plain": [
       "                       price            km  prev_owner         hp   Warranty  \\\n",
       "Emission_Class                                                                 \n",
       "Euro 4          13655.825000  17734.583333    1.000000  78.468750  12.000000   \n",
       "Euro 5          12472.500000  67507.487179    1.090909  82.166667  11.250000   \n",
       "Euro 6          17122.520170  39400.033751    1.087281  87.911916  19.759804   \n",
       "Euro 6c         16225.842520  13578.523364    0.925373  81.795276  27.724138   \n",
       "Euro 6d         18487.870968   8599.540984    1.019231  82.983871  41.076923   \n",
       "Euro 6d-TEMP    22185.037940   5722.063872    0.981439  93.015727  26.737160   \n",
       "\n",
       "                Displacement       age  nr_of_doors  nr_of_seats       weight  \\\n",
       "Emission_Class                                                                  \n",
       "Euro 4           1648.692308  0.608696     5.000000     5.051282  1643.000000   \n",
       "Euro 5           1514.551282  2.578947     4.756410     4.763889  1315.000000   \n",
       "Euro 6           1446.785374  1.743142     4.638867     4.936110  1353.639237   \n",
       "Euro 6c          1263.192000  1.052632     4.690476     5.067227  1310.487179   \n",
       "Euro 6d          1408.779661  0.333333     4.516129     5.103448  1373.040000   \n",
       "Euro 6d-TEMP     1380.444323  0.399261     4.596081     4.999432  1320.496599   \n",
       "\n",
       "                cons_comb  cons_city  cons_country  CO2_Emission  \n",
       "Emission_Class                                                    \n",
       "Euro 4           9.558974   9.969565      9.312821    177.538462  \n",
       "Euro 5           4.557534   5.644928      3.965714    113.506849  \n",
       "Euro 6           4.718439   5.698769      4.095453    121.430368  \n",
       "Euro 6c          5.066929   6.345600      4.368800    122.032000  \n",
       "Euro 6d          5.491803   6.681967      4.755738    128.918033  \n",
       "Euro 6d-TEMP     5.495917   6.854883      4.738139    129.710326  "
      ]
     },
     "execution_count": 362,
     "metadata": {},
     "output_type": "execute_result"
    }
   ],
   "source": [
    "df.groupby(\"Emission_Class\").mean()"
   ]
  },
  {
   "cell_type": "markdown",
   "metadata": {},
   "source": [
    "## Emission Label"
   ]
  },
  {
   "cell_type": "code",
   "execution_count": 363,
   "metadata": {},
   "outputs": [
    {
     "data": {
      "text/html": [
       "<div>\n",
       "<style scoped>\n",
       "    .dataframe tbody tr th:only-of-type {\n",
       "        vertical-align: middle;\n",
       "    }\n",
       "\n",
       "    .dataframe tbody tr th {\n",
       "        vertical-align: top;\n",
       "    }\n",
       "\n",
       "    .dataframe thead th {\n",
       "        text-align: right;\n",
       "    }\n",
       "</style>\n",
       "<table border=\"1\" class=\"dataframe\">\n",
       "  <thead>\n",
       "    <tr style=\"text-align: right;\">\n",
       "      <th></th>\n",
       "      <th>price</th>\n",
       "      <th>km</th>\n",
       "      <th>prev_owner</th>\n",
       "      <th>hp</th>\n",
       "      <th>Warranty</th>\n",
       "      <th>Displacement</th>\n",
       "      <th>age</th>\n",
       "      <th>nr_of_doors</th>\n",
       "      <th>nr_of_seats</th>\n",
       "      <th>weight</th>\n",
       "      <th>cons_comb</th>\n",
       "      <th>cons_city</th>\n",
       "      <th>cons_country</th>\n",
       "      <th>CO2_Emission</th>\n",
       "    </tr>\n",
       "    <tr>\n",
       "      <th>Emission Label</th>\n",
       "      <th></th>\n",
       "      <th></th>\n",
       "      <th></th>\n",
       "      <th></th>\n",
       "      <th></th>\n",
       "      <th></th>\n",
       "      <th></th>\n",
       "      <th></th>\n",
       "      <th></th>\n",
       "      <th></th>\n",
       "      <th></th>\n",
       "      <th></th>\n",
       "      <th></th>\n",
       "      <th></th>\n",
       "    </tr>\n",
       "  </thead>\n",
       "  <tbody>\n",
       "    <tr>\n",
       "      <th>['\\n1 (No sticker)\\n']</th>\n",
       "      <td>21830.682415</td>\n",
       "      <td>19373.920904</td>\n",
       "      <td>1.077778</td>\n",
       "      <td>85.952756</td>\n",
       "      <td>25.333333</td>\n",
       "      <td>1397.010499</td>\n",
       "      <td>0.960000</td>\n",
       "      <td>4.846154</td>\n",
       "      <td>4.904632</td>\n",
       "      <td>1327.346939</td>\n",
       "      <td>4.677660</td>\n",
       "      <td>5.440108</td>\n",
       "      <td>4.217344</td>\n",
       "      <td>115.102426</td>\n",
       "    </tr>\n",
       "    <tr>\n",
       "      <th>['\\n2 (Red)\\n']</th>\n",
       "      <td>14900.000000</td>\n",
       "      <td>50.000000</td>\n",
       "      <td>1.000000</td>\n",
       "      <td>66.000000</td>\n",
       "      <td>NaN</td>\n",
       "      <td>1398.000000</td>\n",
       "      <td>0.000000</td>\n",
       "      <td>5.000000</td>\n",
       "      <td>5.000000</td>\n",
       "      <td>1248.000000</td>\n",
       "      <td>6.300000</td>\n",
       "      <td>7.800000</td>\n",
       "      <td>5.400000</td>\n",
       "      <td>143.000000</td>\n",
       "    </tr>\n",
       "    <tr>\n",
       "      <th>['\\n3 (Yellow)\\n']</th>\n",
       "      <td>31444.000000</td>\n",
       "      <td>12875.000000</td>\n",
       "      <td>1.000000</td>\n",
       "      <td>112.000000</td>\n",
       "      <td>NaN</td>\n",
       "      <td>1498.000000</td>\n",
       "      <td>0.500000</td>\n",
       "      <td>4.500000</td>\n",
       "      <td>5.000000</td>\n",
       "      <td>NaN</td>\n",
       "      <td>5.300000</td>\n",
       "      <td>6.200000</td>\n",
       "      <td>4.700000</td>\n",
       "      <td>139.000000</td>\n",
       "    </tr>\n",
       "    <tr>\n",
       "      <th>['\\n4 (Green)\\n']</th>\n",
       "      <td>18657.180411</td>\n",
       "      <td>28475.640256</td>\n",
       "      <td>1.115667</td>\n",
       "      <td>93.464376</td>\n",
       "      <td>35.293839</td>\n",
       "      <td>1418.523755</td>\n",
       "      <td>1.423360</td>\n",
       "      <td>4.498586</td>\n",
       "      <td>4.985945</td>\n",
       "      <td>1346.118272</td>\n",
       "      <td>5.279680</td>\n",
       "      <td>6.599934</td>\n",
       "      <td>4.517796</td>\n",
       "      <td>130.220072</td>\n",
       "    </tr>\n",
       "    <tr>\n",
       "      <th>['\\n5 (Blue)\\n']</th>\n",
       "      <td>14639.875000</td>\n",
       "      <td>33501.625000</td>\n",
       "      <td>1.000000</td>\n",
       "      <td>83.625000</td>\n",
       "      <td>NaN</td>\n",
       "      <td>1347.250000</td>\n",
       "      <td>1.500000</td>\n",
       "      <td>5.000000</td>\n",
       "      <td>4.875000</td>\n",
       "      <td>1215.000000</td>\n",
       "      <td>5.337500</td>\n",
       "      <td>6.750000</td>\n",
       "      <td>4.537500</td>\n",
       "      <td>123.750000</td>\n",
       "    </tr>\n",
       "    <tr>\n",
       "      <th>[[], [], []]</th>\n",
       "      <td>12591.400000</td>\n",
       "      <td>47300.100000</td>\n",
       "      <td>1.086957</td>\n",
       "      <td>76.400000</td>\n",
       "      <td>9.545455</td>\n",
       "      <td>993.692308</td>\n",
       "      <td>1.794872</td>\n",
       "      <td>4.694444</td>\n",
       "      <td>4.785714</td>\n",
       "      <td>1076.250000</td>\n",
       "      <td>NaN</td>\n",
       "      <td>NaN</td>\n",
       "      <td>NaN</td>\n",
       "      <td>NaN</td>\n",
       "    </tr>\n",
       "    <tr>\n",
       "      <th>nan</th>\n",
       "      <td>17726.975113</td>\n",
       "      <td>36108.742518</td>\n",
       "      <td>1.055482</td>\n",
       "      <td>86.959318</td>\n",
       "      <td>20.643704</td>\n",
       "      <td>1427.444947</td>\n",
       "      <td>1.590913</td>\n",
       "      <td>4.697029</td>\n",
       "      <td>4.940835</td>\n",
       "      <td>1352.511846</td>\n",
       "      <td>4.790013</td>\n",
       "      <td>5.768333</td>\n",
       "      <td>4.154879</td>\n",
       "      <td>122.089526</td>\n",
       "    </tr>\n",
       "  </tbody>\n",
       "</table>\n",
       "</div>"
      ],
      "text/plain": [
       "                               price            km  prev_owner          hp  \\\n",
       "Emission Label                                                               \n",
       "['\\n1 (No sticker)\\n']  21830.682415  19373.920904    1.077778   85.952756   \n",
       "['\\n2 (Red)\\n']         14900.000000     50.000000    1.000000   66.000000   \n",
       "['\\n3 (Yellow)\\n']      31444.000000  12875.000000    1.000000  112.000000   \n",
       "['\\n4 (Green)\\n']       18657.180411  28475.640256    1.115667   93.464376   \n",
       "['\\n5 (Blue)\\n']        14639.875000  33501.625000    1.000000   83.625000   \n",
       "[[], [], []]            12591.400000  47300.100000    1.086957   76.400000   \n",
       "nan                     17726.975113  36108.742518    1.055482   86.959318   \n",
       "\n",
       "                         Warranty  Displacement       age  nr_of_doors  \\\n",
       "Emission Label                                                           \n",
       "['\\n1 (No sticker)\\n']  25.333333   1397.010499  0.960000     4.846154   \n",
       "['\\n2 (Red)\\n']               NaN   1398.000000  0.000000     5.000000   \n",
       "['\\n3 (Yellow)\\n']            NaN   1498.000000  0.500000     4.500000   \n",
       "['\\n4 (Green)\\n']       35.293839   1418.523755  1.423360     4.498586   \n",
       "['\\n5 (Blue)\\n']              NaN   1347.250000  1.500000     5.000000   \n",
       "[[], [], []]             9.545455    993.692308  1.794872     4.694444   \n",
       "nan                     20.643704   1427.444947  1.590913     4.697029   \n",
       "\n",
       "                        nr_of_seats       weight  cons_comb  cons_city  \\\n",
       "Emission Label                                                           \n",
       "['\\n1 (No sticker)\\n']     4.904632  1327.346939   4.677660   5.440108   \n",
       "['\\n2 (Red)\\n']            5.000000  1248.000000   6.300000   7.800000   \n",
       "['\\n3 (Yellow)\\n']         5.000000          NaN   5.300000   6.200000   \n",
       "['\\n4 (Green)\\n']          4.985945  1346.118272   5.279680   6.599934   \n",
       "['\\n5 (Blue)\\n']           4.875000  1215.000000   5.337500   6.750000   \n",
       "[[], [], []]               4.785714  1076.250000        NaN        NaN   \n",
       "nan                        4.940835  1352.511846   4.790013   5.768333   \n",
       "\n",
       "                        cons_country  CO2_Emission  \n",
       "Emission Label                                      \n",
       "['\\n1 (No sticker)\\n']      4.217344    115.102426  \n",
       "['\\n2 (Red)\\n']             5.400000    143.000000  \n",
       "['\\n3 (Yellow)\\n']          4.700000    139.000000  \n",
       "['\\n4 (Green)\\n']           4.517796    130.220072  \n",
       "['\\n5 (Blue)\\n']            4.537500    123.750000  \n",
       "[[], [], []]                     NaN           NaN  \n",
       "nan                         4.154879    122.089526  "
      ]
     },
     "execution_count": 363,
     "metadata": {},
     "output_type": "execute_result"
    }
   ],
   "source": [
    "df.groupby(df[\"Emission Label\"].astype(str)).mean()"
   ]
  },
  {
   "cell_type": "code",
   "execution_count": 364,
   "metadata": {},
   "outputs": [],
   "source": [
    "df.drop(\"Emission Label\",axis=1,inplace=True)"
   ]
  },
  {
   "cell_type": "code",
   "execution_count": 365,
   "metadata": {},
   "outputs": [
    {
     "data": {
      "text/plain": [
       "Index(['make_model', 'body_type', 'price', 'vat', 'km', 'prev_owner', 'hp',\n",
       "       'Type', 'Warranty', 'Body Color', 'Paint Type', 'Displacement',\n",
       "       'Cylinders', 'Drive chain', 'Fuel', 'Comfort_Convenience',\n",
       "       'Entertainment_Media', 'Extras', 'Safety_Security', 'Gears',\n",
       "       'Country version', 'age', 'Inspection_new', 'Upholstery_Type',\n",
       "       'Upholstery_color', 'nr_of_doors', 'nr_of_seats', 'Gearing_Type',\n",
       "       'weight', 'cons_comb', 'cons_city', 'cons_country', 'CO2_Emission',\n",
       "       'Emission_Class'],\n",
       "      dtype='object')"
      ]
     },
     "execution_count": 365,
     "metadata": {},
     "output_type": "execute_result"
    }
   ],
   "source": [
    "df.columns"
   ]
  },
  {
   "cell_type": "markdown",
   "metadata": {},
   "source": [
    "## 41- Comfort_Convenience"
   ]
  },
  {
   "cell_type": "code",
   "execution_count": 366,
   "metadata": {},
   "outputs": [
    {
     "data": {
      "text/plain": [
       "nan                                                                                                                                                                                                                                                                                                                                                                                                                                                                                                                                                                        920\n",
       "['Air conditioning', 'Electrical side mirrors', 'Hill Holder', 'Power windows']                                                                                                                                                                                                                                                                                                                                                                                                                                                                                            216\n",
       "['Air conditioning', 'Electrical side mirrors', 'Power windows']                                                                                                                                                                                                                                                                                                                                                                                                                                                                                                           134\n",
       "['Air conditioning', 'Power windows']                                                                                                                                                                                                                                                                                                                                                                                                                                                                                                                                      130\n",
       "['Air conditioning', 'Armrest', 'Automatic climate control', 'Cruise control', 'Electrical side mirrors', 'Leather steering wheel', 'Light sensor', 'Lumbar support', 'Multi-function steering wheel', 'Navigation system', 'Park Distance Control', 'Parking assist system sensors front', 'Parking assist system sensors rear', 'Power windows', 'Rain sensor', 'Seat heating', 'Start-stop system']                                                                                                                                                                     105\n",
       "                                                                                                                                                                                                                                                                                                                                                                                                                                                                                                                                                                          ... \n",
       "['Air conditioning', 'Cruise control', 'Electrical side mirrors', 'Hill Holder', 'Leather steering wheel', 'Light sensor', 'Multi-function steering wheel', 'Navigation system', 'Park Distance Control', 'Parking assist system sensors rear', 'Power windows', 'Rain sensor', 'Split rear seats', 'Start-stop system', 'Tinted windows']                                                                                                                                                                                                                                   1\n",
       "['Air conditioning', 'Armrest', 'Automatic climate control', 'Cruise control', 'Electrical side mirrors', 'Heated steering wheel', 'Hill Holder', 'Leather steering wheel', 'Light sensor', 'Lumbar support', 'Multi-function steering wheel', 'Navigation system', 'Park Distance Control', 'Parking assist system camera', 'Parking assist system sensors front', 'Parking assist system sensors rear', 'Power windows', 'Rain sensor', 'Seat heating', 'Sunroof']                                                                                                         1\n",
       "['Air conditioning', 'Armrest', 'Cruise control', 'Electrical side mirrors', 'Heated steering wheel', 'Hill Holder', 'Leather steering wheel', 'Light sensor', 'Multi-function steering wheel', 'Park Distance Control', 'Parking assist system camera', 'Parking assist system sensors front', 'Parking assist system sensors rear', 'Power windows', 'Rain sensor', 'Seat heating', 'Split rear seats', 'Start-stop system', 'Tinted windows']                                                                                                                             1\n",
       "['Air conditioning', 'Automatic climate control', 'Cruise control', 'Electrical side mirrors', 'Leather steering wheel', 'Light sensor', 'Multi-function steering wheel', 'Park Distance Control', 'Parking assist system sensors front', 'Parking assist system sensors rear', 'Power windows', 'Rain sensor', 'Seat heating']                                                                                                                                                                                                                                              1\n",
       "['Air conditioning', 'Automatic climate control', 'Cruise control', 'Electrically heated windshield', 'Electrical side mirrors', 'Electric tailgate', 'Heads-up display', 'Heated steering wheel', 'Hill Holder', 'Keyless central door lock', 'Leather steering wheel', 'Light sensor', 'Lumbar support', 'Navigation system', 'Park Distance Control', 'Parking assist system camera', 'Parking assist system self-steering', 'Parking assist system sensors front', 'Parking assist system sensors rear', 'Power windows', 'Rain sensor', 'Seat heating', 'Sunroof']      1\n",
       "Name: Comfort_Convenience, Length: 6199, dtype: int64"
      ]
     },
     "execution_count": 366,
     "metadata": {},
     "output_type": "execute_result"
    }
   ],
   "source": [
    "df[\"Comfort_Convenience\"].astype(str).value_counts(dropna=False)"
   ]
  },
  {
   "cell_type": "code",
   "execution_count": 367,
   "metadata": {},
   "outputs": [],
   "source": [
    "df[\"Comfort_Convenience\"] = [','.join(item) if type(item) == list else item for item in  df['Comfort_Convenience']]"
   ]
  },
  {
   "cell_type": "code",
   "execution_count": 368,
   "metadata": {},
   "outputs": [
    {
     "data": {
      "text/plain": [
       "nan                                                                                                                                                                                                                                                                                                                                                                                                                                                                                                  920\n",
       "Air conditioning,Electrical side mirrors,Hill Holder,Power windows                                                                                                                                                                                                                                                                                                                                                                                                                                   216\n",
       "Air conditioning,Electrical side mirrors,Power windows                                                                                                                                                                                                                                                                                                                                                                                                                                               134\n",
       "Air conditioning,Power windows                                                                                                                                                                                                                                                                                                                                                                                                                                                                       130\n",
       "Air conditioning,Armrest,Automatic climate control,Cruise control,Electrical side mirrors,Leather steering wheel,Light sensor,Lumbar support,Multi-function steering wheel,Navigation system,Park Distance Control,Parking assist system sensors front,Parking assist system sensors rear,Power windows,Rain sensor,Seat heating,Start-stop system                                                                                                                                                   105\n",
       "                                                                                                                                                                                                                                                                                                                                                                                                                                                                                                    ... \n",
       "Air conditioning,Cruise control,Electrical side mirrors,Hill Holder,Leather steering wheel,Light sensor,Multi-function steering wheel,Navigation system,Park Distance Control,Parking assist system sensors rear,Power windows,Rain sensor,Split rear seats,Start-stop system,Tinted windows                                                                                                                                                                                                           1\n",
       "Air conditioning,Armrest,Automatic climate control,Cruise control,Electrical side mirrors,Heated steering wheel,Hill Holder,Leather steering wheel,Light sensor,Lumbar support,Multi-function steering wheel,Navigation system,Park Distance Control,Parking assist system camera,Parking assist system sensors front,Parking assist system sensors rear,Power windows,Rain sensor,Seat heating,Sunroof                                                                                                1\n",
       "Air conditioning,Armrest,Cruise control,Electrical side mirrors,Heated steering wheel,Hill Holder,Leather steering wheel,Light sensor,Multi-function steering wheel,Park Distance Control,Parking assist system camera,Parking assist system sensors front,Parking assist system sensors rear,Power windows,Rain sensor,Seat heating,Split rear seats,Start-stop system,Tinted windows                                                                                                                 1\n",
       "Air conditioning,Automatic climate control,Cruise control,Electrical side mirrors,Leather steering wheel,Light sensor,Multi-function steering wheel,Park Distance Control,Parking assist system sensors front,Parking assist system sensors rear,Power windows,Rain sensor,Seat heating                                                                                                                                                                                                                1\n",
       "Air conditioning,Automatic climate control,Cruise control,Electrically heated windshield,Electrical side mirrors,Electric tailgate,Heads-up display,Heated steering wheel,Hill Holder,Keyless central door lock,Leather steering wheel,Light sensor,Lumbar support,Navigation system,Park Distance Control,Parking assist system camera,Parking assist system self-steering,Parking assist system sensors front,Parking assist system sensors rear,Power windows,Rain sensor,Seat heating,Sunroof      1\n",
       "Name: Comfort_Convenience, Length: 6199, dtype: int64"
      ]
     },
     "execution_count": 368,
     "metadata": {},
     "output_type": "execute_result"
    }
   ],
   "source": [
    "df[\"Comfort_Convenience\"].astype(str).value_counts(dropna=False)"
   ]
  },
  {
   "cell_type": "markdown",
   "metadata": {},
   "source": [
    "## 42- Entertainment_Media"
   ]
  },
  {
   "cell_type": "code",
   "execution_count": 369,
   "metadata": {},
   "outputs": [
    {
     "data": {
      "text/plain": [
       "nan                                                                                                                             1374\n",
       "['Bluetooth', 'Hands-free equipment', 'On-board computer', 'Radio', 'USB']                                                      1282\n",
       "['Bluetooth', 'Hands-free equipment', 'MP3', 'On-board computer', 'Radio', 'USB']                                                982\n",
       "['Bluetooth', 'CD player', 'Hands-free equipment', 'MP3', 'On-board computer', 'Radio', 'USB']                                   783\n",
       "['On-board computer', 'Radio']                                                                                                   487\n",
       "                                                                                                                                ... \n",
       "['Bluetooth', 'CD player', 'Digital radio', 'Hands-free equipment', 'Radio']                                                       1\n",
       "['CD player', 'Hands-free equipment', 'MP3', 'Radio', 'USB']                                                                       1\n",
       "['MP3', 'Radio', 'Sound system', 'USB']                                                                                            1\n",
       "['Bluetooth', 'MP3', 'On-board computer', 'Radio', 'Television', 'USB']                                                            1\n",
       "['Bluetooth', 'CD player', 'Hands-free equipment', 'MP3', 'On-board computer', 'Radio', 'Sound system', 'Television', 'USB']       1\n",
       "Name: Entertainment_Media, Length: 347, dtype: int64"
      ]
     },
     "execution_count": 369,
     "metadata": {},
     "output_type": "execute_result"
    }
   ],
   "source": [
    "df[\"Entertainment_Media\"].astype('str').value_counts(dropna=False)"
   ]
  },
  {
   "cell_type": "code",
   "execution_count": 370,
   "metadata": {},
   "outputs": [
    {
     "data": {
      "text/plain": [
       "346"
      ]
     },
     "execution_count": 370,
     "metadata": {},
     "output_type": "execute_result"
    }
   ],
   "source": [
    "df[\"Entertainment_Media\"].str.join(\"\").nunique()"
   ]
  },
  {
   "cell_type": "code",
   "execution_count": 371,
   "metadata": {},
   "outputs": [],
   "source": [
    "df[\"Entertainment_Media\"] = [\",\".join(item) if type(item) == list else item for item in df[\"Entertainment_Media\"]]"
   ]
  },
  {
   "cell_type": "code",
   "execution_count": 372,
   "metadata": {},
   "outputs": [
    {
     "data": {
      "text/plain": [
       "'Bluetooth,Hands-free equipment,On-board computer,Radio'"
      ]
     },
     "execution_count": 372,
     "metadata": {},
     "output_type": "execute_result"
    }
   ],
   "source": [
    "df[\"Entertainment_Media\"][0]"
   ]
  },
  {
   "cell_type": "markdown",
   "metadata": {},
   "source": [
    "## 43- extras "
   ]
  },
  {
   "cell_type": "code",
   "execution_count": 373,
   "metadata": {},
   "outputs": [
    {
     "data": {
      "text/plain": [
       "Alloy wheels                                                                                         3245\n",
       "NaN                                                                                                  2962\n",
       "Alloy wheelsTouch screen                                                                              697\n",
       "Alloy wheelsVoice Control                                                                             577\n",
       "Alloy wheelsTouch screenVoice Control                                                                 541\n",
       "                                                                                                     ... \n",
       "Alloy wheelsCatalytic ConverterShift paddlesSport packageSport seatsSport suspensionVoice Control       1\n",
       "Alloy wheelsCatalytic ConverterRoof rackSport packageSport seatsTrailer hitch                           1\n",
       "Alloy wheelsCatalytic ConverterSki bagSport packageVoice Control                                        1\n",
       "Catalytic ConverterRoof rackSport seatsSport suspension                                                 1\n",
       "Alloy wheelsShift paddlesSki bagSport seatsSport suspensionTouch screenVoice Control                    1\n",
       "Name: Extras, Length: 660, dtype: int64"
      ]
     },
     "execution_count": 373,
     "metadata": {},
     "output_type": "execute_result"
    }
   ],
   "source": [
    "df[\"Extras\"].str.join('').value_counts(dropna=False)"
   ]
  },
  {
   "cell_type": "code",
   "execution_count": 374,
   "metadata": {},
   "outputs": [],
   "source": [
    "df[\"Extras\"] = [\",\".join(item) if type(item) == list else item for item in df[\"Extras\"]]"
   ]
  },
  {
   "cell_type": "code",
   "execution_count": 375,
   "metadata": {},
   "outputs": [
    {
     "data": {
      "text/plain": [
       "Alloy wheels                                                                                               3245\n",
       "NaN                                                                                                        2962\n",
       "Alloy wheels,Touch screen                                                                                   697\n",
       "Alloy wheels,Voice Control                                                                                  577\n",
       "Alloy wheels,Touch screen,Voice Control                                                                     541\n",
       "                                                                                                           ... \n",
       "Alloy wheels,Catalytic Converter,Shift paddles,Sport package,Sport seats,Sport suspension,Voice Control       1\n",
       "Alloy wheels,Catalytic Converter,Roof rack,Sport package,Sport seats,Trailer hitch                            1\n",
       "Alloy wheels,Catalytic Converter,Ski bag,Sport package,Voice Control                                          1\n",
       "Catalytic Converter,Roof rack,Sport seats,Sport suspension                                                    1\n",
       "Alloy wheels,Shift paddles,Ski bag,Sport seats,Sport suspension,Touch screen,Voice Control                    1\n",
       "Name: Extras, Length: 660, dtype: int64"
      ]
     },
     "execution_count": 375,
     "metadata": {},
     "output_type": "execute_result"
    }
   ],
   "source": [
    "df[\"Extras\"].str.join('').value_counts(dropna=False)"
   ]
  },
  {
   "cell_type": "markdown",
   "metadata": {},
   "source": [
    "## 44- safety security"
   ]
  },
  {
   "cell_type": "code",
   "execution_count": 376,
   "metadata": {},
   "outputs": [
    {
     "data": {
      "text/plain": [
       "NaN                                                                                                                                                                                                                                                                                                                                              982\n",
       "ABSCentral door lockDaytime running lightsDriver-side airbagElectronic stability controlFog lightsImmobilizerIsofixPassenger-side airbagPower steeringSide airbagTire pressure monitoring systemTraction control                                                                                                                                 538\n",
       "ABSCentral door lockDaytime running lightsDriver-side airbagElectronic stability controlImmobilizerIsofixPassenger-side airbagPower steeringSide airbagTire pressure monitoring systemTraction control                                                                                                                                           480\n",
       "ABSCentral door lockDaytime running lightsDriver-side airbagElectronic stability controlImmobilizerIsofixPassenger-side airbagPower steeringSide airbagTire pressure monitoring systemTraction controlXenon headlights                                                                                                                           275\n",
       "ABSCentral door lockDaytime running lightsDriver-side airbagElectronic stability controlFog lightsImmobilizerIsofixLED Daytime Running LightsPassenger-side airbagPower steeringSide airbagTire pressure monitoring systemTraction control                                                                                                       272\n",
       "                                                                                                                                                                                                                                                                                                                                                ... \n",
       "ABSCentral door lockElectronic stability controlImmobilizerIsofixPassenger-side airbagPower steeringSide airbag                                                                                                                                                                                                                                    1\n",
       "ABSAdaptive Cruise ControlCentral door lockDaytime running lightsDriver-side airbagElectronic stability controlEmergency brake assistantImmobilizerIsofixPassenger-side airbagPower steeringSide airbagTire pressure monitoring systemTraction control                                                                                             1\n",
       "ABSAdaptive Cruise ControlAlarm systemCentral door lockDriver-side airbagElectronic stability controlFog lightsImmobilizerIsofixLane departure warning systemLED Daytime Running LightsPassenger-side airbagPower steeringSide airbagTire pressure monitoring systemTraction controlXenon headlights                                               1\n",
       "ABSAdaptive Cruise ControlCentral door lockDaytime running lightsDriver-side airbagElectronic stability controlFog lightsImmobilizerIsofixPower steeringTire pressure monitoring systemTraction control                                                                                                                                            1\n",
       "ABSAdaptive Cruise ControlCentral door lockDaytime running lightsDriver-side airbagElectronic stability controlEmergency brake assistantFog lightsImmobilizerIsofixLane departure warning systemLED Daytime Running LightsLED HeadlightsPassenger-side airbagPower steeringSide airbagTire pressure monitoring systemTraffic sign recognition      1\n",
       "Name: Safety_Security, Length: 4444, dtype: int64"
      ]
     },
     "execution_count": 376,
     "metadata": {},
     "output_type": "execute_result"
    }
   ],
   "source": [
    "df[\"Safety_Security\"].str.join('').value_counts(dropna=False)"
   ]
  },
  {
   "cell_type": "code",
   "execution_count": 377,
   "metadata": {},
   "outputs": [],
   "source": [
    "df.drop(\"Safety_Security\",axis=1,inplace=True)"
   ]
  },
  {
   "cell_type": "code",
   "execution_count": 378,
   "metadata": {},
   "outputs": [
    {
     "data": {
      "text/plain": [
       "Index(['make_model', 'body_type', 'price', 'vat', 'km', 'prev_owner', 'hp',\n",
       "       'Type', 'Warranty', 'Body Color', 'Paint Type', 'Displacement',\n",
       "       'Cylinders', 'Drive chain', 'Fuel', 'Comfort_Convenience',\n",
       "       'Entertainment_Media', 'Extras', 'Gears', 'Country version', 'age',\n",
       "       'Inspection_new', 'Upholstery_Type', 'Upholstery_color', 'nr_of_doors',\n",
       "       'nr_of_seats', 'Gearing_Type', 'weight', 'cons_comb', 'cons_city',\n",
       "       'cons_country', 'CO2_Emission', 'Emission_Class'],\n",
       "      dtype='object')"
      ]
     },
     "execution_count": 378,
     "metadata": {},
     "output_type": "execute_result"
    }
   ],
   "source": [
    "df.columns"
   ]
  },
  {
   "cell_type": "markdown",
   "metadata": {},
   "source": [
    "## 47- Gears"
   ]
  },
  {
   "cell_type": "code",
   "execution_count": 379,
   "metadata": {},
   "outputs": [
    {
     "data": {
      "text/plain": [
       "['\\n6\\n']     5822\n",
       "nan           4712\n",
       "['\\n5\\n']     3239\n",
       "['\\n7\\n']     1908\n",
       "['\\n8\\n']      224\n",
       "['\\n9\\n']        6\n",
       "['\\n1\\n']        2\n",
       "['\\n3\\n']        2\n",
       "['\\n4\\n']        2\n",
       "['\\n2\\n']        1\n",
       "['\\n50\\n']       1\n",
       "Name: Gears, dtype: int64"
      ]
     },
     "execution_count": 379,
     "metadata": {},
     "output_type": "execute_result"
    }
   ],
   "source": [
    "df[\"Gears\"].astype('str').value_counts(dropna=False)"
   ]
  },
  {
   "cell_type": "code",
   "execution_count": 380,
   "metadata": {},
   "outputs": [],
   "source": [
    "df[\"Gears\"] = df.Gears.str[0].str.strip('\\n')"
   ]
  },
  {
   "cell_type": "code",
   "execution_count": 381,
   "metadata": {},
   "outputs": [
    {
     "data": {
      "text/plain": [
       "6      5822\n",
       "NaN    4712\n",
       "5      3239\n",
       "7      1908\n",
       "8       224\n",
       "9         6\n",
       "1         2\n",
       "3         2\n",
       "4         2\n",
       "2         1\n",
       "50        1\n",
       "Name: Gears, dtype: int64"
      ]
     },
     "execution_count": 381,
     "metadata": {},
     "output_type": "execute_result"
    }
   ],
   "source": [
    "df[\"Gears\"].value_counts(dropna=False)"
   ]
  },
  {
   "cell_type": "markdown",
   "metadata": {},
   "source": [
    "## 48- country version"
   ]
  },
  {
   "cell_type": "code",
   "execution_count": 382,
   "metadata": {},
   "outputs": [
    {
     "data": {
      "text/plain": [
       "nan                       8333\n",
       "['\\nGermany\\n']           4502\n",
       "['\\nItaly\\n']             1038\n",
       "['\\nEuropean Union\\n']     507\n",
       "['\\nNetherlands\\n']        464\n",
       "['\\nSpain\\n']              325\n",
       "['\\nBelgium\\n']            314\n",
       "['\\nAustria\\n']            208\n",
       "['\\nCzech Republic\\n']      52\n",
       "['\\nPoland\\n']              49\n",
       "['\\nFrance\\n']              38\n",
       "['\\nDenmark\\n']             33\n",
       "['\\nHungary\\n']             28\n",
       "['\\nJapan\\n']                8\n",
       "['\\nSlovakia\\n']             4\n",
       "['\\nCroatia\\n']              4\n",
       "['\\nSweden\\n']               3\n",
       "['\\nRomania\\n']              2\n",
       "['\\nBulgaria\\n']             2\n",
       "['\\nLuxembourg\\n']           1\n",
       "['\\nSwitzerland\\n']          1\n",
       "['\\nSlovenia\\n']             1\n",
       "['\\nEgypt\\n']                1\n",
       "['\\nSerbia\\n']               1\n",
       "Name: Country version, dtype: int64"
      ]
     },
     "execution_count": 382,
     "metadata": {},
     "output_type": "execute_result"
    }
   ],
   "source": [
    "df[\"Country version\"].astype('str').value_counts(dropna=False)"
   ]
  },
  {
   "cell_type": "code",
   "execution_count": 383,
   "metadata": {},
   "outputs": [],
   "source": [
    "df[\"Country version\"] = [\",\".join(x) if type(x) == list else x for x in df[\"Country version\"]]\n",
    "df[\"Country version\"] = df[\"Country version\"].str.strip('\\n')"
   ]
  },
  {
   "cell_type": "code",
   "execution_count": 384,
   "metadata": {},
   "outputs": [
    {
     "data": {
      "text/html": [
       "<div>\n",
       "<style scoped>\n",
       "    .dataframe tbody tr th:only-of-type {\n",
       "        vertical-align: middle;\n",
       "    }\n",
       "\n",
       "    .dataframe tbody tr th {\n",
       "        vertical-align: top;\n",
       "    }\n",
       "\n",
       "    .dataframe thead th {\n",
       "        text-align: right;\n",
       "    }\n",
       "</style>\n",
       "<table border=\"1\" class=\"dataframe\">\n",
       "  <thead>\n",
       "    <tr style=\"text-align: right;\">\n",
       "      <th></th>\n",
       "      <th></th>\n",
       "      <th>price</th>\n",
       "      <th>km</th>\n",
       "      <th>prev_owner</th>\n",
       "      <th>hp</th>\n",
       "      <th>Warranty</th>\n",
       "      <th>Displacement</th>\n",
       "      <th>age</th>\n",
       "      <th>nr_of_doors</th>\n",
       "      <th>nr_of_seats</th>\n",
       "      <th>weight</th>\n",
       "      <th>cons_comb</th>\n",
       "      <th>cons_city</th>\n",
       "      <th>cons_country</th>\n",
       "      <th>CO2_Emission</th>\n",
       "    </tr>\n",
       "    <tr>\n",
       "      <th>make_model</th>\n",
       "      <th>Country version</th>\n",
       "      <th></th>\n",
       "      <th></th>\n",
       "      <th></th>\n",
       "      <th></th>\n",
       "      <th></th>\n",
       "      <th></th>\n",
       "      <th></th>\n",
       "      <th></th>\n",
       "      <th></th>\n",
       "      <th></th>\n",
       "      <th></th>\n",
       "      <th></th>\n",
       "      <th></th>\n",
       "      <th></th>\n",
       "    </tr>\n",
       "  </thead>\n",
       "  <tbody>\n",
       "    <tr>\n",
       "      <th rowspan=\"14\" valign=\"top\">Audi A1</th>\n",
       "      <th>Luxembourg</th>\n",
       "      <td>14200.000000</td>\n",
       "      <td>66900.000000</td>\n",
       "      <td>1.000000</td>\n",
       "      <td>66.000000</td>\n",
       "      <td>6.000000</td>\n",
       "      <td>1422.000000</td>\n",
       "      <td>3.000000</td>\n",
       "      <td>5.000000</td>\n",
       "      <td>4.000000</td>\n",
       "      <td>1120.000000</td>\n",
       "      <td>3.700000</td>\n",
       "      <td>4.200000</td>\n",
       "      <td>3.400000</td>\n",
       "      <td>97.000000</td>\n",
       "    </tr>\n",
       "    <tr>\n",
       "      <th>Switzerland</th>\n",
       "      <td>16999.000000</td>\n",
       "      <td>52800.000000</td>\n",
       "      <td>1.000000</td>\n",
       "      <td>110.000000</td>\n",
       "      <td>NaN</td>\n",
       "      <td>1395.000000</td>\n",
       "      <td>3.000000</td>\n",
       "      <td>5.000000</td>\n",
       "      <td>4.000000</td>\n",
       "      <td>1230.000000</td>\n",
       "      <td>4.700000</td>\n",
       "      <td>5.800000</td>\n",
       "      <td>4.100000</td>\n",
       "      <td>109.000000</td>\n",
       "    </tr>\n",
       "    <tr>\n",
       "      <th>Belgium</th>\n",
       "      <td>17267.895833</td>\n",
       "      <td>33894.644444</td>\n",
       "      <td>0.787234</td>\n",
       "      <td>69.437500</td>\n",
       "      <td>19.500000</td>\n",
       "      <td>1164.723404</td>\n",
       "      <td>2.052632</td>\n",
       "      <td>4.872340</td>\n",
       "      <td>4.391304</td>\n",
       "      <td>1186.555556</td>\n",
       "      <td>8.397674</td>\n",
       "      <td>10.275610</td>\n",
       "      <td>7.504878</td>\n",
       "      <td>99.767442</td>\n",
       "    </tr>\n",
       "    <tr>\n",
       "      <th>Spain</th>\n",
       "      <td>17446.730159</td>\n",
       "      <td>20694.327869</td>\n",
       "      <td>0.902439</td>\n",
       "      <td>76.365079</td>\n",
       "      <td>26.440678</td>\n",
       "      <td>1279.936508</td>\n",
       "      <td>1.389831</td>\n",
       "      <td>4.841270</td>\n",
       "      <td>4.920635</td>\n",
       "      <td>1343.629032</td>\n",
       "      <td>4.074194</td>\n",
       "      <td>4.725806</td>\n",
       "      <td>3.475806</td>\n",
       "      <td>100.048387</td>\n",
       "    </tr>\n",
       "    <tr>\n",
       "      <th>Slovakia</th>\n",
       "      <td>17600.000000</td>\n",
       "      <td>NaN</td>\n",
       "      <td>NaN</td>\n",
       "      <td>70.000000</td>\n",
       "      <td>NaN</td>\n",
       "      <td>999.000000</td>\n",
       "      <td>NaN</td>\n",
       "      <td>5.000000</td>\n",
       "      <td>5.000000</td>\n",
       "      <td>1165.000000</td>\n",
       "      <td>4.700000</td>\n",
       "      <td>5.900000</td>\n",
       "      <td>4.000000</td>\n",
       "      <td>106.000000</td>\n",
       "    </tr>\n",
       "    <tr>\n",
       "      <th>Germany</th>\n",
       "      <td>18911.552803</td>\n",
       "      <td>26726.139062</td>\n",
       "      <td>1.141447</td>\n",
       "      <td>76.492167</td>\n",
       "      <td>21.074074</td>\n",
       "      <td>1188.481675</td>\n",
       "      <td>1.731079</td>\n",
       "      <td>4.240741</td>\n",
       "      <td>4.633941</td>\n",
       "      <td>1183.136929</td>\n",
       "      <td>4.430709</td>\n",
       "      <td>5.361367</td>\n",
       "      <td>3.884383</td>\n",
       "      <td>105.186016</td>\n",
       "    </tr>\n",
       "    <tr>\n",
       "      <th>France</th>\n",
       "      <td>18974.000000</td>\n",
       "      <td>23950.000000</td>\n",
       "      <td>1.000000</td>\n",
       "      <td>68.400000</td>\n",
       "      <td>22.500000</td>\n",
       "      <td>1104.750000</td>\n",
       "      <td>1.800000</td>\n",
       "      <td>5.000000</td>\n",
       "      <td>4.250000</td>\n",
       "      <td>1103.750000</td>\n",
       "      <td>4.275000</td>\n",
       "      <td>5.033333</td>\n",
       "      <td>3.733333</td>\n",
       "      <td>101.750000</td>\n",
       "    </tr>\n",
       "    <tr>\n",
       "      <th>Austria</th>\n",
       "      <td>19424.210526</td>\n",
       "      <td>19150.842105</td>\n",
       "      <td>1.000000</td>\n",
       "      <td>74.263158</td>\n",
       "      <td>60.000000</td>\n",
       "      <td>1021.263158</td>\n",
       "      <td>0.684211</td>\n",
       "      <td>4.894737</td>\n",
       "      <td>4.631579</td>\n",
       "      <td>1144.789474</td>\n",
       "      <td>4.563158</td>\n",
       "      <td>5.675000</td>\n",
       "      <td>3.956250</td>\n",
       "      <td>104.368421</td>\n",
       "    </tr>\n",
       "    <tr>\n",
       "      <th>Netherlands</th>\n",
       "      <td>19573.544118</td>\n",
       "      <td>35465.000000</td>\n",
       "      <td>1.000000</td>\n",
       "      <td>71.529412</td>\n",
       "      <td>6.000000</td>\n",
       "      <td>1087.500000</td>\n",
       "      <td>1.764706</td>\n",
       "      <td>4.882353</td>\n",
       "      <td>4.333333</td>\n",
       "      <td>1072.941176</td>\n",
       "      <td>4.283077</td>\n",
       "      <td>5.183077</td>\n",
       "      <td>3.743077</td>\n",
       "      <td>101.907407</td>\n",
       "    </tr>\n",
       "    <tr>\n",
       "      <th>Poland</th>\n",
       "      <td>19630.000000</td>\n",
       "      <td>NaN</td>\n",
       "      <td>NaN</td>\n",
       "      <td>85.000000</td>\n",
       "      <td>NaN</td>\n",
       "      <td>999.000000</td>\n",
       "      <td>NaN</td>\n",
       "      <td>4.000000</td>\n",
       "      <td>4.000000</td>\n",
       "      <td>NaN</td>\n",
       "      <td>4.750000</td>\n",
       "      <td>5.850000</td>\n",
       "      <td>4.100000</td>\n",
       "      <td>107.000000</td>\n",
       "    </tr>\n",
       "    <tr>\n",
       "      <th>Italy</th>\n",
       "      <td>19876.391026</td>\n",
       "      <td>21450.316547</td>\n",
       "      <td>0.837838</td>\n",
       "      <td>77.025641</td>\n",
       "      <td>21.111111</td>\n",
       "      <td>1233.556291</td>\n",
       "      <td>1.201493</td>\n",
       "      <td>4.767742</td>\n",
       "      <td>4.509804</td>\n",
       "      <td>1203.165289</td>\n",
       "      <td>4.254110</td>\n",
       "      <td>5.086301</td>\n",
       "      <td>3.754110</td>\n",
       "      <td>103.233577</td>\n",
       "    </tr>\n",
       "    <tr>\n",
       "      <th>European Union</th>\n",
       "      <td>19914.910448</td>\n",
       "      <td>2150.646154</td>\n",
       "      <td>0.833333</td>\n",
       "      <td>85.761194</td>\n",
       "      <td>NaN</td>\n",
       "      <td>1084.000000</td>\n",
       "      <td>0.769231</td>\n",
       "      <td>4.880597</td>\n",
       "      <td>4.969697</td>\n",
       "      <td>1189.215686</td>\n",
       "      <td>4.855224</td>\n",
       "      <td>5.968657</td>\n",
       "      <td>4.161194</td>\n",
       "      <td>111.179104</td>\n",
       "    </tr>\n",
       "    <tr>\n",
       "      <th>Denmark</th>\n",
       "      <td>22034.000000</td>\n",
       "      <td>1500.000000</td>\n",
       "      <td>1.000000</td>\n",
       "      <td>83.000000</td>\n",
       "      <td>NaN</td>\n",
       "      <td>999.000000</td>\n",
       "      <td>2.000000</td>\n",
       "      <td>4.000000</td>\n",
       "      <td>4.066667</td>\n",
       "      <td>NaN</td>\n",
       "      <td>4.746667</td>\n",
       "      <td>5.806667</td>\n",
       "      <td>4.133333</td>\n",
       "      <td>108.533333</td>\n",
       "    </tr>\n",
       "    <tr>\n",
       "      <th>Romania</th>\n",
       "      <td>26450.000000</td>\n",
       "      <td>50.000000</td>\n",
       "      <td>1.000000</td>\n",
       "      <td>85.000000</td>\n",
       "      <td>24.000000</td>\n",
       "      <td>999.000000</td>\n",
       "      <td>0.000000</td>\n",
       "      <td>5.000000</td>\n",
       "      <td>5.000000</td>\n",
       "      <td>NaN</td>\n",
       "      <td>4.900000</td>\n",
       "      <td>5.900000</td>\n",
       "      <td>4.300000</td>\n",
       "      <td>111.000000</td>\n",
       "    </tr>\n",
       "    <tr>\n",
       "      <th>Audi A2</th>\n",
       "      <th>Germany</th>\n",
       "      <td>28200.000000</td>\n",
       "      <td>26166.000000</td>\n",
       "      <td>1.000000</td>\n",
       "      <td>85.000000</td>\n",
       "      <td>NaN</td>\n",
       "      <td>1598.000000</td>\n",
       "      <td>1.000000</td>\n",
       "      <td>5.000000</td>\n",
       "      <td>5.000000</td>\n",
       "      <td>NaN</td>\n",
       "      <td>4.900000</td>\n",
       "      <td>5.600000</td>\n",
       "      <td>4.500000</td>\n",
       "      <td>NaN</td>\n",
       "    </tr>\n",
       "    <tr>\n",
       "      <th rowspan=\"14\" valign=\"top\">Audi A3</th>\n",
       "      <th>Sweden</th>\n",
       "      <td>19311.500000</td>\n",
       "      <td>21505.000000</td>\n",
       "      <td>1.500000</td>\n",
       "      <td>95.500000</td>\n",
       "      <td>12.000000</td>\n",
       "      <td>1347.500000</td>\n",
       "      <td>2.000000</td>\n",
       "      <td>4.500000</td>\n",
       "      <td>5.000000</td>\n",
       "      <td>NaN</td>\n",
       "      <td>5.000000</td>\n",
       "      <td>6.200000</td>\n",
       "      <td>4.300000</td>\n",
       "      <td>116.000000</td>\n",
       "    </tr>\n",
       "    <tr>\n",
       "      <th>Germany</th>\n",
       "      <td>19552.274406</td>\n",
       "      <td>52385.448864</td>\n",
       "      <td>1.051873</td>\n",
       "      <td>91.606860</td>\n",
       "      <td>14.315789</td>\n",
       "      <td>1493.158730</td>\n",
       "      <td>1.956647</td>\n",
       "      <td>4.367725</td>\n",
       "      <td>4.951351</td>\n",
       "      <td>1324.142857</td>\n",
       "      <td>4.415531</td>\n",
       "      <td>5.209809</td>\n",
       "      <td>3.958470</td>\n",
       "      <td>109.745902</td>\n",
       "    </tr>\n",
       "    <tr>\n",
       "      <th>Austria</th>\n",
       "      <td>19882.722222</td>\n",
       "      <td>43727.222222</td>\n",
       "      <td>0.944444</td>\n",
       "      <td>86.000000</td>\n",
       "      <td>45.600000</td>\n",
       "      <td>1479.888889</td>\n",
       "      <td>1.764706</td>\n",
       "      <td>4.888889</td>\n",
       "      <td>5.000000</td>\n",
       "      <td>1323.625000</td>\n",
       "      <td>4.125000</td>\n",
       "      <td>4.807143</td>\n",
       "      <td>3.707143</td>\n",
       "      <td>105.125000</td>\n",
       "    </tr>\n",
       "    <tr>\n",
       "      <th>Spain</th>\n",
       "      <td>19966.650000</td>\n",
       "      <td>37931.898305</td>\n",
       "      <td>0.871795</td>\n",
       "      <td>87.833333</td>\n",
       "      <td>20.708333</td>\n",
       "      <td>1605.172414</td>\n",
       "      <td>1.654545</td>\n",
       "      <td>4.733333</td>\n",
       "      <td>5.000000</td>\n",
       "      <td>1489.385965</td>\n",
       "      <td>4.125862</td>\n",
       "      <td>4.682759</td>\n",
       "      <td>3.768966</td>\n",
       "      <td>107.534483</td>\n",
       "    </tr>\n",
       "    <tr>\n",
       "      <th>Belgium</th>\n",
       "      <td>20209.848837</td>\n",
       "      <td>37137.848101</td>\n",
       "      <td>0.823529</td>\n",
       "      <td>86.174419</td>\n",
       "      <td>17.733333</td>\n",
       "      <td>1393.261905</td>\n",
       "      <td>1.816901</td>\n",
       "      <td>4.729412</td>\n",
       "      <td>5.000000</td>\n",
       "      <td>1390.376623</td>\n",
       "      <td>4.327778</td>\n",
       "      <td>4.875410</td>\n",
       "      <td>3.806557</td>\n",
       "      <td>106.361111</td>\n",
       "    </tr>\n",
       "    <tr>\n",
       "      <th>France</th>\n",
       "      <td>20530.666667</td>\n",
       "      <td>74320.000000</td>\n",
       "      <td>0.750000</td>\n",
       "      <td>92.666667</td>\n",
       "      <td>6.000000</td>\n",
       "      <td>1421.833333</td>\n",
       "      <td>2.666667</td>\n",
       "      <td>4.666667</td>\n",
       "      <td>5.000000</td>\n",
       "      <td>1261.250000</td>\n",
       "      <td>4.750000</td>\n",
       "      <td>5.350000</td>\n",
       "      <td>4.016667</td>\n",
       "      <td>114.166667</td>\n",
       "    </tr>\n",
       "    <tr>\n",
       "      <th>Slovenia</th>\n",
       "      <td>20985.000000</td>\n",
       "      <td>6021.000000</td>\n",
       "      <td>1.000000</td>\n",
       "      <td>85.000000</td>\n",
       "      <td>12.000000</td>\n",
       "      <td>999.000000</td>\n",
       "      <td>2.000000</td>\n",
       "      <td>5.000000</td>\n",
       "      <td>5.000000</td>\n",
       "      <td>1341.000000</td>\n",
       "      <td>4.600000</td>\n",
       "      <td>5.500000</td>\n",
       "      <td>4.100000</td>\n",
       "      <td>106.000000</td>\n",
       "    </tr>\n",
       "    <tr>\n",
       "      <th>Italy</th>\n",
       "      <td>21816.915014</td>\n",
       "      <td>35469.571848</td>\n",
       "      <td>0.935154</td>\n",
       "      <td>90.382436</td>\n",
       "      <td>20.333333</td>\n",
       "      <td>1581.192982</td>\n",
       "      <td>1.504478</td>\n",
       "      <td>4.891738</td>\n",
       "      <td>4.997151</td>\n",
       "      <td>1361.868852</td>\n",
       "      <td>4.223077</td>\n",
       "      <td>4.811607</td>\n",
       "      <td>3.839941</td>\n",
       "      <td>107.585075</td>\n",
       "    </tr>\n",
       "    <tr>\n",
       "      <th>Hungary</th>\n",
       "      <td>22250.000000</td>\n",
       "      <td>10.000000</td>\n",
       "      <td>NaN</td>\n",
       "      <td>93.333333</td>\n",
       "      <td>NaN</td>\n",
       "      <td>1165.333333</td>\n",
       "      <td>NaN</td>\n",
       "      <td>4.000000</td>\n",
       "      <td>5.000000</td>\n",
       "      <td>NaN</td>\n",
       "      <td>5.283333</td>\n",
       "      <td>6.283333</td>\n",
       "      <td>4.716667</td>\n",
       "      <td>120.500000</td>\n",
       "    </tr>\n",
       "    <tr>\n",
       "      <th>European Union</th>\n",
       "      <td>23785.374429</td>\n",
       "      <td>1421.075377</td>\n",
       "      <td>1.031250</td>\n",
       "      <td>95.849315</td>\n",
       "      <td>33.600000</td>\n",
       "      <td>1349.593607</td>\n",
       "      <td>0.315789</td>\n",
       "      <td>4.835616</td>\n",
       "      <td>5.000000</td>\n",
       "      <td>1329.430894</td>\n",
       "      <td>4.992523</td>\n",
       "      <td>5.971495</td>\n",
       "      <td>4.364953</td>\n",
       "      <td>117.121495</td>\n",
       "    </tr>\n",
       "    <tr>\n",
       "      <th>Denmark</th>\n",
       "      <td>24048.666667</td>\n",
       "      <td>NaN</td>\n",
       "      <td>NaN</td>\n",
       "      <td>98.333333</td>\n",
       "      <td>NaN</td>\n",
       "      <td>1265.133333</td>\n",
       "      <td>NaN</td>\n",
       "      <td>4.000000</td>\n",
       "      <td>5.000000</td>\n",
       "      <td>NaN</td>\n",
       "      <td>4.713333</td>\n",
       "      <td>5.820000</td>\n",
       "      <td>4.086667</td>\n",
       "      <td>108.266667</td>\n",
       "    </tr>\n",
       "    <tr>\n",
       "      <th>Czech Republic</th>\n",
       "      <td>24616.388889</td>\n",
       "      <td>1147.333333</td>\n",
       "      <td>1.000000</td>\n",
       "      <td>90.555556</td>\n",
       "      <td>24.000000</td>\n",
       "      <td>1109.888889</td>\n",
       "      <td>0.600000</td>\n",
       "      <td>4.888889</td>\n",
       "      <td>5.000000</td>\n",
       "      <td>1315.000000</td>\n",
       "      <td>5.116667</td>\n",
       "      <td>6.177778</td>\n",
       "      <td>4.516667</td>\n",
       "      <td>119.555556</td>\n",
       "    </tr>\n",
       "    <tr>\n",
       "      <th>Poland</th>\n",
       "      <td>26910.000000</td>\n",
       "      <td>5.000000</td>\n",
       "      <td>1.000000</td>\n",
       "      <td>110.000000</td>\n",
       "      <td>36.000000</td>\n",
       "      <td>1498.000000</td>\n",
       "      <td>0.000000</td>\n",
       "      <td>5.000000</td>\n",
       "      <td>5.000000</td>\n",
       "      <td>1325.000000</td>\n",
       "      <td>5.200000</td>\n",
       "      <td>6.525000</td>\n",
       "      <td>4.450000</td>\n",
       "      <td>118.750000</td>\n",
       "    </tr>\n",
       "    <tr>\n",
       "      <th>Netherlands</th>\n",
       "      <td>27879.210526</td>\n",
       "      <td>61419.921053</td>\n",
       "      <td>1.000000</td>\n",
       "      <td>103.631579</td>\n",
       "      <td>3.000000</td>\n",
       "      <td>1456.289474</td>\n",
       "      <td>1.815789</td>\n",
       "      <td>4.763158</td>\n",
       "      <td>5.000000</td>\n",
       "      <td>1242.972973</td>\n",
       "      <td>4.550000</td>\n",
       "      <td>5.519444</td>\n",
       "      <td>3.983333</td>\n",
       "      <td>110.961538</td>\n",
       "    </tr>\n",
       "    <tr>\n",
       "      <th rowspan=\"14\" valign=\"top\">Opel Astra</th>\n",
       "      <th>Spain</th>\n",
       "      <td>12462.723404</td>\n",
       "      <td>53853.840909</td>\n",
       "      <td>0.933333</td>\n",
       "      <td>85.425532</td>\n",
       "      <td>14.896552</td>\n",
       "      <td>1424.000000</td>\n",
       "      <td>1.818182</td>\n",
       "      <td>4.914894</td>\n",
       "      <td>5.000000</td>\n",
       "      <td>1323.891304</td>\n",
       "      <td>4.223404</td>\n",
       "      <td>4.991489</td>\n",
       "      <td>3.712766</td>\n",
       "      <td>110.404255</td>\n",
       "    </tr>\n",
       "    <tr>\n",
       "      <th>France</th>\n",
       "      <td>12540.000000</td>\n",
       "      <td>65213.000000</td>\n",
       "      <td>1.000000</td>\n",
       "      <td>81.000000</td>\n",
       "      <td>6.000000</td>\n",
       "      <td>1598.000000</td>\n",
       "      <td>2.000000</td>\n",
       "      <td>5.000000</td>\n",
       "      <td>5.000000</td>\n",
       "      <td>1378.000000</td>\n",
       "      <td>3.500000</td>\n",
       "      <td>4.000000</td>\n",
       "      <td>3.300000</td>\n",
       "      <td>93.000000</td>\n",
       "    </tr>\n",
       "    <tr>\n",
       "      <th>Italy</th>\n",
       "      <td>12662.309278</td>\n",
       "      <td>63568.537634</td>\n",
       "      <td>0.988095</td>\n",
       "      <td>88.402062</td>\n",
       "      <td>14.785714</td>\n",
       "      <td>1551.466667</td>\n",
       "      <td>1.979381</td>\n",
       "      <td>5.000000</td>\n",
       "      <td>4.989011</td>\n",
       "      <td>1431.918919</td>\n",
       "      <td>4.050588</td>\n",
       "      <td>4.796471</td>\n",
       "      <td>3.643023</td>\n",
       "      <td>107.670886</td>\n",
       "    </tr>\n",
       "    <tr>\n",
       "      <th>Romania</th>\n",
       "      <td>12978.000000</td>\n",
       "      <td>11268.000000</td>\n",
       "      <td>2.000000</td>\n",
       "      <td>74.000000</td>\n",
       "      <td>NaN</td>\n",
       "      <td>1398.000000</td>\n",
       "      <td>1.000000</td>\n",
       "      <td>5.000000</td>\n",
       "      <td>5.000000</td>\n",
       "      <td>NaN</td>\n",
       "      <td>NaN</td>\n",
       "      <td>NaN</td>\n",
       "      <td>NaN</td>\n",
       "      <td>NaN</td>\n",
       "    </tr>\n",
       "    <tr>\n",
       "      <th>Belgium</th>\n",
       "      <td>13632.628571</td>\n",
       "      <td>44484.114286</td>\n",
       "      <td>1.029412</td>\n",
       "      <td>85.771429</td>\n",
       "      <td>15.529412</td>\n",
       "      <td>1358.285714</td>\n",
       "      <td>1.857143</td>\n",
       "      <td>4.857143</td>\n",
       "      <td>5.000000</td>\n",
       "      <td>1366.259259</td>\n",
       "      <td>4.303125</td>\n",
       "      <td>5.225000</td>\n",
       "      <td>3.781250</td>\n",
       "      <td>104.375000</td>\n",
       "    </tr>\n",
       "    <tr>\n",
       "      <th>Austria</th>\n",
       "      <td>14680.733333</td>\n",
       "      <td>36950.933333</td>\n",
       "      <td>0.933333</td>\n",
       "      <td>86.466667</td>\n",
       "      <td>10.800000</td>\n",
       "      <td>1398.400000</td>\n",
       "      <td>1.571429</td>\n",
       "      <td>4.928571</td>\n",
       "      <td>5.000000</td>\n",
       "      <td>1372.000000</td>\n",
       "      <td>4.309091</td>\n",
       "      <td>5.236364</td>\n",
       "      <td>3.736364</td>\n",
       "      <td>107.000000</td>\n",
       "    </tr>\n",
       "    <tr>\n",
       "      <th>Croatia</th>\n",
       "      <td>16114.500000</td>\n",
       "      <td>15279.500000</td>\n",
       "      <td>1.000000</td>\n",
       "      <td>93.500000</td>\n",
       "      <td>60.000000</td>\n",
       "      <td>1199.000000</td>\n",
       "      <td>1.000000</td>\n",
       "      <td>4.500000</td>\n",
       "      <td>5.000000</td>\n",
       "      <td>NaN</td>\n",
       "      <td>4.850000</td>\n",
       "      <td>6.100000</td>\n",
       "      <td>4.100000</td>\n",
       "      <td>113.000000</td>\n",
       "    </tr>\n",
       "    <tr>\n",
       "      <th>Hungary</th>\n",
       "      <td>16544.000000</td>\n",
       "      <td>21655.571429</td>\n",
       "      <td>1.000000</td>\n",
       "      <td>101.714286</td>\n",
       "      <td>44.000000</td>\n",
       "      <td>1336.857143</td>\n",
       "      <td>1.285714</td>\n",
       "      <td>4.857143</td>\n",
       "      <td>5.000000</td>\n",
       "      <td>NaN</td>\n",
       "      <td>5.171429</td>\n",
       "      <td>6.542857</td>\n",
       "      <td>4.414286</td>\n",
       "      <td>122.000000</td>\n",
       "    </tr>\n",
       "    <tr>\n",
       "      <th>Poland</th>\n",
       "      <td>16782.700000</td>\n",
       "      <td>12880.444444</td>\n",
       "      <td>1.142857</td>\n",
       "      <td>105.100000</td>\n",
       "      <td>60.000000</td>\n",
       "      <td>1398.800000</td>\n",
       "      <td>0.555556</td>\n",
       "      <td>4.600000</td>\n",
       "      <td>5.000000</td>\n",
       "      <td>1273.000000</td>\n",
       "      <td>5.740000</td>\n",
       "      <td>7.180000</td>\n",
       "      <td>4.680000</td>\n",
       "      <td>132.600000</td>\n",
       "    </tr>\n",
       "    <tr>\n",
       "      <th>Egypt</th>\n",
       "      <td>16990.000000</td>\n",
       "      <td>5.000000</td>\n",
       "      <td>NaN</td>\n",
       "      <td>66.000000</td>\n",
       "      <td>NaN</td>\n",
       "      <td>999.000000</td>\n",
       "      <td>NaN</td>\n",
       "      <td>4.000000</td>\n",
       "      <td>5.000000</td>\n",
       "      <td>NaN</td>\n",
       "      <td>4.700000</td>\n",
       "      <td>5.400000</td>\n",
       "      <td>4.200000</td>\n",
       "      <td>107.000000</td>\n",
       "    </tr>\n",
       "    <tr>\n",
       "      <th>Germany</th>\n",
       "      <td>17285.547619</td>\n",
       "      <td>35390.735872</td>\n",
       "      <td>1.093706</td>\n",
       "      <td>98.060714</td>\n",
       "      <td>36.025316</td>\n",
       "      <td>1405.793517</td>\n",
       "      <td>1.360719</td>\n",
       "      <td>4.655131</td>\n",
       "      <td>4.998771</td>\n",
       "      <td>1369.828025</td>\n",
       "      <td>5.019745</td>\n",
       "      <td>6.331074</td>\n",
       "      <td>4.250512</td>\n",
       "      <td>165.897959</td>\n",
       "    </tr>\n",
       "    <tr>\n",
       "      <th>European Union</th>\n",
       "      <td>18699.461538</td>\n",
       "      <td>3522.603175</td>\n",
       "      <td>1.000000</td>\n",
       "      <td>96.738462</td>\n",
       "      <td>16.000000</td>\n",
       "      <td>1346.492308</td>\n",
       "      <td>0.500000</td>\n",
       "      <td>4.907692</td>\n",
       "      <td>5.000000</td>\n",
       "      <td>1341.290323</td>\n",
       "      <td>5.324615</td>\n",
       "      <td>6.638462</td>\n",
       "      <td>4.513846</td>\n",
       "      <td>125.476923</td>\n",
       "    </tr>\n",
       "    <tr>\n",
       "      <th>Czech Republic</th>\n",
       "      <td>21589.032258</td>\n",
       "      <td>NaN</td>\n",
       "      <td>NaN</td>\n",
       "      <td>103.000000</td>\n",
       "      <td>NaN</td>\n",
       "      <td>1398.612903</td>\n",
       "      <td>NaN</td>\n",
       "      <td>5.000000</td>\n",
       "      <td>5.000000</td>\n",
       "      <td>1346.322581</td>\n",
       "      <td>5.658065</td>\n",
       "      <td>7.132258</td>\n",
       "      <td>4.809677</td>\n",
       "      <td>133.935484</td>\n",
       "    </tr>\n",
       "    <tr>\n",
       "      <th>Netherlands</th>\n",
       "      <td>22042.935065</td>\n",
       "      <td>39447.678571</td>\n",
       "      <td>1.000000</td>\n",
       "      <td>100.328947</td>\n",
       "      <td>12.600000</td>\n",
       "      <td>1395.805195</td>\n",
       "      <td>1.309091</td>\n",
       "      <td>4.974026</td>\n",
       "      <td>5.000000</td>\n",
       "      <td>1270.819444</td>\n",
       "      <td>4.862857</td>\n",
       "      <td>6.130882</td>\n",
       "      <td>4.200000</td>\n",
       "      <td>114.450000</td>\n",
       "    </tr>\n",
       "    <tr>\n",
       "      <th rowspan=\"9\" valign=\"top\">Opel Corsa</th>\n",
       "      <th>Italy</th>\n",
       "      <td>8916.068182</td>\n",
       "      <td>42492.419540</td>\n",
       "      <td>0.955882</td>\n",
       "      <td>53.494318</td>\n",
       "      <td>14.347826</td>\n",
       "      <td>1270.290698</td>\n",
       "      <td>1.619883</td>\n",
       "      <td>4.902857</td>\n",
       "      <td>4.971591</td>\n",
       "      <td>1166.717391</td>\n",
       "      <td>5.137179</td>\n",
       "      <td>6.801911</td>\n",
       "      <td>4.468639</td>\n",
       "      <td>119.865854</td>\n",
       "    </tr>\n",
       "    <tr>\n",
       "      <th>Poland</th>\n",
       "      <td>9144.444444</td>\n",
       "      <td>71162.500000</td>\n",
       "      <td>1.000000</td>\n",
       "      <td>64.333333</td>\n",
       "      <td>60.000000</td>\n",
       "      <td>1379.222222</td>\n",
       "      <td>2.000000</td>\n",
       "      <td>4.666667</td>\n",
       "      <td>5.000000</td>\n",
       "      <td>NaN</td>\n",
       "      <td>5.222222</td>\n",
       "      <td>6.611111</td>\n",
       "      <td>4.422222</td>\n",
       "      <td>123.333333</td>\n",
       "    </tr>\n",
       "    <tr>\n",
       "      <th>Belgium</th>\n",
       "      <td>9236.592593</td>\n",
       "      <td>41948.740741</td>\n",
       "      <td>1.000000</td>\n",
       "      <td>59.407407</td>\n",
       "      <td>13.882353</td>\n",
       "      <td>1295.444444</td>\n",
       "      <td>1.925926</td>\n",
       "      <td>4.259259</td>\n",
       "      <td>4.888889</td>\n",
       "      <td>1147.363636</td>\n",
       "      <td>5.269231</td>\n",
       "      <td>6.269565</td>\n",
       "      <td>4.600000</td>\n",
       "      <td>120.884615</td>\n",
       "    </tr>\n",
       "    <tr>\n",
       "      <th>Spain</th>\n",
       "      <td>9384.861111</td>\n",
       "      <td>39208.388889</td>\n",
       "      <td>1.000000</td>\n",
       "      <td>64.194444</td>\n",
       "      <td>16.363636</td>\n",
       "      <td>1367.888889</td>\n",
       "      <td>1.805556</td>\n",
       "      <td>4.888889</td>\n",
       "      <td>4.833333</td>\n",
       "      <td>1185.971429</td>\n",
       "      <td>5.038889</td>\n",
       "      <td>6.400000</td>\n",
       "      <td>4.233333</td>\n",
       "      <td>122.972222</td>\n",
       "    </tr>\n",
       "    <tr>\n",
       "      <th>Austria</th>\n",
       "      <td>11486.636364</td>\n",
       "      <td>15379.090909</td>\n",
       "      <td>1.000000</td>\n",
       "      <td>58.545455</td>\n",
       "      <td>16.000000</td>\n",
       "      <td>1330.400000</td>\n",
       "      <td>1.272727</td>\n",
       "      <td>4.555556</td>\n",
       "      <td>5.000000</td>\n",
       "      <td>1228.000000</td>\n",
       "      <td>6.025000</td>\n",
       "      <td>7.562500</td>\n",
       "      <td>5.100000</td>\n",
       "      <td>137.875000</td>\n",
       "    </tr>\n",
       "    <tr>\n",
       "      <th>European Union</th>\n",
       "      <td>12254.661017</td>\n",
       "      <td>7332.333333</td>\n",
       "      <td>1.047619</td>\n",
       "      <td>64.275862</td>\n",
       "      <td>16.000000</td>\n",
       "      <td>1389.293103</td>\n",
       "      <td>1.047619</td>\n",
       "      <td>4.525424</td>\n",
       "      <td>5.000000</td>\n",
       "      <td>1225.837838</td>\n",
       "      <td>5.855932</td>\n",
       "      <td>7.398305</td>\n",
       "      <td>4.969492</td>\n",
       "      <td>134.237288</td>\n",
       "    </tr>\n",
       "    <tr>\n",
       "      <th>Germany</th>\n",
       "      <td>12446.948810</td>\n",
       "      <td>12600.657568</td>\n",
       "      <td>1.095729</td>\n",
       "      <td>60.958333</td>\n",
       "      <td>32.640394</td>\n",
       "      <td>1337.202166</td>\n",
       "      <td>0.904948</td>\n",
       "      <td>3.903110</td>\n",
       "      <td>4.995169</td>\n",
       "      <td>1174.455243</td>\n",
       "      <td>5.700996</td>\n",
       "      <td>7.227729</td>\n",
       "      <td>4.813300</td>\n",
       "      <td>147.700375</td>\n",
       "    </tr>\n",
       "    <tr>\n",
       "      <th>Netherlands</th>\n",
       "      <td>13150.309524</td>\n",
       "      <td>36315.292683</td>\n",
       "      <td>1.000000</td>\n",
       "      <td>66.571429</td>\n",
       "      <td>3.600000</td>\n",
       "      <td>1338.761905</td>\n",
       "      <td>1.756098</td>\n",
       "      <td>4.833333</td>\n",
       "      <td>5.000000</td>\n",
       "      <td>1082.951220</td>\n",
       "      <td>4.526316</td>\n",
       "      <td>5.518919</td>\n",
       "      <td>3.937838</td>\n",
       "      <td>106.837838</td>\n",
       "    </tr>\n",
       "    <tr>\n",
       "      <th>Croatia</th>\n",
       "      <td>14245.000000</td>\n",
       "      <td>9555.000000</td>\n",
       "      <td>1.000000</td>\n",
       "      <td>66.000000</td>\n",
       "      <td>NaN</td>\n",
       "      <td>1398.000000</td>\n",
       "      <td>1.000000</td>\n",
       "      <td>4.500000</td>\n",
       "      <td>5.000000</td>\n",
       "      <td>1199.000000</td>\n",
       "      <td>6.250000</td>\n",
       "      <td>8.050000</td>\n",
       "      <td>5.200000</td>\n",
       "      <td>143.000000</td>\n",
       "    </tr>\n",
       "    <tr>\n",
       "      <th rowspan=\"14\" valign=\"top\">Opel Insignia</th>\n",
       "      <th>Spain</th>\n",
       "      <td>14002.688525</td>\n",
       "      <td>79088.688525</td>\n",
       "      <td>0.981481</td>\n",
       "      <td>101.655738</td>\n",
       "      <td>15.409091</td>\n",
       "      <td>1637.694915</td>\n",
       "      <td>2.133333</td>\n",
       "      <td>4.983607</td>\n",
       "      <td>5.000000</td>\n",
       "      <td>1532.176471</td>\n",
       "      <td>4.392727</td>\n",
       "      <td>5.527273</td>\n",
       "      <td>3.789091</td>\n",
       "      <td>116.814815</td>\n",
       "    </tr>\n",
       "    <tr>\n",
       "      <th>France</th>\n",
       "      <td>14800.000000</td>\n",
       "      <td>69256.500000</td>\n",
       "      <td>1.000000</td>\n",
       "      <td>100.000000</td>\n",
       "      <td>6.500000</td>\n",
       "      <td>1598.000000</td>\n",
       "      <td>2.500000</td>\n",
       "      <td>5.000000</td>\n",
       "      <td>5.000000</td>\n",
       "      <td>1637.500000</td>\n",
       "      <td>4.266667</td>\n",
       "      <td>5.300000</td>\n",
       "      <td>3.700000</td>\n",
       "      <td>113.333333</td>\n",
       "    </tr>\n",
       "    <tr>\n",
       "      <th>Belgium</th>\n",
       "      <td>17635.243902</td>\n",
       "      <td>50041.243902</td>\n",
       "      <td>1.000000</td>\n",
       "      <td>104.951220</td>\n",
       "      <td>19.687500</td>\n",
       "      <td>1562.780488</td>\n",
       "      <td>1.682927</td>\n",
       "      <td>4.756098</td>\n",
       "      <td>5.000000</td>\n",
       "      <td>1528.703704</td>\n",
       "      <td>5.431579</td>\n",
       "      <td>6.875676</td>\n",
       "      <td>4.589189</td>\n",
       "      <td>132.342105</td>\n",
       "    </tr>\n",
       "    <tr>\n",
       "      <th>Austria</th>\n",
       "      <td>19234.413793</td>\n",
       "      <td>51527.137931</td>\n",
       "      <td>1.040000</td>\n",
       "      <td>102.517241</td>\n",
       "      <td>18.000000</td>\n",
       "      <td>1588.000000</td>\n",
       "      <td>1.851852</td>\n",
       "      <td>4.965517</td>\n",
       "      <td>5.000000</td>\n",
       "      <td>1606.440000</td>\n",
       "      <td>4.955556</td>\n",
       "      <td>6.228000</td>\n",
       "      <td>4.264000</td>\n",
       "      <td>125.370370</td>\n",
       "    </tr>\n",
       "    <tr>\n",
       "      <th>Italy</th>\n",
       "      <td>19738.000000</td>\n",
       "      <td>45984.631579</td>\n",
       "      <td>0.955224</td>\n",
       "      <td>107.526316</td>\n",
       "      <td>16.000000</td>\n",
       "      <td>1704.410959</td>\n",
       "      <td>1.805556</td>\n",
       "      <td>5.000000</td>\n",
       "      <td>5.000000</td>\n",
       "      <td>1662.308824</td>\n",
       "      <td>5.157746</td>\n",
       "      <td>6.661972</td>\n",
       "      <td>4.260563</td>\n",
       "      <td>135.114286</td>\n",
       "    </tr>\n",
       "    <tr>\n",
       "      <th>Denmark</th>\n",
       "      <td>21390.000000</td>\n",
       "      <td>24076.500000</td>\n",
       "      <td>1.000000</td>\n",
       "      <td>121.000000</td>\n",
       "      <td>NaN</td>\n",
       "      <td>1490.000000</td>\n",
       "      <td>2.000000</td>\n",
       "      <td>4.000000</td>\n",
       "      <td>5.000000</td>\n",
       "      <td>NaN</td>\n",
       "      <td>6.000000</td>\n",
       "      <td>7.700000</td>\n",
       "      <td>5.300000</td>\n",
       "      <td>139.000000</td>\n",
       "    </tr>\n",
       "    <tr>\n",
       "      <th>Germany</th>\n",
       "      <td>21822.920945</td>\n",
       "      <td>37804.155022</td>\n",
       "      <td>1.038882</td>\n",
       "      <td>117.226899</td>\n",
       "      <td>29.223810</td>\n",
       "      <td>1690.143305</td>\n",
       "      <td>1.518141</td>\n",
       "      <td>4.634398</td>\n",
       "      <td>4.997917</td>\n",
       "      <td>1593.849515</td>\n",
       "      <td>5.602935</td>\n",
       "      <td>7.007541</td>\n",
       "      <td>4.657309</td>\n",
       "      <td>169.475596</td>\n",
       "    </tr>\n",
       "    <tr>\n",
       "      <th>Sweden</th>\n",
       "      <td>23890.000000</td>\n",
       "      <td>24700.000000</td>\n",
       "      <td>1.000000</td>\n",
       "      <td>125.000000</td>\n",
       "      <td>NaN</td>\n",
       "      <td>1956.000000</td>\n",
       "      <td>1.000000</td>\n",
       "      <td>5.000000</td>\n",
       "      <td>5.000000</td>\n",
       "      <td>NaN</td>\n",
       "      <td>NaN</td>\n",
       "      <td>NaN</td>\n",
       "      <td>NaN</td>\n",
       "      <td>NaN</td>\n",
       "    </tr>\n",
       "    <tr>\n",
       "      <th>Hungary</th>\n",
       "      <td>24366.428571</td>\n",
       "      <td>13258.071429</td>\n",
       "      <td>1.000000</td>\n",
       "      <td>122.857143</td>\n",
       "      <td>60.000000</td>\n",
       "      <td>1497.714286</td>\n",
       "      <td>0.928571</td>\n",
       "      <td>5.000000</td>\n",
       "      <td>5.000000</td>\n",
       "      <td>1522.000000</td>\n",
       "      <td>6.192857</td>\n",
       "      <td>7.569231</td>\n",
       "      <td>5.284615</td>\n",
       "      <td>142.928571</td>\n",
       "    </tr>\n",
       "    <tr>\n",
       "      <th>Poland</th>\n",
       "      <td>25465.555556</td>\n",
       "      <td>3667.333333</td>\n",
       "      <td>1.000000</td>\n",
       "      <td>126.111111</td>\n",
       "      <td>28.000000</td>\n",
       "      <td>1594.800000</td>\n",
       "      <td>1.666667</td>\n",
       "      <td>4.333333</td>\n",
       "      <td>5.000000</td>\n",
       "      <td>1580.000000</td>\n",
       "      <td>6.122222</td>\n",
       "      <td>7.677778</td>\n",
       "      <td>5.188889</td>\n",
       "      <td>145.222222</td>\n",
       "    </tr>\n",
       "    <tr>\n",
       "      <th>Slovakia</th>\n",
       "      <td>26950.000000</td>\n",
       "      <td>58.333333</td>\n",
       "      <td>1.000000</td>\n",
       "      <td>138.333333</td>\n",
       "      <td>NaN</td>\n",
       "      <td>1562.000000</td>\n",
       "      <td>0.000000</td>\n",
       "      <td>5.000000</td>\n",
       "      <td>5.000000</td>\n",
       "      <td>1471.666667</td>\n",
       "      <td>6.400000</td>\n",
       "      <td>7.966667</td>\n",
       "      <td>5.466667</td>\n",
       "      <td>146.000000</td>\n",
       "    </tr>\n",
       "    <tr>\n",
       "      <th>European Union</th>\n",
       "      <td>29337.972973</td>\n",
       "      <td>4329.270270</td>\n",
       "      <td>1.500000</td>\n",
       "      <td>130.351351</td>\n",
       "      <td>24.000000</td>\n",
       "      <td>1672.702703</td>\n",
       "      <td>1.500000</td>\n",
       "      <td>4.472222</td>\n",
       "      <td>5.000000</td>\n",
       "      <td>1441.000000</td>\n",
       "      <td>6.421622</td>\n",
       "      <td>8.286486</td>\n",
       "      <td>5.297297</td>\n",
       "      <td>155.621622</td>\n",
       "    </tr>\n",
       "    <tr>\n",
       "      <th>Netherlands</th>\n",
       "      <td>31110.148936</td>\n",
       "      <td>12927.441558</td>\n",
       "      <td>1.000000</td>\n",
       "      <td>127.242857</td>\n",
       "      <td>22.147059</td>\n",
       "      <td>1608.678571</td>\n",
       "      <td>0.694444</td>\n",
       "      <td>4.489362</td>\n",
       "      <td>5.000000</td>\n",
       "      <td>1507.072165</td>\n",
       "      <td>5.856716</td>\n",
       "      <td>7.417164</td>\n",
       "      <td>4.962687</td>\n",
       "      <td>139.179688</td>\n",
       "    </tr>\n",
       "    <tr>\n",
       "      <th>Czech Republic</th>\n",
       "      <td>35200.000000</td>\n",
       "      <td>NaN</td>\n",
       "      <td>NaN</td>\n",
       "      <td>154.000000</td>\n",
       "      <td>NaN</td>\n",
       "      <td>1956.000000</td>\n",
       "      <td>NaN</td>\n",
       "      <td>5.000000</td>\n",
       "      <td>5.000000</td>\n",
       "      <td>1789.500000</td>\n",
       "      <td>7.100000</td>\n",
       "      <td>9.400000</td>\n",
       "      <td>5.800000</td>\n",
       "      <td>187.500000</td>\n",
       "    </tr>\n",
       "    <tr>\n",
       "      <th rowspan=\"13\" valign=\"top\">Renault Clio</th>\n",
       "      <th>Serbia</th>\n",
       "      <td>8490.000000</td>\n",
       "      <td>50100.000000</td>\n",
       "      <td>2.000000</td>\n",
       "      <td>54.000000</td>\n",
       "      <td>NaN</td>\n",
       "      <td>1149.000000</td>\n",
       "      <td>3.000000</td>\n",
       "      <td>4.000000</td>\n",
       "      <td>5.000000</td>\n",
       "      <td>NaN</td>\n",
       "      <td>5.600000</td>\n",
       "      <td>7.200000</td>\n",
       "      <td>4.700000</td>\n",
       "      <td>127.000000</td>\n",
       "    </tr>\n",
       "    <tr>\n",
       "      <th>Spain</th>\n",
       "      <td>8691.256410</td>\n",
       "      <td>60797.179487</td>\n",
       "      <td>1.000000</td>\n",
       "      <td>58.846154</td>\n",
       "      <td>14.880000</td>\n",
       "      <td>1315.743590</td>\n",
       "      <td>2.384615</td>\n",
       "      <td>5.000000</td>\n",
       "      <td>5.000000</td>\n",
       "      <td>1074.305556</td>\n",
       "      <td>4.000000</td>\n",
       "      <td>4.840541</td>\n",
       "      <td>3.547368</td>\n",
       "      <td>96.315789</td>\n",
       "    </tr>\n",
       "    <tr>\n",
       "      <th>Italy</th>\n",
       "      <td>9715.872000</td>\n",
       "      <td>42696.234783</td>\n",
       "      <td>0.953271</td>\n",
       "      <td>58.264000</td>\n",
       "      <td>19.092593</td>\n",
       "      <td>1287.624000</td>\n",
       "      <td>1.715517</td>\n",
       "      <td>5.000000</td>\n",
       "      <td>4.842975</td>\n",
       "      <td>1169.428571</td>\n",
       "      <td>4.071304</td>\n",
       "      <td>4.709649</td>\n",
       "      <td>3.632174</td>\n",
       "      <td>100.263636</td>\n",
       "    </tr>\n",
       "    <tr>\n",
       "      <th>European Union</th>\n",
       "      <td>11147.810345</td>\n",
       "      <td>399.069767</td>\n",
       "      <td>1.000000</td>\n",
       "      <td>58.051724</td>\n",
       "      <td>42.000000</td>\n",
       "      <td>947.244898</td>\n",
       "      <td>0.181818</td>\n",
       "      <td>4.827586</td>\n",
       "      <td>5.000000</td>\n",
       "      <td>1120.680000</td>\n",
       "      <td>4.986207</td>\n",
       "      <td>6.472414</td>\n",
       "      <td>4.315517</td>\n",
       "      <td>116.413793</td>\n",
       "    </tr>\n",
       "    <tr>\n",
       "      <th>Hungary</th>\n",
       "      <td>11290.000000</td>\n",
       "      <td>10.000000</td>\n",
       "      <td>NaN</td>\n",
       "      <td>66.000000</td>\n",
       "      <td>NaN</td>\n",
       "      <td>898.000000</td>\n",
       "      <td>NaN</td>\n",
       "      <td>4.000000</td>\n",
       "      <td>5.000000</td>\n",
       "      <td>NaN</td>\n",
       "      <td>5.000000</td>\n",
       "      <td>6.300000</td>\n",
       "      <td>4.200000</td>\n",
       "      <td>113.000000</td>\n",
       "    </tr>\n",
       "    <tr>\n",
       "      <th>Denmark</th>\n",
       "      <td>11371.000000</td>\n",
       "      <td>NaN</td>\n",
       "      <td>NaN</td>\n",
       "      <td>56.000000</td>\n",
       "      <td>NaN</td>\n",
       "      <td>898.000000</td>\n",
       "      <td>NaN</td>\n",
       "      <td>5.000000</td>\n",
       "      <td>NaN</td>\n",
       "      <td>NaN</td>\n",
       "      <td>5.000000</td>\n",
       "      <td>6.300000</td>\n",
       "      <td>4.200000</td>\n",
       "      <td>113.000000</td>\n",
       "    </tr>\n",
       "    <tr>\n",
       "      <th>Poland</th>\n",
       "      <td>11450.000000</td>\n",
       "      <td>10.000000</td>\n",
       "      <td>1.000000</td>\n",
       "      <td>56.000000</td>\n",
       "      <td>NaN</td>\n",
       "      <td>898.000000</td>\n",
       "      <td>0.000000</td>\n",
       "      <td>4.000000</td>\n",
       "      <td>5.000000</td>\n",
       "      <td>NaN</td>\n",
       "      <td>5.000000</td>\n",
       "      <td>6.300000</td>\n",
       "      <td>4.200000</td>\n",
       "      <td>113.000000</td>\n",
       "    </tr>\n",
       "    <tr>\n",
       "      <th>Austria</th>\n",
       "      <td>11538.540984</td>\n",
       "      <td>5666.471698</td>\n",
       "      <td>0.666667</td>\n",
       "      <td>59.524590</td>\n",
       "      <td>48.585366</td>\n",
       "      <td>988.816667</td>\n",
       "      <td>0.409091</td>\n",
       "      <td>4.733333</td>\n",
       "      <td>5.000000</td>\n",
       "      <td>1131.211538</td>\n",
       "      <td>6.146341</td>\n",
       "      <td>9.700000</td>\n",
       "      <td>6.447368</td>\n",
       "      <td>116.512195</td>\n",
       "    </tr>\n",
       "    <tr>\n",
       "      <th>Belgium</th>\n",
       "      <td>11721.923077</td>\n",
       "      <td>38915.692308</td>\n",
       "      <td>0.921053</td>\n",
       "      <td>72.435897</td>\n",
       "      <td>23.384615</td>\n",
       "      <td>1276.307692</td>\n",
       "      <td>1.783784</td>\n",
       "      <td>5.000000</td>\n",
       "      <td>4.846154</td>\n",
       "      <td>1172.842105</td>\n",
       "      <td>4.936111</td>\n",
       "      <td>6.113889</td>\n",
       "      <td>4.247222</td>\n",
       "      <td>114.750000</td>\n",
       "    </tr>\n",
       "    <tr>\n",
       "      <th>France</th>\n",
       "      <td>12352.095238</td>\n",
       "      <td>38179.066667</td>\n",
       "      <td>1.000000</td>\n",
       "      <td>74.095238</td>\n",
       "      <td>10.888889</td>\n",
       "      <td>1211.350000</td>\n",
       "      <td>2.230769</td>\n",
       "      <td>5.000000</td>\n",
       "      <td>4.250000</td>\n",
       "      <td>1096.421053</td>\n",
       "      <td>4.660000</td>\n",
       "      <td>5.700000</td>\n",
       "      <td>4.065000</td>\n",
       "      <td>108.700000</td>\n",
       "    </tr>\n",
       "    <tr>\n",
       "      <th>Germany</th>\n",
       "      <td>13884.413567</td>\n",
       "      <td>14987.435185</td>\n",
       "      <td>1.114130</td>\n",
       "      <td>84.339168</td>\n",
       "      <td>21.365854</td>\n",
       "      <td>1195.738462</td>\n",
       "      <td>1.098398</td>\n",
       "      <td>4.559211</td>\n",
       "      <td>4.934579</td>\n",
       "      <td>1186.145161</td>\n",
       "      <td>5.317123</td>\n",
       "      <td>6.722654</td>\n",
       "      <td>4.511670</td>\n",
       "      <td>122.707763</td>\n",
       "    </tr>\n",
       "    <tr>\n",
       "      <th>Netherlands</th>\n",
       "      <td>16798.024390</td>\n",
       "      <td>43240.634146</td>\n",
       "      <td>1.000000</td>\n",
       "      <td>87.625000</td>\n",
       "      <td>15.000000</td>\n",
       "      <td>1253.725000</td>\n",
       "      <td>1.975610</td>\n",
       "      <td>4.975610</td>\n",
       "      <td>5.000000</td>\n",
       "      <td>1126.926829</td>\n",
       "      <td>5.007692</td>\n",
       "      <td>6.076316</td>\n",
       "      <td>4.457895</td>\n",
       "      <td>115.088235</td>\n",
       "    </tr>\n",
       "    <tr>\n",
       "      <th>Bulgaria</th>\n",
       "      <td>17593.000000</td>\n",
       "      <td>NaN</td>\n",
       "      <td>NaN</td>\n",
       "      <td>77.000000</td>\n",
       "      <td>NaN</td>\n",
       "      <td>1329.000000</td>\n",
       "      <td>NaN</td>\n",
       "      <td>5.000000</td>\n",
       "      <td>5.000000</td>\n",
       "      <td>1199.000000</td>\n",
       "      <td>4.750000</td>\n",
       "      <td>5.550000</td>\n",
       "      <td>4.200000</td>\n",
       "      <td>114.500000</td>\n",
       "    </tr>\n",
       "    <tr>\n",
       "      <th rowspan=\"2\" valign=\"top\">Renault Duster</th>\n",
       "      <th>Belgium</th>\n",
       "      <td>10850.000000</td>\n",
       "      <td>NaN</td>\n",
       "      <td>0.000000</td>\n",
       "      <td>77.000000</td>\n",
       "      <td>NaN</td>\n",
       "      <td>NaN</td>\n",
       "      <td>NaN</td>\n",
       "      <td>5.000000</td>\n",
       "      <td>5.000000</td>\n",
       "      <td>NaN</td>\n",
       "      <td>1.000000</td>\n",
       "      <td>1.000000</td>\n",
       "      <td>1.000000</td>\n",
       "      <td>1.000000</td>\n",
       "    </tr>\n",
       "    <tr>\n",
       "      <th>Japan</th>\n",
       "      <td>13343.000000</td>\n",
       "      <td>NaN</td>\n",
       "      <td>NaN</td>\n",
       "      <td>77.000000</td>\n",
       "      <td>12.000000</td>\n",
       "      <td>1698.000000</td>\n",
       "      <td>NaN</td>\n",
       "      <td>5.000000</td>\n",
       "      <td>5.000000</td>\n",
       "      <td>NaN</td>\n",
       "      <td>10.000000</td>\n",
       "      <td>10.000000</td>\n",
       "      <td>10.000000</td>\n",
       "      <td>177.000000</td>\n",
       "    </tr>\n",
       "    <tr>\n",
       "      <th rowspan=\"9\" valign=\"top\">Renault Espace</th>\n",
       "      <th>France</th>\n",
       "      <td>19000.000000</td>\n",
       "      <td>87397.000000</td>\n",
       "      <td>1.000000</td>\n",
       "      <td>118.000000</td>\n",
       "      <td>6.000000</td>\n",
       "      <td>1598.000000</td>\n",
       "      <td>3.000000</td>\n",
       "      <td>5.000000</td>\n",
       "      <td>5.000000</td>\n",
       "      <td>1659.000000</td>\n",
       "      <td>4.600000</td>\n",
       "      <td>5.000000</td>\n",
       "      <td>4.400000</td>\n",
       "      <td>120.000000</td>\n",
       "    </tr>\n",
       "    <tr>\n",
       "      <th>Spain</th>\n",
       "      <td>25591.000000</td>\n",
       "      <td>52979.578947</td>\n",
       "      <td>1.000000</td>\n",
       "      <td>118.263158</td>\n",
       "      <td>13.833333</td>\n",
       "      <td>1600.222222</td>\n",
       "      <td>2.555556</td>\n",
       "      <td>4.947368</td>\n",
       "      <td>5.947368</td>\n",
       "      <td>1615.529412</td>\n",
       "      <td>4.900000</td>\n",
       "      <td>5.568421</td>\n",
       "      <td>4.494737</td>\n",
       "      <td>122.526316</td>\n",
       "    </tr>\n",
       "    <tr>\n",
       "      <th>Italy</th>\n",
       "      <td>26865.927273</td>\n",
       "      <td>44662.672727</td>\n",
       "      <td>0.960000</td>\n",
       "      <td>116.927273</td>\n",
       "      <td>16.533333</td>\n",
       "      <td>1620.962264</td>\n",
       "      <td>1.907407</td>\n",
       "      <td>4.981481</td>\n",
       "      <td>5.872727</td>\n",
       "      <td>1741.442308</td>\n",
       "      <td>4.716981</td>\n",
       "      <td>5.181132</td>\n",
       "      <td>4.416981</td>\n",
       "      <td>120.924528</td>\n",
       "    </tr>\n",
       "    <tr>\n",
       "      <th>Belgium</th>\n",
       "      <td>27189.702703</td>\n",
       "      <td>33307.194444</td>\n",
       "      <td>0.970588</td>\n",
       "      <td>117.972973</td>\n",
       "      <td>25.000000</td>\n",
       "      <td>1630.351351</td>\n",
       "      <td>1.588235</td>\n",
       "      <td>4.972973</td>\n",
       "      <td>6.486486</td>\n",
       "      <td>1726.235294</td>\n",
       "      <td>4.706667</td>\n",
       "      <td>5.117647</td>\n",
       "      <td>4.379412</td>\n",
       "      <td>121.171429</td>\n",
       "    </tr>\n",
       "    <tr>\n",
       "      <th>Germany</th>\n",
       "      <td>33394.405738</td>\n",
       "      <td>22670.906250</td>\n",
       "      <td>1.273885</td>\n",
       "      <td>143.684426</td>\n",
       "      <td>38.717949</td>\n",
       "      <td>1753.615702</td>\n",
       "      <td>1.204762</td>\n",
       "      <td>4.695473</td>\n",
       "      <td>5.904167</td>\n",
       "      <td>1734.898438</td>\n",
       "      <td>6.047737</td>\n",
       "      <td>7.329339</td>\n",
       "      <td>5.288703</td>\n",
       "      <td>146.966805</td>\n",
       "    </tr>\n",
       "    <tr>\n",
       "      <th>Austria</th>\n",
       "      <td>34669.363636</td>\n",
       "      <td>13747.240741</td>\n",
       "      <td>1.000000</td>\n",
       "      <td>139.927273</td>\n",
       "      <td>45.230769</td>\n",
       "      <td>1853.055556</td>\n",
       "      <td>0.537037</td>\n",
       "      <td>4.907407</td>\n",
       "      <td>5.641509</td>\n",
       "      <td>1713.050000</td>\n",
       "      <td>5.977500</td>\n",
       "      <td>7.130303</td>\n",
       "      <td>5.331250</td>\n",
       "      <td>148.358974</td>\n",
       "    </tr>\n",
       "    <tr>\n",
       "      <th>European Union</th>\n",
       "      <td>36895.000000</td>\n",
       "      <td>30.000000</td>\n",
       "      <td>NaN</td>\n",
       "      <td>165.000000</td>\n",
       "      <td>36.000000</td>\n",
       "      <td>1798.000000</td>\n",
       "      <td>NaN</td>\n",
       "      <td>4.500000</td>\n",
       "      <td>7.000000</td>\n",
       "      <td>1708.000000</td>\n",
       "      <td>7.400000</td>\n",
       "      <td>9.400000</td>\n",
       "      <td>6.150000</td>\n",
       "      <td>168.000000</td>\n",
       "    </tr>\n",
       "    <tr>\n",
       "      <th>Netherlands</th>\n",
       "      <td>41176.929825</td>\n",
       "      <td>35236.649123</td>\n",
       "      <td>1.000000</td>\n",
       "      <td>141.210526</td>\n",
       "      <td>12.200000</td>\n",
       "      <td>1729.298246</td>\n",
       "      <td>1.210526</td>\n",
       "      <td>4.964912</td>\n",
       "      <td>6.454545</td>\n",
       "      <td>1640.228070</td>\n",
       "      <td>5.992727</td>\n",
       "      <td>7.320000</td>\n",
       "      <td>5.232727</td>\n",
       "      <td>138.342105</td>\n",
       "    </tr>\n",
       "    <tr>\n",
       "      <th>Czech Republic</th>\n",
       "      <td>41900.000000</td>\n",
       "      <td>5000.000000</td>\n",
       "      <td>1.000000</td>\n",
       "      <td>118.000000</td>\n",
       "      <td>60.000000</td>\n",
       "      <td>1598.000000</td>\n",
       "      <td>NaN</td>\n",
       "      <td>5.000000</td>\n",
       "      <td>7.000000</td>\n",
       "      <td>NaN</td>\n",
       "      <td>4.700000</td>\n",
       "      <td>5.100000</td>\n",
       "      <td>4.400000</td>\n",
       "      <td>123.000000</td>\n",
       "    </tr>\n",
       "  </tbody>\n",
       "</table>\n",
       "</div>"
      ],
      "text/plain": [
       "                                       price            km  prev_owner  \\\n",
       "make_model     Country version                                           \n",
       "Audi A1        Luxembourg       14200.000000  66900.000000    1.000000   \n",
       "               Switzerland      16999.000000  52800.000000    1.000000   \n",
       "               Belgium          17267.895833  33894.644444    0.787234   \n",
       "               Spain            17446.730159  20694.327869    0.902439   \n",
       "               Slovakia         17600.000000           NaN         NaN   \n",
       "               Germany          18911.552803  26726.139062    1.141447   \n",
       "               France           18974.000000  23950.000000    1.000000   \n",
       "               Austria          19424.210526  19150.842105    1.000000   \n",
       "               Netherlands      19573.544118  35465.000000    1.000000   \n",
       "               Poland           19630.000000           NaN         NaN   \n",
       "               Italy            19876.391026  21450.316547    0.837838   \n",
       "               European Union   19914.910448   2150.646154    0.833333   \n",
       "               Denmark          22034.000000   1500.000000    1.000000   \n",
       "               Romania          26450.000000     50.000000    1.000000   \n",
       "Audi A2        Germany          28200.000000  26166.000000    1.000000   \n",
       "Audi A3        Sweden           19311.500000  21505.000000    1.500000   \n",
       "               Germany          19552.274406  52385.448864    1.051873   \n",
       "               Austria          19882.722222  43727.222222    0.944444   \n",
       "               Spain            19966.650000  37931.898305    0.871795   \n",
       "               Belgium          20209.848837  37137.848101    0.823529   \n",
       "               France           20530.666667  74320.000000    0.750000   \n",
       "               Slovenia         20985.000000   6021.000000    1.000000   \n",
       "               Italy            21816.915014  35469.571848    0.935154   \n",
       "               Hungary          22250.000000     10.000000         NaN   \n",
       "               European Union   23785.374429   1421.075377    1.031250   \n",
       "               Denmark          24048.666667           NaN         NaN   \n",
       "               Czech Republic   24616.388889   1147.333333    1.000000   \n",
       "               Poland           26910.000000      5.000000    1.000000   \n",
       "               Netherlands      27879.210526  61419.921053    1.000000   \n",
       "Opel Astra     Spain            12462.723404  53853.840909    0.933333   \n",
       "               France           12540.000000  65213.000000    1.000000   \n",
       "               Italy            12662.309278  63568.537634    0.988095   \n",
       "               Romania          12978.000000  11268.000000    2.000000   \n",
       "               Belgium          13632.628571  44484.114286    1.029412   \n",
       "               Austria          14680.733333  36950.933333    0.933333   \n",
       "               Croatia          16114.500000  15279.500000    1.000000   \n",
       "               Hungary          16544.000000  21655.571429    1.000000   \n",
       "               Poland           16782.700000  12880.444444    1.142857   \n",
       "               Egypt            16990.000000      5.000000         NaN   \n",
       "               Germany          17285.547619  35390.735872    1.093706   \n",
       "               European Union   18699.461538   3522.603175    1.000000   \n",
       "               Czech Republic   21589.032258           NaN         NaN   \n",
       "               Netherlands      22042.935065  39447.678571    1.000000   \n",
       "Opel Corsa     Italy             8916.068182  42492.419540    0.955882   \n",
       "               Poland            9144.444444  71162.500000    1.000000   \n",
       "               Belgium           9236.592593  41948.740741    1.000000   \n",
       "               Spain             9384.861111  39208.388889    1.000000   \n",
       "               Austria          11486.636364  15379.090909    1.000000   \n",
       "               European Union   12254.661017   7332.333333    1.047619   \n",
       "               Germany          12446.948810  12600.657568    1.095729   \n",
       "               Netherlands      13150.309524  36315.292683    1.000000   \n",
       "               Croatia          14245.000000   9555.000000    1.000000   \n",
       "Opel Insignia  Spain            14002.688525  79088.688525    0.981481   \n",
       "               France           14800.000000  69256.500000    1.000000   \n",
       "               Belgium          17635.243902  50041.243902    1.000000   \n",
       "               Austria          19234.413793  51527.137931    1.040000   \n",
       "               Italy            19738.000000  45984.631579    0.955224   \n",
       "               Denmark          21390.000000  24076.500000    1.000000   \n",
       "               Germany          21822.920945  37804.155022    1.038882   \n",
       "               Sweden           23890.000000  24700.000000    1.000000   \n",
       "               Hungary          24366.428571  13258.071429    1.000000   \n",
       "               Poland           25465.555556   3667.333333    1.000000   \n",
       "               Slovakia         26950.000000     58.333333    1.000000   \n",
       "               European Union   29337.972973   4329.270270    1.500000   \n",
       "               Netherlands      31110.148936  12927.441558    1.000000   \n",
       "               Czech Republic   35200.000000           NaN         NaN   \n",
       "Renault Clio   Serbia            8490.000000  50100.000000    2.000000   \n",
       "               Spain             8691.256410  60797.179487    1.000000   \n",
       "               Italy             9715.872000  42696.234783    0.953271   \n",
       "               European Union   11147.810345    399.069767    1.000000   \n",
       "               Hungary          11290.000000     10.000000         NaN   \n",
       "               Denmark          11371.000000           NaN         NaN   \n",
       "               Poland           11450.000000     10.000000    1.000000   \n",
       "               Austria          11538.540984   5666.471698    0.666667   \n",
       "               Belgium          11721.923077  38915.692308    0.921053   \n",
       "               France           12352.095238  38179.066667    1.000000   \n",
       "               Germany          13884.413567  14987.435185    1.114130   \n",
       "               Netherlands      16798.024390  43240.634146    1.000000   \n",
       "               Bulgaria         17593.000000           NaN         NaN   \n",
       "Renault Duster Belgium          10850.000000           NaN    0.000000   \n",
       "               Japan            13343.000000           NaN         NaN   \n",
       "Renault Espace France           19000.000000  87397.000000    1.000000   \n",
       "               Spain            25591.000000  52979.578947    1.000000   \n",
       "               Italy            26865.927273  44662.672727    0.960000   \n",
       "               Belgium          27189.702703  33307.194444    0.970588   \n",
       "               Germany          33394.405738  22670.906250    1.273885   \n",
       "               Austria          34669.363636  13747.240741    1.000000   \n",
       "               European Union   36895.000000     30.000000         NaN   \n",
       "               Netherlands      41176.929825  35236.649123    1.000000   \n",
       "               Czech Republic   41900.000000   5000.000000    1.000000   \n",
       "\n",
       "                                        hp   Warranty  Displacement       age  \\\n",
       "make_model     Country version                                                  \n",
       "Audi A1        Luxembourg        66.000000   6.000000   1422.000000  3.000000   \n",
       "               Switzerland      110.000000        NaN   1395.000000  3.000000   \n",
       "               Belgium           69.437500  19.500000   1164.723404  2.052632   \n",
       "               Spain             76.365079  26.440678   1279.936508  1.389831   \n",
       "               Slovakia          70.000000        NaN    999.000000       NaN   \n",
       "               Germany           76.492167  21.074074   1188.481675  1.731079   \n",
       "               France            68.400000  22.500000   1104.750000  1.800000   \n",
       "               Austria           74.263158  60.000000   1021.263158  0.684211   \n",
       "               Netherlands       71.529412   6.000000   1087.500000  1.764706   \n",
       "               Poland            85.000000        NaN    999.000000       NaN   \n",
       "               Italy             77.025641  21.111111   1233.556291  1.201493   \n",
       "               European Union    85.761194        NaN   1084.000000  0.769231   \n",
       "               Denmark           83.000000        NaN    999.000000  2.000000   \n",
       "               Romania           85.000000  24.000000    999.000000  0.000000   \n",
       "Audi A2        Germany           85.000000        NaN   1598.000000  1.000000   \n",
       "Audi A3        Sweden            95.500000  12.000000   1347.500000  2.000000   \n",
       "               Germany           91.606860  14.315789   1493.158730  1.956647   \n",
       "               Austria           86.000000  45.600000   1479.888889  1.764706   \n",
       "               Spain             87.833333  20.708333   1605.172414  1.654545   \n",
       "               Belgium           86.174419  17.733333   1393.261905  1.816901   \n",
       "               France            92.666667   6.000000   1421.833333  2.666667   \n",
       "               Slovenia          85.000000  12.000000    999.000000  2.000000   \n",
       "               Italy             90.382436  20.333333   1581.192982  1.504478   \n",
       "               Hungary           93.333333        NaN   1165.333333       NaN   \n",
       "               European Union    95.849315  33.600000   1349.593607  0.315789   \n",
       "               Denmark           98.333333        NaN   1265.133333       NaN   \n",
       "               Czech Republic    90.555556  24.000000   1109.888889  0.600000   \n",
       "               Poland           110.000000  36.000000   1498.000000  0.000000   \n",
       "               Netherlands      103.631579   3.000000   1456.289474  1.815789   \n",
       "Opel Astra     Spain             85.425532  14.896552   1424.000000  1.818182   \n",
       "               France            81.000000   6.000000   1598.000000  2.000000   \n",
       "               Italy             88.402062  14.785714   1551.466667  1.979381   \n",
       "               Romania           74.000000        NaN   1398.000000  1.000000   \n",
       "               Belgium           85.771429  15.529412   1358.285714  1.857143   \n",
       "               Austria           86.466667  10.800000   1398.400000  1.571429   \n",
       "               Croatia           93.500000  60.000000   1199.000000  1.000000   \n",
       "               Hungary          101.714286  44.000000   1336.857143  1.285714   \n",
       "               Poland           105.100000  60.000000   1398.800000  0.555556   \n",
       "               Egypt             66.000000        NaN    999.000000       NaN   \n",
       "               Germany           98.060714  36.025316   1405.793517  1.360719   \n",
       "               European Union    96.738462  16.000000   1346.492308  0.500000   \n",
       "               Czech Republic   103.000000        NaN   1398.612903       NaN   \n",
       "               Netherlands      100.328947  12.600000   1395.805195  1.309091   \n",
       "Opel Corsa     Italy             53.494318  14.347826   1270.290698  1.619883   \n",
       "               Poland            64.333333  60.000000   1379.222222  2.000000   \n",
       "               Belgium           59.407407  13.882353   1295.444444  1.925926   \n",
       "               Spain             64.194444  16.363636   1367.888889  1.805556   \n",
       "               Austria           58.545455  16.000000   1330.400000  1.272727   \n",
       "               European Union    64.275862  16.000000   1389.293103  1.047619   \n",
       "               Germany           60.958333  32.640394   1337.202166  0.904948   \n",
       "               Netherlands       66.571429   3.600000   1338.761905  1.756098   \n",
       "               Croatia           66.000000        NaN   1398.000000  1.000000   \n",
       "Opel Insignia  Spain            101.655738  15.409091   1637.694915  2.133333   \n",
       "               France           100.000000   6.500000   1598.000000  2.500000   \n",
       "               Belgium          104.951220  19.687500   1562.780488  1.682927   \n",
       "               Austria          102.517241  18.000000   1588.000000  1.851852   \n",
       "               Italy            107.526316  16.000000   1704.410959  1.805556   \n",
       "               Denmark          121.000000        NaN   1490.000000  2.000000   \n",
       "               Germany          117.226899  29.223810   1690.143305  1.518141   \n",
       "               Sweden           125.000000        NaN   1956.000000  1.000000   \n",
       "               Hungary          122.857143  60.000000   1497.714286  0.928571   \n",
       "               Poland           126.111111  28.000000   1594.800000  1.666667   \n",
       "               Slovakia         138.333333        NaN   1562.000000  0.000000   \n",
       "               European Union   130.351351  24.000000   1672.702703  1.500000   \n",
       "               Netherlands      127.242857  22.147059   1608.678571  0.694444   \n",
       "               Czech Republic   154.000000        NaN   1956.000000       NaN   \n",
       "Renault Clio   Serbia            54.000000        NaN   1149.000000  3.000000   \n",
       "               Spain             58.846154  14.880000   1315.743590  2.384615   \n",
       "               Italy             58.264000  19.092593   1287.624000  1.715517   \n",
       "               European Union    58.051724  42.000000    947.244898  0.181818   \n",
       "               Hungary           66.000000        NaN    898.000000       NaN   \n",
       "               Denmark           56.000000        NaN    898.000000       NaN   \n",
       "               Poland            56.000000        NaN    898.000000  0.000000   \n",
       "               Austria           59.524590  48.585366    988.816667  0.409091   \n",
       "               Belgium           72.435897  23.384615   1276.307692  1.783784   \n",
       "               France            74.095238  10.888889   1211.350000  2.230769   \n",
       "               Germany           84.339168  21.365854   1195.738462  1.098398   \n",
       "               Netherlands       87.625000  15.000000   1253.725000  1.975610   \n",
       "               Bulgaria          77.000000        NaN   1329.000000       NaN   \n",
       "Renault Duster Belgium           77.000000        NaN           NaN       NaN   \n",
       "               Japan             77.000000  12.000000   1698.000000       NaN   \n",
       "Renault Espace France           118.000000   6.000000   1598.000000  3.000000   \n",
       "               Spain            118.263158  13.833333   1600.222222  2.555556   \n",
       "               Italy            116.927273  16.533333   1620.962264  1.907407   \n",
       "               Belgium          117.972973  25.000000   1630.351351  1.588235   \n",
       "               Germany          143.684426  38.717949   1753.615702  1.204762   \n",
       "               Austria          139.927273  45.230769   1853.055556  0.537037   \n",
       "               European Union   165.000000  36.000000   1798.000000       NaN   \n",
       "               Netherlands      141.210526  12.200000   1729.298246  1.210526   \n",
       "               Czech Republic   118.000000  60.000000   1598.000000       NaN   \n",
       "\n",
       "                                nr_of_doors  nr_of_seats       weight  \\\n",
       "make_model     Country version                                          \n",
       "Audi A1        Luxembourg          5.000000     4.000000  1120.000000   \n",
       "               Switzerland         5.000000     4.000000  1230.000000   \n",
       "               Belgium             4.872340     4.391304  1186.555556   \n",
       "               Spain               4.841270     4.920635  1343.629032   \n",
       "               Slovakia            5.000000     5.000000  1165.000000   \n",
       "               Germany             4.240741     4.633941  1183.136929   \n",
       "               France              5.000000     4.250000  1103.750000   \n",
       "               Austria             4.894737     4.631579  1144.789474   \n",
       "               Netherlands         4.882353     4.333333  1072.941176   \n",
       "               Poland              4.000000     4.000000          NaN   \n",
       "               Italy               4.767742     4.509804  1203.165289   \n",
       "               European Union      4.880597     4.969697  1189.215686   \n",
       "               Denmark             4.000000     4.066667          NaN   \n",
       "               Romania             5.000000     5.000000          NaN   \n",
       "Audi A2        Germany             5.000000     5.000000          NaN   \n",
       "Audi A3        Sweden              4.500000     5.000000          NaN   \n",
       "               Germany             4.367725     4.951351  1324.142857   \n",
       "               Austria             4.888889     5.000000  1323.625000   \n",
       "               Spain               4.733333     5.000000  1489.385965   \n",
       "               Belgium             4.729412     5.000000  1390.376623   \n",
       "               France              4.666667     5.000000  1261.250000   \n",
       "               Slovenia            5.000000     5.000000  1341.000000   \n",
       "               Italy               4.891738     4.997151  1361.868852   \n",
       "               Hungary             4.000000     5.000000          NaN   \n",
       "               European Union      4.835616     5.000000  1329.430894   \n",
       "               Denmark             4.000000     5.000000          NaN   \n",
       "               Czech Republic      4.888889     5.000000  1315.000000   \n",
       "               Poland              5.000000     5.000000  1325.000000   \n",
       "               Netherlands         4.763158     5.000000  1242.972973   \n",
       "Opel Astra     Spain               4.914894     5.000000  1323.891304   \n",
       "               France              5.000000     5.000000  1378.000000   \n",
       "               Italy               5.000000     4.989011  1431.918919   \n",
       "               Romania             5.000000     5.000000          NaN   \n",
       "               Belgium             4.857143     5.000000  1366.259259   \n",
       "               Austria             4.928571     5.000000  1372.000000   \n",
       "               Croatia             4.500000     5.000000          NaN   \n",
       "               Hungary             4.857143     5.000000          NaN   \n",
       "               Poland              4.600000     5.000000  1273.000000   \n",
       "               Egypt               4.000000     5.000000          NaN   \n",
       "               Germany             4.655131     4.998771  1369.828025   \n",
       "               European Union      4.907692     5.000000  1341.290323   \n",
       "               Czech Republic      5.000000     5.000000  1346.322581   \n",
       "               Netherlands         4.974026     5.000000  1270.819444   \n",
       "Opel Corsa     Italy               4.902857     4.971591  1166.717391   \n",
       "               Poland              4.666667     5.000000          NaN   \n",
       "               Belgium             4.259259     4.888889  1147.363636   \n",
       "               Spain               4.888889     4.833333  1185.971429   \n",
       "               Austria             4.555556     5.000000  1228.000000   \n",
       "               European Union      4.525424     5.000000  1225.837838   \n",
       "               Germany             3.903110     4.995169  1174.455243   \n",
       "               Netherlands         4.833333     5.000000  1082.951220   \n",
       "               Croatia             4.500000     5.000000  1199.000000   \n",
       "Opel Insignia  Spain               4.983607     5.000000  1532.176471   \n",
       "               France              5.000000     5.000000  1637.500000   \n",
       "               Belgium             4.756098     5.000000  1528.703704   \n",
       "               Austria             4.965517     5.000000  1606.440000   \n",
       "               Italy               5.000000     5.000000  1662.308824   \n",
       "               Denmark             4.000000     5.000000          NaN   \n",
       "               Germany             4.634398     4.997917  1593.849515   \n",
       "               Sweden              5.000000     5.000000          NaN   \n",
       "               Hungary             5.000000     5.000000  1522.000000   \n",
       "               Poland              4.333333     5.000000  1580.000000   \n",
       "               Slovakia            5.000000     5.000000  1471.666667   \n",
       "               European Union      4.472222     5.000000  1441.000000   \n",
       "               Netherlands         4.489362     5.000000  1507.072165   \n",
       "               Czech Republic      5.000000     5.000000  1789.500000   \n",
       "Renault Clio   Serbia              4.000000     5.000000          NaN   \n",
       "               Spain               5.000000     5.000000  1074.305556   \n",
       "               Italy               5.000000     4.842975  1169.428571   \n",
       "               European Union      4.827586     5.000000  1120.680000   \n",
       "               Hungary             4.000000     5.000000          NaN   \n",
       "               Denmark             5.000000          NaN          NaN   \n",
       "               Poland              4.000000     5.000000          NaN   \n",
       "               Austria             4.733333     5.000000  1131.211538   \n",
       "               Belgium             5.000000     4.846154  1172.842105   \n",
       "               France              5.000000     4.250000  1096.421053   \n",
       "               Germany             4.559211     4.934579  1186.145161   \n",
       "               Netherlands         4.975610     5.000000  1126.926829   \n",
       "               Bulgaria            5.000000     5.000000  1199.000000   \n",
       "Renault Duster Belgium             5.000000     5.000000          NaN   \n",
       "               Japan               5.000000     5.000000          NaN   \n",
       "Renault Espace France              5.000000     5.000000  1659.000000   \n",
       "               Spain               4.947368     5.947368  1615.529412   \n",
       "               Italy               4.981481     5.872727  1741.442308   \n",
       "               Belgium             4.972973     6.486486  1726.235294   \n",
       "               Germany             4.695473     5.904167  1734.898438   \n",
       "               Austria             4.907407     5.641509  1713.050000   \n",
       "               European Union      4.500000     7.000000  1708.000000   \n",
       "               Netherlands         4.964912     6.454545  1640.228070   \n",
       "               Czech Republic      5.000000     7.000000          NaN   \n",
       "\n",
       "                                cons_comb  cons_city  cons_country  \\\n",
       "make_model     Country version                                       \n",
       "Audi A1        Luxembourg        3.700000   4.200000      3.400000   \n",
       "               Switzerland       4.700000   5.800000      4.100000   \n",
       "               Belgium           8.397674  10.275610      7.504878   \n",
       "               Spain             4.074194   4.725806      3.475806   \n",
       "               Slovakia          4.700000   5.900000      4.000000   \n",
       "               Germany           4.430709   5.361367      3.884383   \n",
       "               France            4.275000   5.033333      3.733333   \n",
       "               Austria           4.563158   5.675000      3.956250   \n",
       "               Netherlands       4.283077   5.183077      3.743077   \n",
       "               Poland            4.750000   5.850000      4.100000   \n",
       "               Italy             4.254110   5.086301      3.754110   \n",
       "               European Union    4.855224   5.968657      4.161194   \n",
       "               Denmark           4.746667   5.806667      4.133333   \n",
       "               Romania           4.900000   5.900000      4.300000   \n",
       "Audi A2        Germany           4.900000   5.600000      4.500000   \n",
       "Audi A3        Sweden            5.000000   6.200000      4.300000   \n",
       "               Germany           4.415531   5.209809      3.958470   \n",
       "               Austria           4.125000   4.807143      3.707143   \n",
       "               Spain             4.125862   4.682759      3.768966   \n",
       "               Belgium           4.327778   4.875410      3.806557   \n",
       "               France            4.750000   5.350000      4.016667   \n",
       "               Slovenia          4.600000   5.500000      4.100000   \n",
       "               Italy             4.223077   4.811607      3.839941   \n",
       "               Hungary           5.283333   6.283333      4.716667   \n",
       "               European Union    4.992523   5.971495      4.364953   \n",
       "               Denmark           4.713333   5.820000      4.086667   \n",
       "               Czech Republic    5.116667   6.177778      4.516667   \n",
       "               Poland            5.200000   6.525000      4.450000   \n",
       "               Netherlands       4.550000   5.519444      3.983333   \n",
       "Opel Astra     Spain             4.223404   4.991489      3.712766   \n",
       "               France            3.500000   4.000000      3.300000   \n",
       "               Italy             4.050588   4.796471      3.643023   \n",
       "               Romania                NaN        NaN           NaN   \n",
       "               Belgium           4.303125   5.225000      3.781250   \n",
       "               Austria           4.309091   5.236364      3.736364   \n",
       "               Croatia           4.850000   6.100000      4.100000   \n",
       "               Hungary           5.171429   6.542857      4.414286   \n",
       "               Poland            5.740000   7.180000      4.680000   \n",
       "               Egypt             4.700000   5.400000      4.200000   \n",
       "               Germany           5.019745   6.331074      4.250512   \n",
       "               European Union    5.324615   6.638462      4.513846   \n",
       "               Czech Republic    5.658065   7.132258      4.809677   \n",
       "               Netherlands       4.862857   6.130882      4.200000   \n",
       "Opel Corsa     Italy             5.137179   6.801911      4.468639   \n",
       "               Poland            5.222222   6.611111      4.422222   \n",
       "               Belgium           5.269231   6.269565      4.600000   \n",
       "               Spain             5.038889   6.400000      4.233333   \n",
       "               Austria           6.025000   7.562500      5.100000   \n",
       "               European Union    5.855932   7.398305      4.969492   \n",
       "               Germany           5.700996   7.227729      4.813300   \n",
       "               Netherlands       4.526316   5.518919      3.937838   \n",
       "               Croatia           6.250000   8.050000      5.200000   \n",
       "Opel Insignia  Spain             4.392727   5.527273      3.789091   \n",
       "               France            4.266667   5.300000      3.700000   \n",
       "               Belgium           5.431579   6.875676      4.589189   \n",
       "               Austria           4.955556   6.228000      4.264000   \n",
       "               Italy             5.157746   6.661972      4.260563   \n",
       "               Denmark           6.000000   7.700000      5.300000   \n",
       "               Germany           5.602935   7.007541      4.657309   \n",
       "               Sweden                 NaN        NaN           NaN   \n",
       "               Hungary           6.192857   7.569231      5.284615   \n",
       "               Poland            6.122222   7.677778      5.188889   \n",
       "               Slovakia          6.400000   7.966667      5.466667   \n",
       "               European Union    6.421622   8.286486      5.297297   \n",
       "               Netherlands       5.856716   7.417164      4.962687   \n",
       "               Czech Republic    7.100000   9.400000      5.800000   \n",
       "Renault Clio   Serbia            5.600000   7.200000      4.700000   \n",
       "               Spain             4.000000   4.840541      3.547368   \n",
       "               Italy             4.071304   4.709649      3.632174   \n",
       "               European Union    4.986207   6.472414      4.315517   \n",
       "               Hungary           5.000000   6.300000      4.200000   \n",
       "               Denmark           5.000000   6.300000      4.200000   \n",
       "               Poland            5.000000   6.300000      4.200000   \n",
       "               Austria           6.146341   9.700000      6.447368   \n",
       "               Belgium           4.936111   6.113889      4.247222   \n",
       "               France            4.660000   5.700000      4.065000   \n",
       "               Germany           5.317123   6.722654      4.511670   \n",
       "               Netherlands       5.007692   6.076316      4.457895   \n",
       "               Bulgaria          4.750000   5.550000      4.200000   \n",
       "Renault Duster Belgium           1.000000   1.000000      1.000000   \n",
       "               Japan            10.000000  10.000000     10.000000   \n",
       "Renault Espace France            4.600000   5.000000      4.400000   \n",
       "               Spain             4.900000   5.568421      4.494737   \n",
       "               Italy             4.716981   5.181132      4.416981   \n",
       "               Belgium           4.706667   5.117647      4.379412   \n",
       "               Germany           6.047737   7.329339      5.288703   \n",
       "               Austria           5.977500   7.130303      5.331250   \n",
       "               European Union    7.400000   9.400000      6.150000   \n",
       "               Netherlands       5.992727   7.320000      5.232727   \n",
       "               Czech Republic    4.700000   5.100000      4.400000   \n",
       "\n",
       "                                CO2_Emission  \n",
       "make_model     Country version                \n",
       "Audi A1        Luxembourg          97.000000  \n",
       "               Switzerland        109.000000  \n",
       "               Belgium             99.767442  \n",
       "               Spain              100.048387  \n",
       "               Slovakia           106.000000  \n",
       "               Germany            105.186016  \n",
       "               France             101.750000  \n",
       "               Austria            104.368421  \n",
       "               Netherlands        101.907407  \n",
       "               Poland             107.000000  \n",
       "               Italy              103.233577  \n",
       "               European Union     111.179104  \n",
       "               Denmark            108.533333  \n",
       "               Romania            111.000000  \n",
       "Audi A2        Germany                   NaN  \n",
       "Audi A3        Sweden             116.000000  \n",
       "               Germany            109.745902  \n",
       "               Austria            105.125000  \n",
       "               Spain              107.534483  \n",
       "               Belgium            106.361111  \n",
       "               France             114.166667  \n",
       "               Slovenia           106.000000  \n",
       "               Italy              107.585075  \n",
       "               Hungary            120.500000  \n",
       "               European Union     117.121495  \n",
       "               Denmark            108.266667  \n",
       "               Czech Republic     119.555556  \n",
       "               Poland             118.750000  \n",
       "               Netherlands        110.961538  \n",
       "Opel Astra     Spain              110.404255  \n",
       "               France              93.000000  \n",
       "               Italy              107.670886  \n",
       "               Romania                   NaN  \n",
       "               Belgium            104.375000  \n",
       "               Austria            107.000000  \n",
       "               Croatia            113.000000  \n",
       "               Hungary            122.000000  \n",
       "               Poland             132.600000  \n",
       "               Egypt              107.000000  \n",
       "               Germany            165.897959  \n",
       "               European Union     125.476923  \n",
       "               Czech Republic     133.935484  \n",
       "               Netherlands        114.450000  \n",
       "Opel Corsa     Italy              119.865854  \n",
       "               Poland             123.333333  \n",
       "               Belgium            120.884615  \n",
       "               Spain              122.972222  \n",
       "               Austria            137.875000  \n",
       "               European Union     134.237288  \n",
       "               Germany            147.700375  \n",
       "               Netherlands        106.837838  \n",
       "               Croatia            143.000000  \n",
       "Opel Insignia  Spain              116.814815  \n",
       "               France             113.333333  \n",
       "               Belgium            132.342105  \n",
       "               Austria            125.370370  \n",
       "               Italy              135.114286  \n",
       "               Denmark            139.000000  \n",
       "               Germany            169.475596  \n",
       "               Sweden                    NaN  \n",
       "               Hungary            142.928571  \n",
       "               Poland             145.222222  \n",
       "               Slovakia           146.000000  \n",
       "               European Union     155.621622  \n",
       "               Netherlands        139.179688  \n",
       "               Czech Republic     187.500000  \n",
       "Renault Clio   Serbia             127.000000  \n",
       "               Spain               96.315789  \n",
       "               Italy              100.263636  \n",
       "               European Union     116.413793  \n",
       "               Hungary            113.000000  \n",
       "               Denmark            113.000000  \n",
       "               Poland             113.000000  \n",
       "               Austria            116.512195  \n",
       "               Belgium            114.750000  \n",
       "               France             108.700000  \n",
       "               Germany            122.707763  \n",
       "               Netherlands        115.088235  \n",
       "               Bulgaria           114.500000  \n",
       "Renault Duster Belgium              1.000000  \n",
       "               Japan              177.000000  \n",
       "Renault Espace France             120.000000  \n",
       "               Spain              122.526316  \n",
       "               Italy              120.924528  \n",
       "               Belgium            121.171429  \n",
       "               Germany            146.966805  \n",
       "               Austria            148.358974  \n",
       "               European Union     168.000000  \n",
       "               Netherlands        138.342105  \n",
       "               Czech Republic     123.000000  "
      ]
     },
     "execution_count": 384,
     "metadata": {},
     "output_type": "execute_result"
    }
   ],
   "source": [
    "df.groupby([\"make_model\", \"Country version\"]).mean().sort_values([\"make_model\", \"price\"])"
   ]
  },
  {
   "cell_type": "code",
   "execution_count": 385,
   "metadata": {},
   "outputs": [],
   "source": [
    "df.drop(\"Country version\",axis=1,inplace=True)"
   ]
  },
  {
   "cell_type": "code",
   "execution_count": 386,
   "metadata": {},
   "outputs": [
    {
     "data": {
      "text/plain": [
       "(15919, 32)"
      ]
     },
     "execution_count": 386,
     "metadata": {},
     "output_type": "execute_result"
    }
   ],
   "source": [
    "df.shape"
   ]
  },
  {
   "cell_type": "code",
   "execution_count": 387,
   "metadata": {},
   "outputs": [
    {
     "data": {
      "text/plain": [
       "Index(['make_model', 'body_type', 'price', 'vat', 'km', 'prev_owner', 'hp',\n",
       "       'Type', 'Warranty', 'Body Color', 'Paint Type', 'Displacement',\n",
       "       'Cylinders', 'Drive chain', 'Fuel', 'Comfort_Convenience',\n",
       "       'Entertainment_Media', 'Extras', 'Gears', 'age', 'Inspection_new',\n",
       "       'Upholstery_Type', 'Upholstery_color', 'nr_of_doors', 'nr_of_seats',\n",
       "       'Gearing_Type', 'weight', 'cons_comb', 'cons_city', 'cons_country',\n",
       "       'CO2_Emission', 'Emission_Class'],\n",
       "      dtype='object')"
      ]
     },
     "execution_count": 387,
     "metadata": {},
     "output_type": "execute_result"
    }
   ],
   "source": [
    "df.columns"
   ]
  },
  {
   "cell_type": "code",
   "execution_count": 388,
   "metadata": {},
   "outputs": [
    {
     "name": "stdout",
     "output_type": "stream",
     "text": [
      "<class 'pandas.core.frame.DataFrame'>\n",
      "RangeIndex: 15919 entries, 0 to 15918\n",
      "Data columns (total 32 columns):\n",
      " #   Column               Non-Null Count  Dtype  \n",
      "---  ------               --------------  -----  \n",
      " 0   make_model           15919 non-null  object \n",
      " 1   body_type            15859 non-null  object \n",
      " 2   price                15919 non-null  int64  \n",
      " 3   vat                  11406 non-null  object \n",
      " 4   km                   14895 non-null  float64\n",
      " 5   prev_owner           9254 non-null   float64\n",
      " 6   hp                   15831 non-null  float64\n",
      " 7   Type                 15917 non-null  object \n",
      " 8   Warranty             4853 non-null   float64\n",
      " 9   Body Color           15322 non-null  object \n",
      " 10  Paint Type           10147 non-null  object \n",
      " 11  Displacement         15423 non-null  float64\n",
      " 12  Cylinders            10239 non-null  object \n",
      " 13  Drive chain          9061 non-null   object \n",
      " 14  Fuel                 15919 non-null  object \n",
      " 15  Comfort_Convenience  14999 non-null  object \n",
      " 16  Entertainment_Media  14545 non-null  object \n",
      " 17  Extras               12957 non-null  object \n",
      " 18  Gears                11207 non-null  object \n",
      " 19  age                  14322 non-null  float64\n",
      " 20  Inspection_new       3932 non-null   object \n",
      " 21  Upholstery_Type      11048 non-null  object \n",
      " 22  Upholstery_color     10841 non-null  object \n",
      " 23  nr_of_doors          15707 non-null  float64\n",
      " 24  nr_of_seats          14942 non-null  float64\n",
      " 25  Gearing_Type         15919 non-null  object \n",
      " 26  weight               8945 non-null   float64\n",
      " 27  cons_comb            13886 non-null  float64\n",
      " 28  cons_city            13483 non-null  float64\n",
      " 29  cons_country         13543 non-null  float64\n",
      " 30  CO2_Emission         13483 non-null  float64\n",
      " 31  Emission_Class       12291 non-null  object \n",
      "dtypes: float64(13), int64(1), object(18)\n",
      "memory usage: 3.9+ MB\n"
     ]
    }
   ],
   "source": [
    "df.info()"
   ]
  },
  {
   "cell_type": "code",
   "execution_count": 389,
   "metadata": {},
   "outputs": [],
   "source": [
    "df.to_csv(\"Clean_Capstone.csv\", index=False)"
   ]
  }
 ],
 "metadata": {
  "colab": {
   "name": "DAwPy-Capstone_Project_(AutoScout)_Student.ipynb",
   "provenance": []
  },
  "kernelspec": {
   "display_name": "Python 3.9.7 ('base')",
   "language": "python",
   "name": "python3"
  },
  "language_info": {
   "codemirror_mode": {
    "name": "ipython",
    "version": 3
   },
   "file_extension": ".py",
   "mimetype": "text/x-python",
   "name": "python",
   "nbconvert_exporter": "python",
   "pygments_lexer": "ipython3",
   "version": "3.9.7"
  },
  "toc": {
   "base_numbering": "1.",
   "nav_menu": {},
   "number_sections": true,
   "sideBar": true,
   "skip_h1_title": false,
   "title_cell": "Table of Contents",
   "title_sidebar": "Contents",
   "toc_cell": false,
   "toc_position": {
    "height": "397.28px",
    "left": "241px",
    "top": "237.32px",
    "width": "284px"
   },
   "toc_section_display": true,
   "toc_window_display": true
  },
  "vscode": {
   "interpreter": {
    "hash": "d3ad0e4091038abe9230f4e2af681b1fc182a9b26b8adbc06871e344543b7903"
   }
  }
 },
 "nbformat": 4,
 "nbformat_minor": 1
}
